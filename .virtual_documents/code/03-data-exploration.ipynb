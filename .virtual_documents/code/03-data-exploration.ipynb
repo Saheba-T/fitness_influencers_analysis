# standard imports
import os
import pandas as pd
import numpy as np

# for visualizations using bokeh
from bokeh.io import output_notebook, show
from bokeh.plotting import figure
from bokeh.models import ColumnDataSource
output_notebook()


# Get current working directory
cwd = os.path.dirname(os.getcwd())
# Create filepath to the processed subfolder in data folder
path = cwd + "/data/processed"

# Read in the csv files from the processed data folder
channels_df = pd.read_csv(path + "/fitness_channels_processed_2023_06_28.csv")
videos_df = pd.read_csv(path + "/fitness_videos_processed_2023_06_28.csv")


videos_df.head()


# Specify the columns to check for missing values
columns_to_check = ['workoutTime', 'workoutType',
                    'bodyPart', 'standingWorkout',
                    'noEquipment', 'noJumping',
                    'lowImpact', 'strengthTraining']

# Filter out rows with missing values in all the specified columns
workouts_df = videos_df.dropna(subset=columns_to_check, how='all')


print("The number of rows dropped from the videos dataframe is:",
      videos_df.shape[0] - workouts_df.shape[0])


grouped = workouts_df.groupby('workoutTime')
grouped


list(grouped.groups.keys())


# Prepare data for violin plot
grouped = workouts_df.groupby('workoutTime')
source = ColumnDataSource(grouped)

# Create figure
p = figure(height=400,
           title="Video Length Comparison (Views)",
           x_range=list(grouped.groups.keys()),
           toolbar_location=None,
           tools="")

# Create violin plot
p.violin(source=source,
         x='Video Length',
         y='Views',
         width=0.5,
         line_color='black',
         fill_color='skyblue')

p.xgrid.grid_line_color = None
p.y_range.start = 0
p.yaxis.axis_label = "Views"

show(p)







