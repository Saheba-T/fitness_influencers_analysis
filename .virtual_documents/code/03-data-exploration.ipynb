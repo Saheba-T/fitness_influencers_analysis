# standard imports
import os
import pandas as pd
import numpy as np

# for visualizations using bokeh
from bokeh.io import output_notebook, show
from bokeh.plotting import figure
from bokeh.models import ColumnDataSource

pd.set_option('display.max_columns', 50)
output_notebook()


# Read in the csv files from the processed data folder
channels_df = pd.read_csv("../data/processed/fitness_channels_processed_2023_06_28.csv")
videos_df = pd.read_csv("../data/processed/fitness_videos_processed_2023_06_28.csv")


videos_df.head()


source = ColumnDataSource(workouts_df)

p = figure(title="Correlation between Views and Likes",
           x_axis_label='Views',
           y_axis_label='Likes',
           height=350)

p.circle(x='viewCount', y='likeCount', source=source)

show(p)



source = ColumnDataSource(workouts_df)

p = figure(title="Correlation between Number of Tags and Views",
           x_axis_label='tagsCount',
           y_axis_label='viewCount',
           height=350)

p.circle(x='tagsCount', y='viewCount', source=source)

show(p)





grouped = workouts_df.groupby('workoutTime')
grouped


list(grouped.groups.keys())


# Prepare data for violin plot
grouped = workouts_df.groupby('workoutTime')
source = ColumnDataSource(grouped)

# list of different workout times
time_groups = list(grouped.groups.keys())
xrange = [str(x) for x in time_groups]

# Create figure
p = figure(height=400,
           title="",
           x_range=xrange,
           toolbar_location=None,
           tools="")

# Create violin plot
p.violin(source=source,
         x_range='workoutTime',
         y_scale='viewCount')

p.xgrid.grid_line_color = None
p.yaxis.axis_label = "Views"

show(p)







