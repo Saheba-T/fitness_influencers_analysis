{
 "cells": [
  {
   "cell_type": "markdown",
   "id": "ab0189ff",
   "metadata": {},
   "source": [
    "There are 5 youtube fitness channels I am interested in. The channel names are MadFit, blogilates, emi wong, Rebecca-Louise and Chloe Ting.\n",
    "\n",
    "I used the YouTube Data API v3 to scrape the channel and video information. \n",
    "To do so, the following steps were carried out in order:\n",
    "- created a project on Google Developers Console\n",
    "- requested an authorization credential (API key). \n",
    "- enabled Youtube API for my project \n",
    "\n",
    "As for the functions that I have used to scrape the youtube data, I give credit to thu-vu92 for using the code provided her GitHub project 'youtube-api-analysis'. This project was inspired by the YouTube API tutorial video created by Thu Vu data analytics, titled 'Youtube API for Python: How to Create a Unique Data Portfolio Project'."
   ]
  },
  {
   "cell_type": "markdown",
   "id": "e3c412e7-4391-4318-93dc-10c1c336f131",
   "metadata": {},
   "source": [
    "## References"
   ]
  },
  {
   "cell_type": "markdown",
   "id": "df784d08-ed51-4ee7-8813-a6b7ea5d5e2a",
   "metadata": {},
   "source": [
    "[1] Google Developers. (2023). YouTube Data API v3. Retrieved date placeholder, from https://developers.google.com/youtube/v3  \n",
    "[2] Thu Vu data analytics. (2022, January 22). Youtube API for Python: How to Create a Unique Data Portfolio Project [Video file]. Retrieved from https://www.youtube.com/watch?v=D56_Cx36oGY"
   ]
  },
  {
   "cell_type": "code",
   "execution_count": null,
   "id": "47052b76-c47a-42b0-b246-2859ce6b51bd",
   "metadata": {},
   "outputs": [],
   "source": []
  }
 ],
 "metadata": {
  "kernelspec": {
   "display_name": "Python 3 (ipykernel)",
   "language": "python",
   "name": "python3"
  },
  "language_info": {
   "codemirror_mode": {
    "name": "ipython",
    "version": 3
   },
   "file_extension": ".py",
   "mimetype": "text/x-python",
   "name": "python",
   "nbconvert_exporter": "python",
   "pygments_lexer": "ipython3",
   "version": "3.9.16"
  }
 },
 "nbformat": 4,
 "nbformat_minor": 5
}
