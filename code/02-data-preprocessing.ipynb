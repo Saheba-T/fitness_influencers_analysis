{
 "cells": [
  {
   "cell_type": "markdown",
   "id": "adcf37c6-831f-47d6-af97-05de94a42414",
   "metadata": {},
   "source": [
    "## Data Pre-Processing"
   ]
  },
  {
   "cell_type": "markdown",
   "id": "075e8e58-7afa-4d66-be51-6bf2c1a4d6f6",
   "metadata": {},
   "source": []
  },
  {
   "cell_type": "code",
   "execution_count": 1,
   "id": "d2197680-4917-4213-8e56-60439f0875e9",
   "metadata": {
    "tags": []
   },
   "outputs": [],
   "source": [
    "import os\n",
    "import ast\n",
    "import isodate\n",
    "import pandas as pd\n",
    "import numpy as np\n",
    "\n",
    "from dateutil import parser"
   ]
  },
  {
   "cell_type": "markdown",
   "id": "97f6ff9c-5f7d-4998-bd8f-ec871652d564",
   "metadata": {},
   "source": [
    "#### Read the channels and videos files into dataframes"
   ]
  },
  {
   "cell_type": "code",
   "execution_count": 2,
   "id": "ed0c9af1-fcca-42b0-9067-0356279a3396",
   "metadata": {},
   "outputs": [],
   "source": [
    "cwd = os.path.dirname(os.getcwd())\n",
    "path = cwd + \"/data/raw\"\n",
    "channels_df = pd.read_csv(path + \"/channels_data.csv\")\n",
    "videos_df = pd.read_csv(path + \"/videos_data.csv\")"
   ]
  },
  {
   "cell_type": "code",
   "execution_count": 3,
   "id": "2a5ed4b1-9e2a-452b-8177-b4459b9abfe4",
   "metadata": {},
   "outputs": [
    {
     "data": {
      "text/html": [
       "<div>\n",
       "<style scoped>\n",
       "    .dataframe tbody tr th:only-of-type {\n",
       "        vertical-align: middle;\n",
       "    }\n",
       "\n",
       "    .dataframe tbody tr th {\n",
       "        vertical-align: top;\n",
       "    }\n",
       "\n",
       "    .dataframe thead th {\n",
       "        text-align: right;\n",
       "    }\n",
       "</style>\n",
       "<table border=\"1\" class=\"dataframe\">\n",
       "  <thead>\n",
       "    <tr style=\"text-align: right;\">\n",
       "      <th></th>\n",
       "      <th>Unnamed: 0</th>\n",
       "      <th>ChannelName</th>\n",
       "      <th>ChannelDescription</th>\n",
       "      <th>PublishedDate</th>\n",
       "      <th>TotalSubscribers</th>\n",
       "      <th>TotalViews</th>\n",
       "      <th>TotalVideos</th>\n",
       "      <th>playlistID</th>\n",
       "    </tr>\n",
       "  </thead>\n",
       "  <tbody>\n",
       "    <tr>\n",
       "      <th>0</th>\n",
       "      <td>0</td>\n",
       "      <td>Chloe Ting</td>\n",
       "      <td>Subscribe to my channel and find weekly workou...</td>\n",
       "      <td>2011-08-17T04:29:09Z</td>\n",
       "      <td>24600000</td>\n",
       "      <td>2965643413</td>\n",
       "      <td>405</td>\n",
       "      <td>UUCgLoMYIyP0U56dEhEL1wXQ</td>\n",
       "    </tr>\n",
       "    <tr>\n",
       "      <th>1</th>\n",
       "      <td>1</td>\n",
       "      <td>blogilates</td>\n",
       "      <td>Hey guys! My name is Cassey Ho, I am a certifi...</td>\n",
       "      <td>2009-06-13T09:05:48Z</td>\n",
       "      <td>8580000</td>\n",
       "      <td>2723093080</td>\n",
       "      <td>1177</td>\n",
       "      <td>UUIJwWYOfsCfz6PjxbONYXSg</td>\n",
       "    </tr>\n",
       "    <tr>\n",
       "      <th>2</th>\n",
       "      <td>2</td>\n",
       "      <td>Rebecca-Louise</td>\n",
       "      <td>Hey, \\n\\nWelcome to #TEAMBURN 🙌🏻 \\n\\nI am so e...</td>\n",
       "      <td>2012-09-22T18:04:00Z</td>\n",
       "      <td>719000</td>\n",
       "      <td>116976058</td>\n",
       "      <td>1239</td>\n",
       "      <td>UUi0AqmA_3DGPFCu5qY0LLSg</td>\n",
       "    </tr>\n",
       "    <tr>\n",
       "      <th>3</th>\n",
       "      <td>3</td>\n",
       "      <td>emi wong</td>\n",
       "      <td>welcome to my channel!\\nhope my videos can hel...</td>\n",
       "      <td>2014-11-02T14:43:34Z</td>\n",
       "      <td>6060000</td>\n",
       "      <td>810394833</td>\n",
       "      <td>490</td>\n",
       "      <td>UUvGEK5_U-kLgO6-AMDPeTUQ</td>\n",
       "    </tr>\n",
       "    <tr>\n",
       "      <th>4</th>\n",
       "      <td>4</td>\n",
       "      <td>MadFit</td>\n",
       "      <td>This is a place where I post REAL TIME, AT HOM...</td>\n",
       "      <td>2018-03-02T01:46:06Z</td>\n",
       "      <td>7950000</td>\n",
       "      <td>932630071</td>\n",
       "      <td>710</td>\n",
       "      <td>UUpQ34afVgk8cRQBjSJ1xuJQ</td>\n",
       "    </tr>\n",
       "  </tbody>\n",
       "</table>\n",
       "</div>"
      ],
      "text/plain": [
       "   Unnamed: 0     ChannelName  \\\n",
       "0           0      Chloe Ting   \n",
       "1           1      blogilates   \n",
       "2           2  Rebecca-Louise   \n",
       "3           3        emi wong   \n",
       "4           4          MadFit   \n",
       "\n",
       "                                  ChannelDescription         PublishedDate  \\\n",
       "0  Subscribe to my channel and find weekly workou...  2011-08-17T04:29:09Z   \n",
       "1  Hey guys! My name is Cassey Ho, I am a certifi...  2009-06-13T09:05:48Z   \n",
       "2  Hey, \\n\\nWelcome to #TEAMBURN 🙌🏻 \\n\\nI am so e...  2012-09-22T18:04:00Z   \n",
       "3  welcome to my channel!\\nhope my videos can hel...  2014-11-02T14:43:34Z   \n",
       "4  This is a place where I post REAL TIME, AT HOM...  2018-03-02T01:46:06Z   \n",
       "\n",
       "   TotalSubscribers  TotalViews  TotalVideos                playlistID  \n",
       "0          24600000  2965643413          405  UUCgLoMYIyP0U56dEhEL1wXQ  \n",
       "1           8580000  2723093080         1177  UUIJwWYOfsCfz6PjxbONYXSg  \n",
       "2            719000   116976058         1239  UUi0AqmA_3DGPFCu5qY0LLSg  \n",
       "3           6060000   810394833          490  UUvGEK5_U-kLgO6-AMDPeTUQ  \n",
       "4           7950000   932630071          710  UUpQ34afVgk8cRQBjSJ1xuJQ  "
      ]
     },
     "execution_count": 3,
     "metadata": {},
     "output_type": "execute_result"
    }
   ],
   "source": [
    "channels_df.head()"
   ]
  },
  {
   "cell_type": "code",
   "execution_count": 4,
   "id": "2facf121-d84f-4593-af38-e232a3ceaf3d",
   "metadata": {},
   "outputs": [
    {
     "data": {
      "text/html": [
       "<div>\n",
       "<style scoped>\n",
       "    .dataframe tbody tr th:only-of-type {\n",
       "        vertical-align: middle;\n",
       "    }\n",
       "\n",
       "    .dataframe tbody tr th {\n",
       "        vertical-align: top;\n",
       "    }\n",
       "\n",
       "    .dataframe thead th {\n",
       "        text-align: right;\n",
       "    }\n",
       "</style>\n",
       "<table border=\"1\" class=\"dataframe\">\n",
       "  <thead>\n",
       "    <tr style=\"text-align: right;\">\n",
       "      <th></th>\n",
       "      <th>Unnamed: 0</th>\n",
       "      <th>video_id</th>\n",
       "      <th>channelTitle</th>\n",
       "      <th>title</th>\n",
       "      <th>description</th>\n",
       "      <th>tags</th>\n",
       "      <th>publishedAt</th>\n",
       "      <th>viewCount</th>\n",
       "      <th>likeCount</th>\n",
       "      <th>favouriteCount</th>\n",
       "      <th>commentCount</th>\n",
       "      <th>duration</th>\n",
       "      <th>definition</th>\n",
       "    </tr>\n",
       "  </thead>\n",
       "  <tbody>\n",
       "    <tr>\n",
       "      <th>0</th>\n",
       "      <td>0</td>\n",
       "      <td>5GLA8MrlDnM</td>\n",
       "      <td>Chloe Ting</td>\n",
       "      <td>A day in my life living in Korea</td>\n",
       "      <td>Short vlog from a day out and about while in S...</td>\n",
       "      <td>['dayinmylife', 'korea', 'seoul', 'vlog', 'chl...</td>\n",
       "      <td>2023-06-05T14:51:22Z</td>\n",
       "      <td>163593</td>\n",
       "      <td>6344.0</td>\n",
       "      <td>NaN</td>\n",
       "      <td>714.0</td>\n",
       "      <td>PT12M37S</td>\n",
       "      <td>hd</td>\n",
       "    </tr>\n",
       "    <tr>\n",
       "      <th>1</th>\n",
       "      <td>1</td>\n",
       "      <td>IOJ7Fxa8e2Y</td>\n",
       "      <td>Chloe Ting</td>\n",
       "      <td>GROW YOUR BOOTY with these exercises</td>\n",
       "      <td>See the full video here: https://youtu.be/4zuY...</td>\n",
       "      <td>['glute workout', 'booty workout', 'gym workou...</td>\n",
       "      <td>2023-05-24T15:32:44Z</td>\n",
       "      <td>119223</td>\n",
       "      <td>4016.0</td>\n",
       "      <td>NaN</td>\n",
       "      <td>58.0</td>\n",
       "      <td>PT23S</td>\n",
       "      <td>hd</td>\n",
       "    </tr>\n",
       "    <tr>\n",
       "      <th>2</th>\n",
       "      <td>2</td>\n",
       "      <td>ljNgkSctkXg</td>\n",
       "      <td>Chloe Ting</td>\n",
       "      <td>INTENSE Full Body Workout - 30 Min No Equipment</td>\n",
       "      <td>This is a 30 min full body intense workout fro...</td>\n",
       "      <td>['workout', 'home workout', 'full body workout...</td>\n",
       "      <td>2023-05-17T14:00:27Z</td>\n",
       "      <td>392463</td>\n",
       "      <td>11738.0</td>\n",
       "      <td>NaN</td>\n",
       "      <td>735.0</td>\n",
       "      <td>PT31M14S</td>\n",
       "      <td>hd</td>\n",
       "    </tr>\n",
       "    <tr>\n",
       "      <th>3</th>\n",
       "      <td>3</td>\n",
       "      <td>0rL2496zybs</td>\n",
       "      <td>Chloe Ting</td>\n",
       "      <td>10 Min Core &amp; Upper Body | No Equip Home Workout!</td>\n",
       "      <td>This is episode 4 of the 2023 Summer Shred Cha...</td>\n",
       "      <td>['core', 'abs', 'upper body', 'upper body work...</td>\n",
       "      <td>2023-05-15T14:00:01Z</td>\n",
       "      <td>244965</td>\n",
       "      <td>8028.0</td>\n",
       "      <td>NaN</td>\n",
       "      <td>282.0</td>\n",
       "      <td>PT10M52S</td>\n",
       "      <td>hd</td>\n",
       "    </tr>\n",
       "    <tr>\n",
       "      <th>4</th>\n",
       "      <td>4</td>\n",
       "      <td>PEX2uefaUAY</td>\n",
       "      <td>Chloe Ting</td>\n",
       "      <td>Perky Booty &amp; Leg Workout | 20 min Glute Workout</td>\n",
       "      <td>This is episode 3 of the 2023 Summer Shred Cha...</td>\n",
       "      <td>['tiny waist', 'waist', 'booty', 'booty workou...</td>\n",
       "      <td>2023-05-09T14:00:15Z</td>\n",
       "      <td>470075</td>\n",
       "      <td>13519.0</td>\n",
       "      <td>NaN</td>\n",
       "      <td>428.0</td>\n",
       "      <td>PT20M39S</td>\n",
       "      <td>hd</td>\n",
       "    </tr>\n",
       "  </tbody>\n",
       "</table>\n",
       "</div>"
      ],
      "text/plain": [
       "   Unnamed: 0     video_id channelTitle  \\\n",
       "0           0  5GLA8MrlDnM   Chloe Ting   \n",
       "1           1  IOJ7Fxa8e2Y   Chloe Ting   \n",
       "2           2  ljNgkSctkXg   Chloe Ting   \n",
       "3           3  0rL2496zybs   Chloe Ting   \n",
       "4           4  PEX2uefaUAY   Chloe Ting   \n",
       "\n",
       "                                               title  \\\n",
       "0                   A day in my life living in Korea   \n",
       "1               GROW YOUR BOOTY with these exercises   \n",
       "2    INTENSE Full Body Workout - 30 Min No Equipment   \n",
       "3  10 Min Core & Upper Body | No Equip Home Workout!   \n",
       "4   Perky Booty & Leg Workout | 20 min Glute Workout   \n",
       "\n",
       "                                         description  \\\n",
       "0  Short vlog from a day out and about while in S...   \n",
       "1  See the full video here: https://youtu.be/4zuY...   \n",
       "2  This is a 30 min full body intense workout fro...   \n",
       "3  This is episode 4 of the 2023 Summer Shred Cha...   \n",
       "4  This is episode 3 of the 2023 Summer Shred Cha...   \n",
       "\n",
       "                                                tags           publishedAt  \\\n",
       "0  ['dayinmylife', 'korea', 'seoul', 'vlog', 'chl...  2023-06-05T14:51:22Z   \n",
       "1  ['glute workout', 'booty workout', 'gym workou...  2023-05-24T15:32:44Z   \n",
       "2  ['workout', 'home workout', 'full body workout...  2023-05-17T14:00:27Z   \n",
       "3  ['core', 'abs', 'upper body', 'upper body work...  2023-05-15T14:00:01Z   \n",
       "4  ['tiny waist', 'waist', 'booty', 'booty workou...  2023-05-09T14:00:15Z   \n",
       "\n",
       "   viewCount  likeCount  favouriteCount  commentCount  duration definition  \n",
       "0     163593     6344.0             NaN         714.0  PT12M37S         hd  \n",
       "1     119223     4016.0             NaN          58.0     PT23S         hd  \n",
       "2     392463    11738.0             NaN         735.0  PT31M14S         hd  \n",
       "3     244965     8028.0             NaN         282.0  PT10M52S         hd  \n",
       "4     470075    13519.0             NaN         428.0  PT20M39S         hd  "
      ]
     },
     "execution_count": 4,
     "metadata": {},
     "output_type": "execute_result"
    }
   ],
   "source": [
    "videos_df.head()"
   ]
  },
  {
   "cell_type": "markdown",
   "id": "82e003d3-1aa4-42c5-a978-e953b7071580",
   "metadata": {},
   "source": [
    "#### Drop redundant column and rows"
   ]
  },
  {
   "cell_type": "code",
   "execution_count": 5,
   "id": "8f057a43-ecf8-4b43-9ab9-60b8d6f132c2",
   "metadata": {},
   "outputs": [],
   "source": [
    "channels_df.drop('Unnamed: 0', axis = 1, inplace = True)\n",
    "videos_df.drop('Unnamed: 0', axis = 1, inplace = True)"
   ]
  },
  {
   "cell_type": "code",
   "execution_count": 6,
   "id": "0c40d1ab-68a3-4170-8c29-5c808b289dac",
   "metadata": {},
   "outputs": [
    {
     "data": {
      "text/plain": [
       "(False, False)"
      ]
     },
     "execution_count": 6,
     "metadata": {},
     "output_type": "execute_result"
    }
   ],
   "source": [
    "(channels_df.duplicated().any(),videos_df.duplicated().any())"
   ]
  },
  {
   "cell_type": "markdown",
   "id": "4e2a9230-badf-4965-b561-b1f538e3aa50",
   "metadata": {},
   "source": [
    "#### Missing data"
   ]
  },
  {
   "cell_type": "code",
   "execution_count": 7,
   "id": "08e50670-6306-48f2-ab61-8b5584360778",
   "metadata": {},
   "outputs": [
    {
     "data": {
      "text/plain": [
       "ChannelName           False\n",
       "ChannelDescription    False\n",
       "PublishedDate         False\n",
       "TotalSubscribers      False\n",
       "TotalViews            False\n",
       "TotalVideos           False\n",
       "playlistID            False\n",
       "dtype: bool"
      ]
     },
     "execution_count": 7,
     "metadata": {},
     "output_type": "execute_result"
    }
   ],
   "source": [
    "channels_df.isnull().any()"
   ]
  },
  {
   "cell_type": "code",
   "execution_count": 8,
   "id": "fd67da71-e057-4a53-a1ac-cba14a5a0e40",
   "metadata": {},
   "outputs": [
    {
     "data": {
      "text/plain": [
       "video_id          False\n",
       "channelTitle      False\n",
       "title             False\n",
       "description        True\n",
       "tags               True\n",
       "publishedAt       False\n",
       "viewCount         False\n",
       "likeCount          True\n",
       "favouriteCount     True\n",
       "commentCount       True\n",
       "duration          False\n",
       "definition        False\n",
       "dtype: bool"
      ]
     },
     "execution_count": 8,
     "metadata": {},
     "output_type": "execute_result"
    }
   ],
   "source": [
    "videos_df.isnull().any()"
   ]
  },
  {
   "cell_type": "code",
   "execution_count": 9,
   "id": "18d1bb60-f54f-4742-be70-417efef098c6",
   "metadata": {},
   "outputs": [
    {
     "data": {
      "text/plain": [
       "description         4.200845\n",
       "tags               12.552821\n",
       "likeCount           0.919712\n",
       "favouriteCount    100.000000\n",
       "commentCount        0.248571\n",
       "dtype: float64"
      ]
     },
     "execution_count": 9,
     "metadata": {},
     "output_type": "execute_result"
    }
   ],
   "source": [
    "# Find the percentage of missing values from columns that contains them\n",
    "missingval_columns = videos_df.loc[:, ['description', 'tags', 'likeCount','favouriteCount','commentCount']]\n",
    "missingval_columns.isnull().sum() / missingval_columns.shape[0] * 100.00"
   ]
  },
  {
   "cell_type": "code",
   "execution_count": 10,
   "id": "424698ba-81dd-45e9-97d0-208efaa15577",
   "metadata": {},
   "outputs": [],
   "source": [
    "videos_df.drop('favouriteCount', axis=1, inplace=True)"
   ]
  },
  {
   "cell_type": "code",
   "execution_count": 11,
   "id": "c1ab53dc-ed38-4755-8569-58f0796e0148",
   "metadata": {},
   "outputs": [
    {
     "data": {
      "text/plain": [
       "array(['hd', 'sd'], dtype=object)"
      ]
     },
     "execution_count": 11,
     "metadata": {},
     "output_type": "execute_result"
    }
   ],
   "source": [
    "videos_df['definition'].unique()"
   ]
  },
  {
   "cell_type": "code",
   "execution_count": 12,
   "id": "71092279-0d60-4eff-8dba-77ace2374f3e",
   "metadata": {},
   "outputs": [
    {
     "data": {
      "text/plain": [
       "hd    99.552573\n",
       "sd     0.447427\n",
       "Name: definition, dtype: float64"
      ]
     },
     "execution_count": 12,
     "metadata": {},
     "output_type": "execute_result"
    }
   ],
   "source": [
    "videos_df['definition'].value_counts() / videos_df['definition'].shape[0] * 100"
   ]
  },
  {
   "cell_type": "code",
   "execution_count": 13,
   "id": "7be914e8-3e29-4cf0-8dc0-33739086fabc",
   "metadata": {},
   "outputs": [],
   "source": [
    "videos_df.drop('definition', axis=1, inplace=True)"
   ]
  },
  {
   "cell_type": "code",
   "execution_count": 14,
   "id": "9568b410-d3d8-4442-8e1a-fb2db91516e4",
   "metadata": {},
   "outputs": [
    {
     "data": {
      "text/plain": [
       "1581    2009-10-06T04:47:37Z\n",
       "1580    2009-11-04T18:05:19Z\n",
       "1579    2009-11-10T05:18:29Z\n",
       "1578    2009-11-18T06:49:44Z\n",
       "1577    2009-11-30T08:13:39Z\n",
       "                ...         \n",
       "2821    2023-06-07T10:33:33Z\n",
       "1583    2023-06-07T12:00:24Z\n",
       "3313    2023-06-07T14:00:19Z\n",
       "3312    2023-06-08T14:00:09Z\n",
       "1582    2023-06-08T15:00:08Z\n",
       "Name: publishedAt, Length: 4023, dtype: object"
      ]
     },
     "execution_count": 14,
     "metadata": {},
     "output_type": "execute_result"
    }
   ],
   "source": [
    "videos_df.publishedAt.sort_values()"
   ]
  },
  {
   "cell_type": "markdown",
   "id": "d50fee46-6a54-4c0e-84ee-5b76d571b9ff",
   "metadata": {},
   "source": [
    "#### Checking data types"
   ]
  },
  {
   "cell_type": "code",
   "execution_count": 15,
   "id": "30047caf-1401-4e71-8328-abbfd24a54cc",
   "metadata": {},
   "outputs": [
    {
     "data": {
      "text/plain": [
       "ChannelName           object\n",
       "ChannelDescription    object\n",
       "PublishedDate         object\n",
       "TotalSubscribers       int64\n",
       "TotalViews             int64\n",
       "TotalVideos            int64\n",
       "playlistID            object\n",
       "dtype: object"
      ]
     },
     "execution_count": 15,
     "metadata": {},
     "output_type": "execute_result"
    }
   ],
   "source": [
    "channels_df.dtypes"
   ]
  },
  {
   "cell_type": "code",
   "execution_count": 16,
   "id": "87e8c21f-ca90-4da4-a527-9d17c9eb9cc8",
   "metadata": {},
   "outputs": [
    {
     "data": {
      "text/plain": [
       "video_id         object\n",
       "channelTitle     object\n",
       "title            object\n",
       "description      object\n",
       "tags             object\n",
       "publishedAt      object\n",
       "viewCount         int64\n",
       "likeCount       float64\n",
       "commentCount    float64\n",
       "duration         object\n",
       "dtype: object"
      ]
     },
     "execution_count": 16,
     "metadata": {},
     "output_type": "execute_result"
    }
   ],
   "source": [
    "videos_df.dtypes"
   ]
  },
  {
   "cell_type": "markdown",
   "id": "e00424cb-d964-4b1c-9bc6-37c7f47e77ee",
   "metadata": {},
   "source": [
    "## Feature Engineering"
   ]
  },
  {
   "cell_type": "code",
   "execution_count": 17,
   "id": "0fb11f55-e71f-4d10-95cd-0143d1dd950c",
   "metadata": {},
   "outputs": [],
   "source": [
    "# Title character length\n",
    "videos_df['titleLength'] = videos_df['title'].apply(lambda x: len(x))"
   ]
  },
  {
   "cell_type": "code",
   "execution_count": 18,
   "id": "e820695d-48bb-41a3-8f1e-bd5837e4b397",
   "metadata": {},
   "outputs": [],
   "source": [
    "# Convert duration to seconds\n",
    "videos_df['durationSecs'] = videos_df['duration'].apply(lambda x: isodate.parse_duration(x))\n",
    "videos_df['durationSecs'] = videos_df['durationSecs'].astype('timedelta64[s]')"
   ]
  },
  {
   "cell_type": "code",
   "execution_count": 19,
   "id": "6fdbbad8-a1d5-474e-b2e9-6ea4ee283120",
   "metadata": {},
   "outputs": [],
   "source": [
    "# Create publish year and month (of the year) columns\n",
    "videos_df['publishedDatetime'] =  videos_df['publishedAt'].apply(lambda x: parser.parse(x))\n",
    "videos_df['publishedYear'] = videos_df['publishedDatetime'].apply(lambda x: x.strftime(\"%Y\"))\n",
    "videos_df['publishedMonth'] = videos_df['publishedDatetime'].apply(lambda x: x.strftime(\"%b\"))\n",
    "\n",
    "# Create publish day (of the week) and hour and time of day columns\n",
    "videos_df['pushblishDayName'] = videos_df['publishedDatetime'].apply(lambda x: x.strftime(\"%a\")) \n",
    "videos_df['publishedHour'] = videos_df['publishedDatetime'].apply(lambda x: x.strftime(\"%H\"))\n",
    "videos_df['publishedToD'] = videos_df['publishedDatetime'].apply(lambda x: x.strftime(\"%p\"))\n"
   ]
  },
  {
   "cell_type": "code",
   "execution_count": 20,
   "id": "7fb05ca4-520a-4b9a-9bf4-64bb00028cf5",
   "metadata": {},
   "outputs": [],
   "source": [
    "# Create the number of tags column\n",
    "videos_df['tags'] = videos_df['tags'].replace(np.nan, None)\n",
    "videos_df['tags'] = videos_df['tags'].apply(lambda x: x if x is None else ast.literal_eval(x))\n",
    "videos_df['tagsCount'] = videos_df['tags'].apply(lambda x: 0 if x is None else len(x))"
   ]
  },
  {
   "cell_type": "code",
   "execution_count": 21,
   "id": "8d11e17a-aba9-4729-b9d8-bf1bb20d70a5",
   "metadata": {},
   "outputs": [],
   "source": [
    "# Create column to categorize Youtube Shorts\n",
    "videos_df['youtubeShorts'] = [True if x <= 60 else False for x in videos_df['durationSecs']]"
   ]
  },
  {
   "cell_type": "markdown",
   "id": "94b30c16-0c2f-4d63-a564-5f246498a5ad",
   "metadata": {},
   "source": [
    "#### Natural Language Processing of text (title column) to enrich the data"
   ]
  },
  {
   "cell_type": "code",
   "execution_count": 34,
   "id": "450a783e-e9ce-4198-b1ae-40b156cd0395",
   "metadata": {
    "tags": []
   },
   "outputs": [],
   "source": [
    "workout_videos_df = videos_df[videos_df['youtubeShorts'] == False].copy()"
   ]
  },
  {
   "cell_type": "code",
   "execution_count": 24,
   "id": "a1c474d3-c21c-4b1e-9e81-96a498e01466",
   "metadata": {},
   "outputs": [],
   "source": [
    "import spacy\n",
    "nlp = spacy.load(\"en_core_web_sm\")"
   ]
  },
  {
   "cell_type": "code",
   "execution_count": 25,
   "id": "256bd63f-4442-4a7e-afc5-16270d4d340b",
   "metadata": {
    "tags": []
   },
   "outputs": [],
   "source": [
    "#Create the EntityRuler\n",
    "ruler = nlp.add_pipe(\"entity_ruler\", before=\"ner\")"
   ]
  },
  {
   "cell_type": "code",
   "execution_count": 38,
   "id": "dd073096-afcd-49b6-b1a9-e88651905b3d",
   "metadata": {
    "tags": []
   },
   "outputs": [],
   "source": [
    "#List of Entities and Patterns\n",
    "patterns = [\n",
    "    {\"label\": \"WORKOUT_TIME\", \"pattern\": [{\"TEXT\": {\"REGEX\": r\"^(\\d+)\"}},\n",
    "                                          {\"LOWER\":{\"REGEX\": r\"^(min|mins|minute|minutes|hour|hours|hr|hrs)$\"}}\n",
    "                                         ]},\n",
    "    {\"label\": \"FULL_BODY\", \"pattern\": [{\"LOWER\": {\"REGEX\": r\"(full|total|whole)\"}}, {\"LOWER\": \"body\"}]},\n",
    "    {\"label\": \"UPPER_BODY\", \"pattern\": [{\"LOWER\": \"upper\"}, {\"LOWER\": \"body\"}]},\n",
    "    {\"label\": \"LOWER_BODY\", \"pattern\": [{\"LOWER\": \"lower\"}, {\"LOWER\": \"body\"}]},\n",
    "    {\"label\": \"CHEST_BACK\", \"pattern\": [{\"LOWER\": {\"REGEX\": r\"(back|chest)\"}}, {\"ORTH\": {\"REGEX\": r\"(and|&)\"}} ,{\"LOWER\": {\"REGEX\": r\"(back|chest)\"}}]},\n",
    "    {\"label\": \"ABS\", \"pattern\": [{\"LOWER\": {\"REGEX\": r\"(core|ab|abs|plank)\"}}]},\n",
    "    {\"label\": \"ARMS\", \"pattern\": [{\"LOWER\": {\"REGEX\": r\"arms?\"}}]},\n",
    "    {\"label\": \"LEGS\", \"pattern\": [{\"LOWER\": {\"REGEX\": r\"(thigh|thighs|leg|legs)\"}}]},\n",
    "    {\"label\": \"GLUTES\", \"pattern\": [{\"LOWER\": {\"REGEX\": r\"(booty|glute|glutes|butt)\"}}]},\n",
    "    {\"label\": \"WORKOUT_TYPE\", \"pattern\": [{\"LOWER\": {\"REGEX\": r\"(hiit|cardio|pilates|yoga|dance|tabata|barre|stretch)\"}}]},\n",
    "    {\"label\": \"STANDING\" , \"pattern\": {\"LOWER\": \"standing\"}},\n",
    "    {\"label\": \"NO_EQUIPMENT\", \"pattern\": {\"LOWER\": \"no\", \"LOWER\": {\"REGEX\": r\"(equipment|weight|weights)\"}}},\n",
    "    {\"label\": \"NO_JUMPING\", \"pattern\": {\"LOWER\": \"no\", \"LOWER\": \"jumping\"}},\n",
    "    {\"label\": \"LOW_IMPACT\", \"pattern\": {\"LOWER\": \"low\", \"LOWER\": \"impact\"}},\n",
    "    {\"label\": \"STRENGTH_TRAINING\", \"pattern\": {\"LOWER\": {\"REGEX\": r\"(strength|sculpt|sculpting|tone|toning|toned)\"}}\n",
    "]"
   ]
  },
  {
   "cell_type": "code",
   "execution_count": 39,
   "id": "e5449f96-57dc-48bb-ac81-3afc08832bed",
   "metadata": {
    "tags": []
   },
   "outputs": [],
   "source": [
    "ruler.add_patterns(patterns)"
   ]
  },
  {
   "cell_type": "code",
   "execution_count": 28,
   "id": "5e7515c5-09b3-4741-9488-34e72197d4d7",
   "metadata": {
    "tags": []
   },
   "outputs": [],
   "source": [
    "# Extract workout time using regular expressions\n",
    "def extract_workout_time(title):\n",
    "    doc = nlp(title)\n",
    "    workout_time = None\n",
    "    for ent in doc.ents:\n",
    "        if ent.label_ == \"WORKOUT_TIME\":\n",
    "            workout_time = ent.text\n",
    "            break\n",
    "    return workout_time\n",
    "\n",
    "# Function to extract body part from a title\n",
    "def extract_body_part(title):\n",
    "    doc = nlp(title)\n",
    "    body_part = None\n",
    "    body_parts = [\"FULL_BODY\",\"UPPER_BODY\",\"LOWER_BODY\",\"CHEST_BACK\",\"ARMS\",\"ABS\",\"LEGS\",\"GLUTES\"]\n",
    "    for ent in doc.ents:\n",
    "        if ent.label_ in body_parts:\n",
    "            body_part = ent.label_\n",
    "            break\n",
    "    return body_part\n",
    "\n",
    "# Extract workout type using regular expressions\n",
    "def extract_workout_type(title):\n",
    "    doc = nlp(title)\n",
    "    workout_type = None\n",
    "    for ent in doc.ents:\n",
    "        if ent.label_ == \"WORKOUT_TYPE\":\n",
    "            workout_type = ent.text\n",
    "            break\n",
    "    return workout_type\n",
    "\n",
    "# Extract standing workout using regular expressions\n",
    "def extract_standing_workout(title):\n",
    "    doc = nlp(title)\n",
    "    standing = None\n",
    "    for ent in doc.ents:\n",
    "        if ent.label_ == \"STANDING\":\n",
    "            standing = ent.label_\n",
    "            break\n",
    "    return standing\n",
    "\n",
    "# Extract no jumping workout using regular expressions\n",
    "def extract_no_jumping_workout(title):\n",
    "    doc = nlp(title)\n",
    "    no_jumping = None\n",
    "    for ent in doc.ents:\n",
    "        if ent.label_ == \"NO_JUMPING\":\n",
    "            no_jumping = ent.label_\n",
    "            break\n",
    "    return no_jumping\n",
    "\n",
    "# Extract no equipment workout using regular expressions\n",
    "def extract_no_equipment_workout(title):\n",
    "    doc = nlp(title)\n",
    "    no_equipment = None\n",
    "    for ent in doc.ents:\n",
    "        if ent.label_ == \"NO_EQUIPMENT\":\n",
    "            no_equipment = ent.label_\n",
    "            break\n",
    "    return no_equipment\n",
    "\n",
    "# Extract low impact workout using regular expressions\n",
    "def extract_low_impact_workout(title):\n",
    "    doc = nlp(title)\n",
    "    low_impact = None\n",
    "    for ent in doc.ents:\n",
    "        if ent.label_ == \"LOW_IMPACT\":\n",
    "            low_impact = ent.label_\n",
    "            break\n",
    "    return low_impact\n",
    "\n",
    "# Extract strength training workout using regular expressions\n",
    "def extract_strength_training_workout(title):\n",
    "    doc = nlp(title)\n",
    "    strength_training = None\n",
    "    for ent in doc.ents:\n",
    "        if ent.label_ == \"STRENGTH_TRAINING\":\n",
    "            strength_training = ent.label_\n",
    "            break\n",
    "    return strength_training\n"
   ]
  },
  {
   "cell_type": "code",
   "execution_count": 36,
   "id": "53cf5dd5-6b59-4bf0-bee8-ebd1433c053b",
   "metadata": {
    "tags": []
   },
   "outputs": [],
   "source": [
    "# Apply the function to create a workout time column\n",
    "workout_videos_df['workoutTime'] = workout_videos_df['title'].apply(extract_workout_time)\n",
    "\n",
    "# Apply the function to create a body part column\n",
    "workout_videos_df['bodyPart'] = workout_videos_df['title'].apply(extract_body_part)\n",
    "\n",
    "# Apply the function to create a workout type column\n",
    "workout_videos_df['workoutType'] = workout_videos_df['title'].apply(extract_workout_type)\n",
    "\n",
    "# Apply the function to create a standing workout column\n",
    "workout_videos_df['standing'] = workout_videos_df['title'].apply(extract_standing_workout)\n",
    "\n",
    "# Apply the function to create a no equipment column\n",
    "workout_videos_df['noEquipment'] = workout_videos_df['title'].apply(extract_no_equipment_workout)\n",
    "\n",
    "# Apply the function to create a no jumping workout column\n",
    "workout_videos_df['noJumping'] = workout_videos_df['title'].apply(extract_no_jumping_workout)\n",
    "\n",
    "# Apply the function to create a low impact column\n",
    "workout_videos_df['lowImpact'] = workout_videos_df['title'].apply(extract_low_impact_workout)\n",
    "\n",
    "# Apply the function to create a strength training column\n",
    "workout_videos_df['strengthTraining'] = workout_videos_df['title'].apply(extract_strength_training_workout)\n"
   ]
  },
  {
   "cell_type": "code",
   "execution_count": 42,
   "id": "0feb7df8-3381-4cd8-912e-c3431487bc7b",
   "metadata": {},
   "outputs": [
    {
     "data": {
      "text/html": [
       "<div>\n",
       "<style scoped>\n",
       "    .dataframe tbody tr th:only-of-type {\n",
       "        vertical-align: middle;\n",
       "    }\n",
       "\n",
       "    .dataframe tbody tr th {\n",
       "        vertical-align: top;\n",
       "    }\n",
       "\n",
       "    .dataframe thead th {\n",
       "        text-align: right;\n",
       "    }\n",
       "</style>\n",
       "<table border=\"1\" class=\"dataframe\">\n",
       "  <thead>\n",
       "    <tr style=\"text-align: right;\">\n",
       "      <th></th>\n",
       "      <th>video_id</th>\n",
       "      <th>channelTitle</th>\n",
       "      <th>title</th>\n",
       "      <th>description</th>\n",
       "      <th>tags</th>\n",
       "      <th>publishedAt</th>\n",
       "      <th>viewCount</th>\n",
       "      <th>likeCount</th>\n",
       "      <th>commentCount</th>\n",
       "      <th>duration</th>\n",
       "      <th>...</th>\n",
       "      <th>publishedDatetime</th>\n",
       "      <th>publishedYear</th>\n",
       "      <th>publishedMonth</th>\n",
       "      <th>pushblishDayName</th>\n",
       "      <th>publishedHour</th>\n",
       "      <th>publishedToD</th>\n",
       "      <th>tagsCount</th>\n",
       "      <th>youtubeShorts</th>\n",
       "      <th>workoutTime</th>\n",
       "      <th>bodyPart</th>\n",
       "    </tr>\n",
       "  </thead>\n",
       "  <tbody>\n",
       "    <tr>\n",
       "      <th>0</th>\n",
       "      <td>5GLA8MrlDnM</td>\n",
       "      <td>Chloe Ting</td>\n",
       "      <td>A day in my life living in Korea</td>\n",
       "      <td>Short vlog from a day out and about while in S...</td>\n",
       "      <td>[dayinmylife, korea, seoul, vlog, chloeting, c...</td>\n",
       "      <td>2023-06-05T14:51:22Z</td>\n",
       "      <td>163593</td>\n",
       "      <td>6344.0</td>\n",
       "      <td>714.0</td>\n",
       "      <td>PT12M37S</td>\n",
       "      <td>...</td>\n",
       "      <td>2023-06-05 14:51:22+00:00</td>\n",
       "      <td>2023</td>\n",
       "      <td>Jun</td>\n",
       "      <td>Mon</td>\n",
       "      <td>14</td>\n",
       "      <td>PM</td>\n",
       "      <td>13</td>\n",
       "      <td>False</td>\n",
       "      <td>None</td>\n",
       "      <td>None</td>\n",
       "    </tr>\n",
       "    <tr>\n",
       "      <th>2</th>\n",
       "      <td>ljNgkSctkXg</td>\n",
       "      <td>Chloe Ting</td>\n",
       "      <td>INTENSE Full Body Workout - 30 Min No Equipment</td>\n",
       "      <td>This is a 30 min full body intense workout fro...</td>\n",
       "      <td>[workout, home workout, full body workout, ful...</td>\n",
       "      <td>2023-05-17T14:00:27Z</td>\n",
       "      <td>392463</td>\n",
       "      <td>11738.0</td>\n",
       "      <td>735.0</td>\n",
       "      <td>PT31M14S</td>\n",
       "      <td>...</td>\n",
       "      <td>2023-05-17 14:00:27+00:00</td>\n",
       "      <td>2023</td>\n",
       "      <td>May</td>\n",
       "      <td>Wed</td>\n",
       "      <td>14</td>\n",
       "      <td>PM</td>\n",
       "      <td>27</td>\n",
       "      <td>False</td>\n",
       "      <td>30 Min</td>\n",
       "      <td>(Full Body, FULL_BODY)</td>\n",
       "    </tr>\n",
       "    <tr>\n",
       "      <th>3</th>\n",
       "      <td>0rL2496zybs</td>\n",
       "      <td>Chloe Ting</td>\n",
       "      <td>10 Min Core &amp; Upper Body | No Equip Home Workout!</td>\n",
       "      <td>This is episode 4 of the 2023 Summer Shred Cha...</td>\n",
       "      <td>[core, abs, upper body, upper body workout, co...</td>\n",
       "      <td>2023-05-15T14:00:01Z</td>\n",
       "      <td>244965</td>\n",
       "      <td>8028.0</td>\n",
       "      <td>282.0</td>\n",
       "      <td>PT10M52S</td>\n",
       "      <td>...</td>\n",
       "      <td>2023-05-15 14:00:01+00:00</td>\n",
       "      <td>2023</td>\n",
       "      <td>May</td>\n",
       "      <td>Mon</td>\n",
       "      <td>14</td>\n",
       "      <td>PM</td>\n",
       "      <td>27</td>\n",
       "      <td>False</td>\n",
       "      <td>10 Min</td>\n",
       "      <td>(Core, ABS)</td>\n",
       "    </tr>\n",
       "    <tr>\n",
       "      <th>4</th>\n",
       "      <td>PEX2uefaUAY</td>\n",
       "      <td>Chloe Ting</td>\n",
       "      <td>Perky Booty &amp; Leg Workout | 20 min Glute Workout</td>\n",
       "      <td>This is episode 3 of the 2023 Summer Shred Cha...</td>\n",
       "      <td>[tiny waist, waist, booty, booty workout, butt...</td>\n",
       "      <td>2023-05-09T14:00:15Z</td>\n",
       "      <td>470075</td>\n",
       "      <td>13519.0</td>\n",
       "      <td>428.0</td>\n",
       "      <td>PT20M39S</td>\n",
       "      <td>...</td>\n",
       "      <td>2023-05-09 14:00:15+00:00</td>\n",
       "      <td>2023</td>\n",
       "      <td>May</td>\n",
       "      <td>Tue</td>\n",
       "      <td>14</td>\n",
       "      <td>PM</td>\n",
       "      <td>29</td>\n",
       "      <td>False</td>\n",
       "      <td>20 min</td>\n",
       "      <td>(Booty, GLUTES)</td>\n",
       "    </tr>\n",
       "    <tr>\n",
       "      <th>5</th>\n",
       "      <td>fWP_huSuAHE</td>\n",
       "      <td>Chloe Ting</td>\n",
       "      <td>Get Defined ABS for the Summer - 10 Min Ab Wor...</td>\n",
       "      <td>This is episode 2 of the 2023 Summer Shred Cha...</td>\n",
       "      <td>[abs, abs workout, abs exercise, lower abs wor...</td>\n",
       "      <td>2023-05-08T14:00:21Z</td>\n",
       "      <td>901876</td>\n",
       "      <td>28696.0</td>\n",
       "      <td>1069.0</td>\n",
       "      <td>PT11M2S</td>\n",
       "      <td>...</td>\n",
       "      <td>2023-05-08 14:00:21+00:00</td>\n",
       "      <td>2023</td>\n",
       "      <td>May</td>\n",
       "      <td>Mon</td>\n",
       "      <td>14</td>\n",
       "      <td>PM</td>\n",
       "      <td>32</td>\n",
       "      <td>False</td>\n",
       "      <td>10 Min</td>\n",
       "      <td>(ABS, ABS)</td>\n",
       "    </tr>\n",
       "  </tbody>\n",
       "</table>\n",
       "<p>5 rows × 22 columns</p>\n",
       "</div>"
      ],
      "text/plain": [
       "      video_id channelTitle  \\\n",
       "0  5GLA8MrlDnM   Chloe Ting   \n",
       "2  ljNgkSctkXg   Chloe Ting   \n",
       "3  0rL2496zybs   Chloe Ting   \n",
       "4  PEX2uefaUAY   Chloe Ting   \n",
       "5  fWP_huSuAHE   Chloe Ting   \n",
       "\n",
       "                                               title  \\\n",
       "0                   A day in my life living in Korea   \n",
       "2    INTENSE Full Body Workout - 30 Min No Equipment   \n",
       "3  10 Min Core & Upper Body | No Equip Home Workout!   \n",
       "4   Perky Booty & Leg Workout | 20 min Glute Workout   \n",
       "5  Get Defined ABS for the Summer - 10 Min Ab Wor...   \n",
       "\n",
       "                                         description  \\\n",
       "0  Short vlog from a day out and about while in S...   \n",
       "2  This is a 30 min full body intense workout fro...   \n",
       "3  This is episode 4 of the 2023 Summer Shred Cha...   \n",
       "4  This is episode 3 of the 2023 Summer Shred Cha...   \n",
       "5  This is episode 2 of the 2023 Summer Shred Cha...   \n",
       "\n",
       "                                                tags           publishedAt  \\\n",
       "0  [dayinmylife, korea, seoul, vlog, chloeting, c...  2023-06-05T14:51:22Z   \n",
       "2  [workout, home workout, full body workout, ful...  2023-05-17T14:00:27Z   \n",
       "3  [core, abs, upper body, upper body workout, co...  2023-05-15T14:00:01Z   \n",
       "4  [tiny waist, waist, booty, booty workout, butt...  2023-05-09T14:00:15Z   \n",
       "5  [abs, abs workout, abs exercise, lower abs wor...  2023-05-08T14:00:21Z   \n",
       "\n",
       "   viewCount  likeCount  commentCount  duration  ...  \\\n",
       "0     163593     6344.0         714.0  PT12M37S  ...   \n",
       "2     392463    11738.0         735.0  PT31M14S  ...   \n",
       "3     244965     8028.0         282.0  PT10M52S  ...   \n",
       "4     470075    13519.0         428.0  PT20M39S  ...   \n",
       "5     901876    28696.0        1069.0   PT11M2S  ...   \n",
       "\n",
       "          publishedDatetime  publishedYear publishedMonth pushblishDayName  \\\n",
       "0 2023-06-05 14:51:22+00:00           2023            Jun              Mon   \n",
       "2 2023-05-17 14:00:27+00:00           2023            May              Wed   \n",
       "3 2023-05-15 14:00:01+00:00           2023            May              Mon   \n",
       "4 2023-05-09 14:00:15+00:00           2023            May              Tue   \n",
       "5 2023-05-08 14:00:21+00:00           2023            May              Mon   \n",
       "\n",
       "  publishedHour publishedToD tagsCount youtubeShorts  workoutTime  \\\n",
       "0            14           PM        13         False         None   \n",
       "2            14           PM        27         False       30 Min   \n",
       "3            14           PM        27         False       10 Min   \n",
       "4            14           PM        29         False       20 min   \n",
       "5            14           PM        32         False       10 Min   \n",
       "\n",
       "                 bodyPart  \n",
       "0                    None  \n",
       "2  (Full Body, FULL_BODY)  \n",
       "3             (Core, ABS)  \n",
       "4         (Booty, GLUTES)  \n",
       "5              (ABS, ABS)  \n",
       "\n",
       "[5 rows x 22 columns]"
      ]
     },
     "execution_count": 42,
     "metadata": {},
     "output_type": "execute_result"
    }
   ],
   "source": [
    "workout_videos_df.head()"
   ]
  },
  {
   "cell_type": "code",
   "execution_count": null,
   "id": "34fdc297-6500-4abe-a9b3-7dd98c5eb83f",
   "metadata": {},
   "outputs": [],
   "source": []
  }
 ],
 "metadata": {
  "kernelspec": {
   "display_name": "Python 3 (ipykernel)",
   "language": "python",
   "name": "python3"
  },
  "language_info": {
   "codemirror_mode": {
    "name": "ipython",
    "version": 3
   },
   "file_extension": ".py",
   "mimetype": "text/x-python",
   "name": "python",
   "nbconvert_exporter": "python",
   "pygments_lexer": "ipython3",
   "version": "3.9.16"
  }
 },
 "nbformat": 4,
 "nbformat_minor": 5
}
