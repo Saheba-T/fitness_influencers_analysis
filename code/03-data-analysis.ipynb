{
 "cells": [
  {
   "cell_type": "markdown",
   "id": "d5682a58",
   "metadata": {},
   "source": [
    "# Analyzing Fitness Channels: An Exploratory Data Analysis of YouTube's Workout Videos\n",
    "\n",
    "## 1. Background\n",
    "### 1.1 Introduction\n",
    "### 1.2 Objectives\n",
    " Within this project, I would like to explore the following questions:\n",
    " \n",
    "- Which channels have the highest engagment (views, likes, and comments) per video on average?\n",
    "- Is there any correlation between video duration and engagement metrics (views, likes, comments)?\n",
    "- Do certain types of videos (e.g., cardio, strength training) tend to receive more engagement?\n",
    "- What is the distribution of video duration across the different duration categories for each channel?\n",
    "- Is there any seasonal pattern in video uploads for each channel?\n",
    "- What are the most common video tags or topics for each channel?\n",
    "- Do video titles' length or content impact their engagement or viewership?\n",
    "- Which channels have the highest percentage of videos with specific tags (e.g., yoga, HIIT, dance)?\n",
    "- Are there any specific topics or video tags that consistently perform well across all channels?\n",
    "- Are there any significant differences in engagement metrics between channels that focus on different types of workouts?\n",
    "- Do videos with certain characteristics (e.g., no equipment, low impact) attract more views or engagement?\n",
    "- Is there any correlation between the number of tags and the engagement of videos?\n",
    "- Which channels have the highest proportion of specific workout categories (e.g., upper body, legs, pilates)?\n",
    "- Do videos with certain workout categories tend to receive more comments or likes compared to others?"
   ]
  },
  {
   "cell_type": "markdown",
   "id": "f3b29927",
   "metadata": {},
   "source": [
    "## 2. Data\n",
    "\n",
    "The channel names of the YouTube fitness channels are MadFit, blogilates, emi wong, Rebecca-Louise and Chloe Ting.\n",
    "\n",
    "I used the YouTube Data API v3 to scrape the channel and video information. \n",
    "To do so, the following steps were carried out in order:\n",
    "- created a project on Google Developers Console\n",
    "- requested an authorization credential (API key). \n",
    "- enabled Youtube API for my project \n",
    "\n",
    "As for the functions that I have used to scrape the youtube data, I give credit to thu-vu92 for using the code provided her GitHub project 'youtube-api-analysis'. This project was inspired by the YouTube API tutorial video created by Thu Vu data analytics, titled 'Youtube API for Python: How to Create a Unique Data Portfolio Project'."
   ]
  },
  {
   "cell_type": "markdown",
   "id": "6785340c",
   "metadata": {},
   "source": [
    "##  3. Analysis and Key Findings"
   ]
  },
  {
   "cell_type": "code",
   "execution_count": 2,
   "id": "0cc2f699-ea73-4742-aa4f-d53df017f593",
   "metadata": {
    "tags": []
   },
   "outputs": [
    {
     "data": {
      "application/javascript": "(function(root) {\n  function now() {\n    return new Date();\n  }\n\n  var force = true;\n  var py_version = '3.1.1'.replace('rc', '-rc.');\n  var is_dev = py_version.indexOf(\"+\") !== -1 || py_version.indexOf(\"-\") !== -1;\n  var reloading = false;\n  var Bokeh = root.Bokeh;\n  var bokeh_loaded = Bokeh != null && (Bokeh.version === py_version || (Bokeh.versions !== undefined && Bokeh.versions.has(py_version)));\n\n  if (typeof (root._bokeh_timeout) === \"undefined\" || force) {\n    root._bokeh_timeout = Date.now() + 5000;\n    root._bokeh_failed_load = false;\n  }\n\n  function run_callbacks() {\n    try {\n      root._bokeh_onload_callbacks.forEach(function(callback) {\n        if (callback != null)\n          callback();\n      });\n    } finally {\n      delete root._bokeh_onload_callbacks;\n    }\n    console.debug(\"Bokeh: all callbacks have finished\");\n  }\n\n  function load_libs(css_urls, js_urls, js_modules, js_exports, callback) {\n    if (css_urls == null) css_urls = [];\n    if (js_urls == null) js_urls = [];\n    if (js_modules == null) js_modules = [];\n    if (js_exports == null) js_exports = {};\n\n    root._bokeh_onload_callbacks.push(callback);\n\n    if (root._bokeh_is_loading > 0) {\n      console.debug(\"Bokeh: BokehJS is being loaded, scheduling callback at\", now());\n      return null;\n    }\n    if (js_urls.length === 0 && js_modules.length === 0 && Object.keys(js_exports).length === 0) {\n      run_callbacks();\n      return null;\n    }\n    if (!reloading) {\n      console.debug(\"Bokeh: BokehJS not loaded, scheduling load and callback at\", now());\n    }\n\n    function on_load() {\n      root._bokeh_is_loading--;\n      if (root._bokeh_is_loading === 0) {\n        console.debug(\"Bokeh: all BokehJS libraries/stylesheets loaded\");\n        run_callbacks()\n      }\n    }\n    window._bokeh_on_load = on_load\n\n    function on_error() {\n      console.error(\"failed to load \" + url);\n    }\n\n    var skip = [];\n    if (window.requirejs) {\n      window.requirejs.config({'packages': {}, 'paths': {'jspanel': 'https://cdn.jsdelivr.net/npm/jspanel4@4.12.0/dist/jspanel', 'jspanel-modal': 'https://cdn.jsdelivr.net/npm/jspanel4@4.12.0/dist/extensions/modal/jspanel.modal', 'jspanel-tooltip': 'https://cdn.jsdelivr.net/npm/jspanel4@4.12.0/dist/extensions/tooltip/jspanel.tooltip', 'jspanel-hint': 'https://cdn.jsdelivr.net/npm/jspanel4@4.12.0/dist/extensions/hint/jspanel.hint', 'jspanel-layout': 'https://cdn.jsdelivr.net/npm/jspanel4@4.12.0/dist/extensions/layout/jspanel.layout', 'jspanel-contextmenu': 'https://cdn.jsdelivr.net/npm/jspanel4@4.12.0/dist/extensions/contextmenu/jspanel.contextmenu', 'jspanel-dock': 'https://cdn.jsdelivr.net/npm/jspanel4@4.12.0/dist/extensions/dock/jspanel.dock', 'gridstack': 'https://cdn.jsdelivr.net/npm/gridstack@7.2.3/dist/gridstack-all', 'notyf': 'https://cdn.jsdelivr.net/npm/notyf@3/notyf.min'}, 'shim': {'jspanel': {'exports': 'jsPanel'}, 'gridstack': {'exports': 'GridStack'}}});\n      require([\"jspanel\"], function(jsPanel) {\n\twindow.jsPanel = jsPanel\n\ton_load()\n      })\n      require([\"jspanel-modal\"], function() {\n\ton_load()\n      })\n      require([\"jspanel-tooltip\"], function() {\n\ton_load()\n      })\n      require([\"jspanel-hint\"], function() {\n\ton_load()\n      })\n      require([\"jspanel-layout\"], function() {\n\ton_load()\n      })\n      require([\"jspanel-contextmenu\"], function() {\n\ton_load()\n      })\n      require([\"jspanel-dock\"], function() {\n\ton_load()\n      })\n      require([\"gridstack\"], function(GridStack) {\n\twindow.GridStack = GridStack\n\ton_load()\n      })\n      require([\"notyf\"], function() {\n\ton_load()\n      })\n      root._bokeh_is_loading = css_urls.length + 9;\n    } else {\n      root._bokeh_is_loading = css_urls.length + js_urls.length + js_modules.length + Object.keys(js_exports).length;\n    }\n\n    var existing_stylesheets = []\n    var links = document.getElementsByTagName('link')\n    for (var i = 0; i < links.length; i++) {\n      var link = links[i]\n      if (link.href != null) {\n\texisting_stylesheets.push(link.href)\n      }\n    }\n    for (var i = 0; i < css_urls.length; i++) {\n      var url = css_urls[i];\n      if (existing_stylesheets.indexOf(url) !== -1) {\n\ton_load()\n\tcontinue;\n      }\n      const element = document.createElement(\"link\");\n      element.onload = on_load;\n      element.onerror = on_error;\n      element.rel = \"stylesheet\";\n      element.type = \"text/css\";\n      element.href = url;\n      console.debug(\"Bokeh: injecting link tag for BokehJS stylesheet: \", url);\n      document.body.appendChild(element);\n    }    if (((window['jsPanel'] !== undefined) && (!(window['jsPanel'] instanceof HTMLElement))) || window.requirejs) {\n      var urls = ['https://cdn.holoviz.org/panel/1.1.0/dist/bundled/floatpanel/jspanel4@4.12.0/dist/jspanel.js', 'https://cdn.holoviz.org/panel/1.1.0/dist/bundled/floatpanel/jspanel4@4.12.0/dist/extensions/modal/jspanel.modal.js', 'https://cdn.holoviz.org/panel/1.1.0/dist/bundled/floatpanel/jspanel4@4.12.0/dist/extensions/tooltip/jspanel.tooltip.js', 'https://cdn.holoviz.org/panel/1.1.0/dist/bundled/floatpanel/jspanel4@4.12.0/dist/extensions/hint/jspanel.hint.js', 'https://cdn.holoviz.org/panel/1.1.0/dist/bundled/floatpanel/jspanel4@4.12.0/dist/extensions/layout/jspanel.layout.js', 'https://cdn.holoviz.org/panel/1.1.0/dist/bundled/floatpanel/jspanel4@4.12.0/dist/extensions/contextmenu/jspanel.contextmenu.js', 'https://cdn.holoviz.org/panel/1.1.0/dist/bundled/floatpanel/jspanel4@4.12.0/dist/extensions/dock/jspanel.dock.js'];\n      for (var i = 0; i < urls.length; i++) {\n        skip.push(urls[i])\n      }\n    }    if (((window['GridStack'] !== undefined) && (!(window['GridStack'] instanceof HTMLElement))) || window.requirejs) {\n      var urls = ['https://cdn.holoviz.org/panel/1.1.0/dist/bundled/gridstack/gridstack@7.2.3/dist/gridstack-all.js'];\n      for (var i = 0; i < urls.length; i++) {\n        skip.push(urls[i])\n      }\n    }    if (((window['Notyf'] !== undefined) && (!(window['Notyf'] instanceof HTMLElement))) || window.requirejs) {\n      var urls = ['https://cdn.holoviz.org/panel/1.1.0/dist/bundled/notificationarea/notyf@3/notyf.min.js'];\n      for (var i = 0; i < urls.length; i++) {\n        skip.push(urls[i])\n      }\n    }    var existing_scripts = []\n    var scripts = document.getElementsByTagName('script')\n    for (var i = 0; i < scripts.length; i++) {\n      var script = scripts[i]\n      if (script.src != null) {\n\texisting_scripts.push(script.src)\n      }\n    }\n    for (var i = 0; i < js_urls.length; i++) {\n      var url = js_urls[i];\n      if (skip.indexOf(url) !== -1 || existing_scripts.indexOf(url) !== -1) {\n\tif (!window.requirejs) {\n\t  on_load();\n\t}\n\tcontinue;\n      }\n      var element = document.createElement('script');\n      element.onload = on_load;\n      element.onerror = on_error;\n      element.async = false;\n      element.src = url;\n      console.debug(\"Bokeh: injecting script tag for BokehJS library: \", url);\n      document.head.appendChild(element);\n    }\n    for (var i = 0; i < js_modules.length; i++) {\n      var url = js_modules[i];\n      if (skip.indexOf(url) !== -1 || existing_scripts.indexOf(url) !== -1) {\n\tif (!window.requirejs) {\n\t  on_load();\n\t}\n\tcontinue;\n      }\n      var element = document.createElement('script');\n      element.onload = on_load;\n      element.onerror = on_error;\n      element.async = false;\n      element.src = url;\n      element.type = \"module\";\n      console.debug(\"Bokeh: injecting script tag for BokehJS library: \", url);\n      document.head.appendChild(element);\n    }\n    for (const name in js_exports) {\n      var url = js_exports[name];\n      if (skip.indexOf(url) >= 0 || root[name] != null) {\n\tif (!window.requirejs) {\n\t  on_load();\n\t}\n\tcontinue;\n      }\n      var element = document.createElement('script');\n      element.onerror = on_error;\n      element.async = false;\n      element.type = \"module\";\n      console.debug(\"Bokeh: injecting script tag for BokehJS library: \", url);\n      element.textContent = `\n      import ${name} from \"${url}\"\n      window.${name} = ${name}\n      window._bokeh_on_load()\n      `\n      document.head.appendChild(element);\n    }\n    if (!js_urls.length && !js_modules.length) {\n      on_load()\n    }\n  };\n\n  function inject_raw_css(css) {\n    const element = document.createElement(\"style\");\n    element.appendChild(document.createTextNode(css));\n    document.body.appendChild(element);\n  }\n\n  var js_urls = [\"https://cdn.bokeh.org/bokeh/release/bokeh-3.1.1.min.js\", \"https://cdn.bokeh.org/bokeh/release/bokeh-gl-3.1.1.min.js\", \"https://cdn.bokeh.org/bokeh/release/bokeh-widgets-3.1.1.min.js\", \"https://cdn.bokeh.org/bokeh/release/bokeh-tables-3.1.1.min.js\", \"https://cdn.holoviz.org/panel/1.1.0/dist/panel.min.js\"];\n  var js_modules = [];\n  var js_exports = {};\n  var css_urls = [];\n  var inline_js = [    function(Bokeh) {\n      Bokeh.set_log_level(\"info\");\n    },\nfunction(Bokeh) {} // ensure no trailing comma for IE\n  ];\n\n  function run_inline_js() {\n    if ((root.Bokeh !== undefined) || (force === true)) {\n      for (var i = 0; i < inline_js.length; i++) {\n        inline_js[i].call(root, root.Bokeh);\n      }\n      // Cache old bokeh versions\n      if (Bokeh != undefined && !reloading) {\n\tvar NewBokeh = root.Bokeh;\n\tif (Bokeh.versions === undefined) {\n\t  Bokeh.versions = new Map();\n\t}\n\tif (NewBokeh.version !== Bokeh.version) {\n\t  Bokeh.versions.set(NewBokeh.version, NewBokeh)\n\t}\n\troot.Bokeh = Bokeh;\n      }} else if (Date.now() < root._bokeh_timeout) {\n      setTimeout(run_inline_js, 100);\n    } else if (!root._bokeh_failed_load) {\n      console.log(\"Bokeh: BokehJS failed to load within specified timeout.\");\n      root._bokeh_failed_load = true;\n    }\n    root._bokeh_is_initializing = false\n  }\n\n  function load_or_wait() {\n    // Implement a backoff loop that tries to ensure we do not load multiple\n    // versions of Bokeh and its dependencies at the same time.\n    // In recent versions we use the root._bokeh_is_initializing flag\n    // to determine whether there is an ongoing attempt to initialize\n    // bokeh, however for backward compatibility we also try to ensure\n    // that we do not start loading a newer (Panel>=1.0 and Bokeh>3) version\n    // before older versions are fully initialized.\n    if (root._bokeh_is_initializing && Date.now() > root._bokeh_timeout) {\n      root._bokeh_is_initializing = false;\n      root._bokeh_onload_callbacks = undefined;\n      console.log(\"Bokeh: BokehJS was loaded multiple times but one version failed to initialize.\");\n      load_or_wait();\n    } else if (root._bokeh_is_initializing || (typeof root._bokeh_is_initializing === \"undefined\" && root._bokeh_onload_callbacks !== undefined)) {\n      setTimeout(load_or_wait, 100);\n    } else {\n      Bokeh = root.Bokeh;\n      bokeh_loaded = Bokeh != null && (Bokeh.version === py_version || (Bokeh.versions !== undefined && Bokeh.versions.has(py_version)));\n      root._bokeh_is_initializing = true\n      root._bokeh_onload_callbacks = []\n      if (!reloading && (!bokeh_loaded || is_dev)) {\n\troot.Bokeh = undefined;\n      }\n      load_libs(css_urls, js_urls, js_modules, js_exports, function() {\n\tconsole.debug(\"Bokeh: BokehJS plotting callback run at\", now());\n\trun_inline_js();\n      });\n    }\n  }\n  // Give older versions of the autoload script a head-start to ensure\n  // they initialize before we start loading newer version.\n  setTimeout(load_or_wait, 100)\n}(window));",
      "application/vnd.holoviews_load.v0+json": ""
     },
     "metadata": {},
     "output_type": "display_data"
    },
    {
     "data": {
      "application/javascript": "\nif ((window.PyViz === undefined) || (window.PyViz instanceof HTMLElement)) {\n  window.PyViz = {comms: {}, comm_status:{}, kernels:{}, receivers: {}, plot_index: []}\n}\n\n\n    function JupyterCommManager() {\n    }\n\n    JupyterCommManager.prototype.register_target = function(plot_id, comm_id, msg_handler) {\n      if (window.comm_manager || ((window.Jupyter !== undefined) && (Jupyter.notebook.kernel != null))) {\n        var comm_manager = window.comm_manager || Jupyter.notebook.kernel.comm_manager;\n        comm_manager.register_target(comm_id, function(comm) {\n          comm.on_msg(msg_handler);\n        });\n      } else if ((plot_id in window.PyViz.kernels) && (window.PyViz.kernels[plot_id])) {\n        window.PyViz.kernels[plot_id].registerCommTarget(comm_id, function(comm) {\n          comm.onMsg = msg_handler;\n        });\n      } else if (typeof google != 'undefined' && google.colab.kernel != null) {\n        google.colab.kernel.comms.registerTarget(comm_id, (comm) => {\n          var messages = comm.messages[Symbol.asyncIterator]();\n          function processIteratorResult(result) {\n            var message = result.value;\n            console.log(message)\n            var content = {data: message.data, comm_id};\n            var buffers = []\n            for (var buffer of message.buffers || []) {\n              buffers.push(new DataView(buffer))\n            }\n            var metadata = message.metadata || {};\n            var msg = {content, buffers, metadata}\n            msg_handler(msg);\n            return messages.next().then(processIteratorResult);\n          }\n          return messages.next().then(processIteratorResult);\n        })\n      }\n    }\n\n    JupyterCommManager.prototype.get_client_comm = function(plot_id, comm_id, msg_handler) {\n      if (comm_id in window.PyViz.comms) {\n        return window.PyViz.comms[comm_id];\n      } else if (window.comm_manager || ((window.Jupyter !== undefined) && (Jupyter.notebook.kernel != null))) {\n        var comm_manager = window.comm_manager || Jupyter.notebook.kernel.comm_manager;\n        var comm = comm_manager.new_comm(comm_id, {}, {}, {}, comm_id);\n        if (msg_handler) {\n          comm.on_msg(msg_handler);\n        }\n      } else if ((plot_id in window.PyViz.kernels) && (window.PyViz.kernels[plot_id])) {\n        var comm = window.PyViz.kernels[plot_id].connectToComm(comm_id);\n        comm.open();\n        if (msg_handler) {\n          comm.onMsg = msg_handler;\n        }\n      } else if (typeof google != 'undefined' && google.colab.kernel != null) {\n        var comm_promise = google.colab.kernel.comms.open(comm_id)\n        comm_promise.then((comm) => {\n          window.PyViz.comms[comm_id] = comm;\n          if (msg_handler) {\n            var messages = comm.messages[Symbol.asyncIterator]();\n            function processIteratorResult(result) {\n              var message = result.value;\n              var content = {data: message.data};\n              var metadata = message.metadata || {comm_id};\n              var msg = {content, metadata}\n              msg_handler(msg);\n              return messages.next().then(processIteratorResult);\n            }\n            return messages.next().then(processIteratorResult);\n          }\n        }) \n        var sendClosure = (data, metadata, buffers, disposeOnDone) => {\n          return comm_promise.then((comm) => {\n            comm.send(data, metadata, buffers, disposeOnDone);\n          });\n        };\n        var comm = {\n          send: sendClosure\n        };\n      }\n      window.PyViz.comms[comm_id] = comm;\n      return comm;\n    }\n    window.PyViz.comm_manager = new JupyterCommManager();\n    \n\n\nvar JS_MIME_TYPE = 'application/javascript';\nvar HTML_MIME_TYPE = 'text/html';\nvar EXEC_MIME_TYPE = 'application/vnd.holoviews_exec.v0+json';\nvar CLASS_NAME = 'output';\n\n/**\n * Render data to the DOM node\n */\nfunction render(props, node) {\n  var div = document.createElement(\"div\");\n  var script = document.createElement(\"script\");\n  node.appendChild(div);\n  node.appendChild(script);\n}\n\n/**\n * Handle when a new output is added\n */\nfunction handle_add_output(event, handle) {\n  var output_area = handle.output_area;\n  var output = handle.output;\n  if ((output.data == undefined) || (!output.data.hasOwnProperty(EXEC_MIME_TYPE))) {\n    return\n  }\n  var id = output.metadata[EXEC_MIME_TYPE][\"id\"];\n  var toinsert = output_area.element.find(\".\" + CLASS_NAME.split(' ')[0]);\n  if (id !== undefined) {\n    var nchildren = toinsert.length;\n    var html_node = toinsert[nchildren-1].children[0];\n    html_node.innerHTML = output.data[HTML_MIME_TYPE];\n    var scripts = [];\n    var nodelist = html_node.querySelectorAll(\"script\");\n    for (var i in nodelist) {\n      if (nodelist.hasOwnProperty(i)) {\n        scripts.push(nodelist[i])\n      }\n    }\n\n    scripts.forEach( function (oldScript) {\n      var newScript = document.createElement(\"script\");\n      var attrs = [];\n      var nodemap = oldScript.attributes;\n      for (var j in nodemap) {\n        if (nodemap.hasOwnProperty(j)) {\n          attrs.push(nodemap[j])\n        }\n      }\n      attrs.forEach(function(attr) { newScript.setAttribute(attr.name, attr.value) });\n      newScript.appendChild(document.createTextNode(oldScript.innerHTML));\n      oldScript.parentNode.replaceChild(newScript, oldScript);\n    });\n    if (JS_MIME_TYPE in output.data) {\n      toinsert[nchildren-1].children[1].textContent = output.data[JS_MIME_TYPE];\n    }\n    output_area._hv_plot_id = id;\n    if ((window.Bokeh !== undefined) && (id in Bokeh.index)) {\n      window.PyViz.plot_index[id] = Bokeh.index[id];\n    } else {\n      window.PyViz.plot_index[id] = null;\n    }\n  } else if (output.metadata[EXEC_MIME_TYPE][\"server_id\"] !== undefined) {\n    var bk_div = document.createElement(\"div\");\n    bk_div.innerHTML = output.data[HTML_MIME_TYPE];\n    var script_attrs = bk_div.children[0].attributes;\n    for (var i = 0; i < script_attrs.length; i++) {\n      toinsert[toinsert.length - 1].childNodes[1].setAttribute(script_attrs[i].name, script_attrs[i].value);\n    }\n    // store reference to server id on output_area\n    output_area._bokeh_server_id = output.metadata[EXEC_MIME_TYPE][\"server_id\"];\n  }\n}\n\n/**\n * Handle when an output is cleared or removed\n */\nfunction handle_clear_output(event, handle) {\n  var id = handle.cell.output_area._hv_plot_id;\n  var server_id = handle.cell.output_area._bokeh_server_id;\n  if (((id === undefined) || !(id in PyViz.plot_index)) && (server_id !== undefined)) { return; }\n  var comm = window.PyViz.comm_manager.get_client_comm(\"hv-extension-comm\", \"hv-extension-comm\", function () {});\n  if (server_id !== null) {\n    comm.send({event_type: 'server_delete', 'id': server_id});\n    return;\n  } else if (comm !== null) {\n    comm.send({event_type: 'delete', 'id': id});\n  }\n  delete PyViz.plot_index[id];\n  if ((window.Bokeh !== undefined) & (id in window.Bokeh.index)) {\n    var doc = window.Bokeh.index[id].model.document\n    doc.clear();\n    const i = window.Bokeh.documents.indexOf(doc);\n    if (i > -1) {\n      window.Bokeh.documents.splice(i, 1);\n    }\n  }\n}\n\n/**\n * Handle kernel restart event\n */\nfunction handle_kernel_cleanup(event, handle) {\n  delete PyViz.comms[\"hv-extension-comm\"];\n  window.PyViz.plot_index = {}\n}\n\n/**\n * Handle update_display_data messages\n */\nfunction handle_update_output(event, handle) {\n  handle_clear_output(event, {cell: {output_area: handle.output_area}})\n  handle_add_output(event, handle)\n}\n\nfunction register_renderer(events, OutputArea) {\n  function append_mime(data, metadata, element) {\n    // create a DOM node to render to\n    var toinsert = this.create_output_subarea(\n    metadata,\n    CLASS_NAME,\n    EXEC_MIME_TYPE\n    );\n    this.keyboard_manager.register_events(toinsert);\n    // Render to node\n    var props = {data: data, metadata: metadata[EXEC_MIME_TYPE]};\n    render(props, toinsert[0]);\n    element.append(toinsert);\n    return toinsert\n  }\n\n  events.on('output_added.OutputArea', handle_add_output);\n  events.on('output_updated.OutputArea', handle_update_output);\n  events.on('clear_output.CodeCell', handle_clear_output);\n  events.on('delete.Cell', handle_clear_output);\n  events.on('kernel_ready.Kernel', handle_kernel_cleanup);\n\n  OutputArea.prototype.register_mime_type(EXEC_MIME_TYPE, append_mime, {\n    safe: true,\n    index: 0\n  });\n}\n\nif (window.Jupyter !== undefined) {\n  try {\n    var events = require('base/js/events');\n    var OutputArea = require('notebook/js/outputarea').OutputArea;\n    if (OutputArea.prototype.mime_types().indexOf(EXEC_MIME_TYPE) == -1) {\n      register_renderer(events, OutputArea);\n    }\n  } catch(err) {\n  }\n}\n",
      "application/vnd.holoviews_load.v0+json": ""
     },
     "metadata": {},
     "output_type": "display_data"
    },
    {
     "data": {
      "text/html": [
       "<style>*[data-root-id],\n",
       "*[data-root-id] > * {\n",
       "  box-sizing: border-box;\n",
       "  font-family: var(--jp-ui-font-family);\n",
       "  font-size: var(--jp-ui-font-size1);\n",
       "  color: var(--vscode-editor-foreground, var(--jp-ui-font-color1));\n",
       "}\n",
       "\n",
       "/* Override VSCode background color */\n",
       ".cell-output-ipywidget-background:has(> .cell-output-ipywidget-background\n",
       "    > .lm-Widget\n",
       "    > *[data-root-id]),\n",
       ".cell-output-ipywidget-background:has(> .lm-Widget > *[data-root-id]) {\n",
       "  background-color: transparent !important;\n",
       "}\n",
       "</style>"
      ]
     },
     "metadata": {},
     "output_type": "display_data"
    },
    {
     "data": {
      "application/javascript": "(function(root) {\n  function now() {\n    return new Date();\n  }\n\n  var force = true;\n  var py_version = '3.1.1'.replace('rc', '-rc.');\n  var is_dev = py_version.indexOf(\"+\") !== -1 || py_version.indexOf(\"-\") !== -1;\n  var reloading = true;\n  var Bokeh = root.Bokeh;\n  var bokeh_loaded = Bokeh != null && (Bokeh.version === py_version || (Bokeh.versions !== undefined && Bokeh.versions.has(py_version)));\n\n  if (typeof (root._bokeh_timeout) === \"undefined\" || force) {\n    root._bokeh_timeout = Date.now() + 5000;\n    root._bokeh_failed_load = false;\n  }\n\n  function run_callbacks() {\n    try {\n      root._bokeh_onload_callbacks.forEach(function(callback) {\n        if (callback != null)\n          callback();\n      });\n    } finally {\n      delete root._bokeh_onload_callbacks;\n    }\n    console.debug(\"Bokeh: all callbacks have finished\");\n  }\n\n  function load_libs(css_urls, js_urls, js_modules, js_exports, callback) {\n    if (css_urls == null) css_urls = [];\n    if (js_urls == null) js_urls = [];\n    if (js_modules == null) js_modules = [];\n    if (js_exports == null) js_exports = {};\n\n    root._bokeh_onload_callbacks.push(callback);\n\n    if (root._bokeh_is_loading > 0) {\n      console.debug(\"Bokeh: BokehJS is being loaded, scheduling callback at\", now());\n      return null;\n    }\n    if (js_urls.length === 0 && js_modules.length === 0 && Object.keys(js_exports).length === 0) {\n      run_callbacks();\n      return null;\n    }\n    if (!reloading) {\n      console.debug(\"Bokeh: BokehJS not loaded, scheduling load and callback at\", now());\n    }\n\n    function on_load() {\n      root._bokeh_is_loading--;\n      if (root._bokeh_is_loading === 0) {\n        console.debug(\"Bokeh: all BokehJS libraries/stylesheets loaded\");\n        run_callbacks()\n      }\n    }\n    window._bokeh_on_load = on_load\n\n    function on_error() {\n      console.error(\"failed to load \" + url);\n    }\n\n    var skip = [];\n    if (window.requirejs) {\n      window.requirejs.config({'packages': {}, 'paths': {'plotly': 'https://cdn.plot.ly/plotly-2.18.0.min', 'jspanel': 'https://cdn.jsdelivr.net/npm/jspanel4@4.12.0/dist/jspanel', 'jspanel-modal': 'https://cdn.jsdelivr.net/npm/jspanel4@4.12.0/dist/extensions/modal/jspanel.modal', 'jspanel-tooltip': 'https://cdn.jsdelivr.net/npm/jspanel4@4.12.0/dist/extensions/tooltip/jspanel.tooltip', 'jspanel-hint': 'https://cdn.jsdelivr.net/npm/jspanel4@4.12.0/dist/extensions/hint/jspanel.hint', 'jspanel-layout': 'https://cdn.jsdelivr.net/npm/jspanel4@4.12.0/dist/extensions/layout/jspanel.layout', 'jspanel-contextmenu': 'https://cdn.jsdelivr.net/npm/jspanel4@4.12.0/dist/extensions/contextmenu/jspanel.contextmenu', 'jspanel-dock': 'https://cdn.jsdelivr.net/npm/jspanel4@4.12.0/dist/extensions/dock/jspanel.dock', 'gridstack': 'https://cdn.jsdelivr.net/npm/gridstack@7.2.3/dist/gridstack-all', 'notyf': 'https://cdn.jsdelivr.net/npm/notyf@3/notyf.min'}, 'shim': {'jspanel': {'exports': 'jsPanel'}, 'gridstack': {'exports': 'GridStack'}}});\n      require([\"plotly\"], function(Plotly) {\n\twindow.Plotly = Plotly\n\ton_load()\n      })\n      require([\"jspanel\"], function(jsPanel) {\n\twindow.jsPanel = jsPanel\n\ton_load()\n      })\n      require([\"jspanel-modal\"], function() {\n\ton_load()\n      })\n      require([\"jspanel-tooltip\"], function() {\n\ton_load()\n      })\n      require([\"jspanel-hint\"], function() {\n\ton_load()\n      })\n      require([\"jspanel-layout\"], function() {\n\ton_load()\n      })\n      require([\"jspanel-contextmenu\"], function() {\n\ton_load()\n      })\n      require([\"jspanel-dock\"], function() {\n\ton_load()\n      })\n      require([\"gridstack\"], function(GridStack) {\n\twindow.GridStack = GridStack\n\ton_load()\n      })\n      require([\"notyf\"], function() {\n\ton_load()\n      })\n      root._bokeh_is_loading = css_urls.length + 10;\n    } else {\n      root._bokeh_is_loading = css_urls.length + js_urls.length + js_modules.length + Object.keys(js_exports).length;\n    }\n\n    var existing_stylesheets = []\n    var links = document.getElementsByTagName('link')\n    for (var i = 0; i < links.length; i++) {\n      var link = links[i]\n      if (link.href != null) {\n\texisting_stylesheets.push(link.href)\n      }\n    }\n    for (var i = 0; i < css_urls.length; i++) {\n      var url = css_urls[i];\n      if (existing_stylesheets.indexOf(url) !== -1) {\n\ton_load()\n\tcontinue;\n      }\n      const element = document.createElement(\"link\");\n      element.onload = on_load;\n      element.onerror = on_error;\n      element.rel = \"stylesheet\";\n      element.type = \"text/css\";\n      element.href = url;\n      console.debug(\"Bokeh: injecting link tag for BokehJS stylesheet: \", url);\n      document.body.appendChild(element);\n    }    if (((window['Plotly'] !== undefined) && (!(window['Plotly'] instanceof HTMLElement))) || window.requirejs) {\n      var urls = ['https://cdn.holoviz.org/panel/1.1.0/dist/bundled/plotlyplot/plotly-2.18.0.min.js'];\n      for (var i = 0; i < urls.length; i++) {\n        skip.push(urls[i])\n      }\n    }    if (((window['jsPanel'] !== undefined) && (!(window['jsPanel'] instanceof HTMLElement))) || window.requirejs) {\n      var urls = ['https://cdn.holoviz.org/panel/1.1.0/dist/bundled/floatpanel/jspanel4@4.12.0/dist/jspanel.js', 'https://cdn.holoviz.org/panel/1.1.0/dist/bundled/floatpanel/jspanel4@4.12.0/dist/extensions/modal/jspanel.modal.js', 'https://cdn.holoviz.org/panel/1.1.0/dist/bundled/floatpanel/jspanel4@4.12.0/dist/extensions/tooltip/jspanel.tooltip.js', 'https://cdn.holoviz.org/panel/1.1.0/dist/bundled/floatpanel/jspanel4@4.12.0/dist/extensions/hint/jspanel.hint.js', 'https://cdn.holoviz.org/panel/1.1.0/dist/bundled/floatpanel/jspanel4@4.12.0/dist/extensions/layout/jspanel.layout.js', 'https://cdn.holoviz.org/panel/1.1.0/dist/bundled/floatpanel/jspanel4@4.12.0/dist/extensions/contextmenu/jspanel.contextmenu.js', 'https://cdn.holoviz.org/panel/1.1.0/dist/bundled/floatpanel/jspanel4@4.12.0/dist/extensions/dock/jspanel.dock.js'];\n      for (var i = 0; i < urls.length; i++) {\n        skip.push(urls[i])\n      }\n    }    if (((window['GridStack'] !== undefined) && (!(window['GridStack'] instanceof HTMLElement))) || window.requirejs) {\n      var urls = ['https://cdn.holoviz.org/panel/1.1.0/dist/bundled/gridstack/gridstack@7.2.3/dist/gridstack-all.js'];\n      for (var i = 0; i < urls.length; i++) {\n        skip.push(urls[i])\n      }\n    }    if (((window['Notyf'] !== undefined) && (!(window['Notyf'] instanceof HTMLElement))) || window.requirejs) {\n      var urls = ['https://cdn.holoviz.org/panel/1.1.0/dist/bundled/notificationarea/notyf@3/notyf.min.js'];\n      for (var i = 0; i < urls.length; i++) {\n        skip.push(urls[i])\n      }\n    }    var existing_scripts = []\n    var scripts = document.getElementsByTagName('script')\n    for (var i = 0; i < scripts.length; i++) {\n      var script = scripts[i]\n      if (script.src != null) {\n\texisting_scripts.push(script.src)\n      }\n    }\n    for (var i = 0; i < js_urls.length; i++) {\n      var url = js_urls[i];\n      if (skip.indexOf(url) !== -1 || existing_scripts.indexOf(url) !== -1) {\n\tif (!window.requirejs) {\n\t  on_load();\n\t}\n\tcontinue;\n      }\n      var element = document.createElement('script');\n      element.onload = on_load;\n      element.onerror = on_error;\n      element.async = false;\n      element.src = url;\n      console.debug(\"Bokeh: injecting script tag for BokehJS library: \", url);\n      document.head.appendChild(element);\n    }\n    for (var i = 0; i < js_modules.length; i++) {\n      var url = js_modules[i];\n      if (skip.indexOf(url) !== -1 || existing_scripts.indexOf(url) !== -1) {\n\tif (!window.requirejs) {\n\t  on_load();\n\t}\n\tcontinue;\n      }\n      var element = document.createElement('script');\n      element.onload = on_load;\n      element.onerror = on_error;\n      element.async = false;\n      element.src = url;\n      element.type = \"module\";\n      console.debug(\"Bokeh: injecting script tag for BokehJS library: \", url);\n      document.head.appendChild(element);\n    }\n    for (const name in js_exports) {\n      var url = js_exports[name];\n      if (skip.indexOf(url) >= 0 || root[name] != null) {\n\tif (!window.requirejs) {\n\t  on_load();\n\t}\n\tcontinue;\n      }\n      var element = document.createElement('script');\n      element.onerror = on_error;\n      element.async = false;\n      element.type = \"module\";\n      console.debug(\"Bokeh: injecting script tag for BokehJS library: \", url);\n      element.textContent = `\n      import ${name} from \"${url}\"\n      window.${name} = ${name}\n      window._bokeh_on_load()\n      `\n      document.head.appendChild(element);\n    }\n    if (!js_urls.length && !js_modules.length) {\n      on_load()\n    }\n  };\n\n  function inject_raw_css(css) {\n    const element = document.createElement(\"style\");\n    element.appendChild(document.createTextNode(css));\n    document.body.appendChild(element);\n  }\n\n  var js_urls = [\"https://cdn.holoviz.org/panel/1.1.0/dist/bundled/jquery/jquery.slim.min.js\", \"https://cdn.holoviz.org/panel/1.1.0/dist/bundled/plotlyplot/plotly-2.18.0.min.js\"];\n  var js_modules = [];\n  var js_exports = {};\n  var css_urls = [];\n  var inline_js = [    function(Bokeh) {\n      Bokeh.set_log_level(\"info\");\n    },\nfunction(Bokeh) {} // ensure no trailing comma for IE\n  ];\n\n  function run_inline_js() {\n    if ((root.Bokeh !== undefined) || (force === true)) {\n      for (var i = 0; i < inline_js.length; i++) {\n        inline_js[i].call(root, root.Bokeh);\n      }\n      // Cache old bokeh versions\n      if (Bokeh != undefined && !reloading) {\n\tvar NewBokeh = root.Bokeh;\n\tif (Bokeh.versions === undefined) {\n\t  Bokeh.versions = new Map();\n\t}\n\tif (NewBokeh.version !== Bokeh.version) {\n\t  Bokeh.versions.set(NewBokeh.version, NewBokeh)\n\t}\n\troot.Bokeh = Bokeh;\n      }} else if (Date.now() < root._bokeh_timeout) {\n      setTimeout(run_inline_js, 100);\n    } else if (!root._bokeh_failed_load) {\n      console.log(\"Bokeh: BokehJS failed to load within specified timeout.\");\n      root._bokeh_failed_load = true;\n    }\n    root._bokeh_is_initializing = false\n  }\n\n  function load_or_wait() {\n    // Implement a backoff loop that tries to ensure we do not load multiple\n    // versions of Bokeh and its dependencies at the same time.\n    // In recent versions we use the root._bokeh_is_initializing flag\n    // to determine whether there is an ongoing attempt to initialize\n    // bokeh, however for backward compatibility we also try to ensure\n    // that we do not start loading a newer (Panel>=1.0 and Bokeh>3) version\n    // before older versions are fully initialized.\n    if (root._bokeh_is_initializing && Date.now() > root._bokeh_timeout) {\n      root._bokeh_is_initializing = false;\n      root._bokeh_onload_callbacks = undefined;\n      console.log(\"Bokeh: BokehJS was loaded multiple times but one version failed to initialize.\");\n      load_or_wait();\n    } else if (root._bokeh_is_initializing || (typeof root._bokeh_is_initializing === \"undefined\" && root._bokeh_onload_callbacks !== undefined)) {\n      setTimeout(load_or_wait, 100);\n    } else {\n      Bokeh = root.Bokeh;\n      bokeh_loaded = Bokeh != null && (Bokeh.version === py_version || (Bokeh.versions !== undefined && Bokeh.versions.has(py_version)));\n      root._bokeh_is_initializing = true\n      root._bokeh_onload_callbacks = []\n      if (!reloading && (!bokeh_loaded || is_dev)) {\n\troot.Bokeh = undefined;\n      }\n      load_libs(css_urls, js_urls, js_modules, js_exports, function() {\n\tconsole.debug(\"Bokeh: BokehJS plotting callback run at\", now());\n\trun_inline_js();\n      });\n    }\n  }\n  // Give older versions of the autoload script a head-start to ensure\n  // they initialize before we start loading newer version.\n  setTimeout(load_or_wait, 100)\n}(window));",
      "application/vnd.holoviews_load.v0+json": ""
     },
     "metadata": {},
     "output_type": "display_data"
    },
    {
     "data": {
      "application/javascript": "\nif ((window.PyViz === undefined) || (window.PyViz instanceof HTMLElement)) {\n  window.PyViz = {comms: {}, comm_status:{}, kernels:{}, receivers: {}, plot_index: []}\n}\n\n\n    function JupyterCommManager() {\n    }\n\n    JupyterCommManager.prototype.register_target = function(plot_id, comm_id, msg_handler) {\n      if (window.comm_manager || ((window.Jupyter !== undefined) && (Jupyter.notebook.kernel != null))) {\n        var comm_manager = window.comm_manager || Jupyter.notebook.kernel.comm_manager;\n        comm_manager.register_target(comm_id, function(comm) {\n          comm.on_msg(msg_handler);\n        });\n      } else if ((plot_id in window.PyViz.kernels) && (window.PyViz.kernels[plot_id])) {\n        window.PyViz.kernels[plot_id].registerCommTarget(comm_id, function(comm) {\n          comm.onMsg = msg_handler;\n        });\n      } else if (typeof google != 'undefined' && google.colab.kernel != null) {\n        google.colab.kernel.comms.registerTarget(comm_id, (comm) => {\n          var messages = comm.messages[Symbol.asyncIterator]();\n          function processIteratorResult(result) {\n            var message = result.value;\n            console.log(message)\n            var content = {data: message.data, comm_id};\n            var buffers = []\n            for (var buffer of message.buffers || []) {\n              buffers.push(new DataView(buffer))\n            }\n            var metadata = message.metadata || {};\n            var msg = {content, buffers, metadata}\n            msg_handler(msg);\n            return messages.next().then(processIteratorResult);\n          }\n          return messages.next().then(processIteratorResult);\n        })\n      }\n    }\n\n    JupyterCommManager.prototype.get_client_comm = function(plot_id, comm_id, msg_handler) {\n      if (comm_id in window.PyViz.comms) {\n        return window.PyViz.comms[comm_id];\n      } else if (window.comm_manager || ((window.Jupyter !== undefined) && (Jupyter.notebook.kernel != null))) {\n        var comm_manager = window.comm_manager || Jupyter.notebook.kernel.comm_manager;\n        var comm = comm_manager.new_comm(comm_id, {}, {}, {}, comm_id);\n        if (msg_handler) {\n          comm.on_msg(msg_handler);\n        }\n      } else if ((plot_id in window.PyViz.kernels) && (window.PyViz.kernels[plot_id])) {\n        var comm = window.PyViz.kernels[plot_id].connectToComm(comm_id);\n        comm.open();\n        if (msg_handler) {\n          comm.onMsg = msg_handler;\n        }\n      } else if (typeof google != 'undefined' && google.colab.kernel != null) {\n        var comm_promise = google.colab.kernel.comms.open(comm_id)\n        comm_promise.then((comm) => {\n          window.PyViz.comms[comm_id] = comm;\n          if (msg_handler) {\n            var messages = comm.messages[Symbol.asyncIterator]();\n            function processIteratorResult(result) {\n              var message = result.value;\n              var content = {data: message.data};\n              var metadata = message.metadata || {comm_id};\n              var msg = {content, metadata}\n              msg_handler(msg);\n              return messages.next().then(processIteratorResult);\n            }\n            return messages.next().then(processIteratorResult);\n          }\n        }) \n        var sendClosure = (data, metadata, buffers, disposeOnDone) => {\n          return comm_promise.then((comm) => {\n            comm.send(data, metadata, buffers, disposeOnDone);\n          });\n        };\n        var comm = {\n          send: sendClosure\n        };\n      }\n      window.PyViz.comms[comm_id] = comm;\n      return comm;\n    }\n    window.PyViz.comm_manager = new JupyterCommManager();\n    \n\n\nvar JS_MIME_TYPE = 'application/javascript';\nvar HTML_MIME_TYPE = 'text/html';\nvar EXEC_MIME_TYPE = 'application/vnd.holoviews_exec.v0+json';\nvar CLASS_NAME = 'output';\n\n/**\n * Render data to the DOM node\n */\nfunction render(props, node) {\n  var div = document.createElement(\"div\");\n  var script = document.createElement(\"script\");\n  node.appendChild(div);\n  node.appendChild(script);\n}\n\n/**\n * Handle when a new output is added\n */\nfunction handle_add_output(event, handle) {\n  var output_area = handle.output_area;\n  var output = handle.output;\n  if ((output.data == undefined) || (!output.data.hasOwnProperty(EXEC_MIME_TYPE))) {\n    return\n  }\n  var id = output.metadata[EXEC_MIME_TYPE][\"id\"];\n  var toinsert = output_area.element.find(\".\" + CLASS_NAME.split(' ')[0]);\n  if (id !== undefined) {\n    var nchildren = toinsert.length;\n    var html_node = toinsert[nchildren-1].children[0];\n    html_node.innerHTML = output.data[HTML_MIME_TYPE];\n    var scripts = [];\n    var nodelist = html_node.querySelectorAll(\"script\");\n    for (var i in nodelist) {\n      if (nodelist.hasOwnProperty(i)) {\n        scripts.push(nodelist[i])\n      }\n    }\n\n    scripts.forEach( function (oldScript) {\n      var newScript = document.createElement(\"script\");\n      var attrs = [];\n      var nodemap = oldScript.attributes;\n      for (var j in nodemap) {\n        if (nodemap.hasOwnProperty(j)) {\n          attrs.push(nodemap[j])\n        }\n      }\n      attrs.forEach(function(attr) { newScript.setAttribute(attr.name, attr.value) });\n      newScript.appendChild(document.createTextNode(oldScript.innerHTML));\n      oldScript.parentNode.replaceChild(newScript, oldScript);\n    });\n    if (JS_MIME_TYPE in output.data) {\n      toinsert[nchildren-1].children[1].textContent = output.data[JS_MIME_TYPE];\n    }\n    output_area._hv_plot_id = id;\n    if ((window.Bokeh !== undefined) && (id in Bokeh.index)) {\n      window.PyViz.plot_index[id] = Bokeh.index[id];\n    } else {\n      window.PyViz.plot_index[id] = null;\n    }\n  } else if (output.metadata[EXEC_MIME_TYPE][\"server_id\"] !== undefined) {\n    var bk_div = document.createElement(\"div\");\n    bk_div.innerHTML = output.data[HTML_MIME_TYPE];\n    var script_attrs = bk_div.children[0].attributes;\n    for (var i = 0; i < script_attrs.length; i++) {\n      toinsert[toinsert.length - 1].childNodes[1].setAttribute(script_attrs[i].name, script_attrs[i].value);\n    }\n    // store reference to server id on output_area\n    output_area._bokeh_server_id = output.metadata[EXEC_MIME_TYPE][\"server_id\"];\n  }\n}\n\n/**\n * Handle when an output is cleared or removed\n */\nfunction handle_clear_output(event, handle) {\n  var id = handle.cell.output_area._hv_plot_id;\n  var server_id = handle.cell.output_area._bokeh_server_id;\n  if (((id === undefined) || !(id in PyViz.plot_index)) && (server_id !== undefined)) { return; }\n  var comm = window.PyViz.comm_manager.get_client_comm(\"hv-extension-comm\", \"hv-extension-comm\", function () {});\n  if (server_id !== null) {\n    comm.send({event_type: 'server_delete', 'id': server_id});\n    return;\n  } else if (comm !== null) {\n    comm.send({event_type: 'delete', 'id': id});\n  }\n  delete PyViz.plot_index[id];\n  if ((window.Bokeh !== undefined) & (id in window.Bokeh.index)) {\n    var doc = window.Bokeh.index[id].model.document\n    doc.clear();\n    const i = window.Bokeh.documents.indexOf(doc);\n    if (i > -1) {\n      window.Bokeh.documents.splice(i, 1);\n    }\n  }\n}\n\n/**\n * Handle kernel restart event\n */\nfunction handle_kernel_cleanup(event, handle) {\n  delete PyViz.comms[\"hv-extension-comm\"];\n  window.PyViz.plot_index = {}\n}\n\n/**\n * Handle update_display_data messages\n */\nfunction handle_update_output(event, handle) {\n  handle_clear_output(event, {cell: {output_area: handle.output_area}})\n  handle_add_output(event, handle)\n}\n\nfunction register_renderer(events, OutputArea) {\n  function append_mime(data, metadata, element) {\n    // create a DOM node to render to\n    var toinsert = this.create_output_subarea(\n    metadata,\n    CLASS_NAME,\n    EXEC_MIME_TYPE\n    );\n    this.keyboard_manager.register_events(toinsert);\n    // Render to node\n    var props = {data: data, metadata: metadata[EXEC_MIME_TYPE]};\n    render(props, toinsert[0]);\n    element.append(toinsert);\n    return toinsert\n  }\n\n  events.on('output_added.OutputArea', handle_add_output);\n  events.on('output_updated.OutputArea', handle_update_output);\n  events.on('clear_output.CodeCell', handle_clear_output);\n  events.on('delete.Cell', handle_clear_output);\n  events.on('kernel_ready.Kernel', handle_kernel_cleanup);\n\n  OutputArea.prototype.register_mime_type(EXEC_MIME_TYPE, append_mime, {\n    safe: true,\n    index: 0\n  });\n}\n\nif (window.Jupyter !== undefined) {\n  try {\n    var events = require('base/js/events');\n    var OutputArea = require('notebook/js/outputarea').OutputArea;\n    if (OutputArea.prototype.mime_types().indexOf(EXEC_MIME_TYPE) == -1) {\n      register_renderer(events, OutputArea);\n    }\n  } catch(err) {\n  }\n}\n",
      "application/vnd.holoviews_load.v0+json": ""
     },
     "metadata": {},
     "output_type": "display_data"
    },
    {
     "data": {
      "text/html": [
       "<style>*[data-root-id],\n",
       "*[data-root-id] > * {\n",
       "  box-sizing: border-box;\n",
       "  font-family: var(--jp-ui-font-family);\n",
       "  font-size: var(--jp-ui-font-size1);\n",
       "  color: var(--vscode-editor-foreground, var(--jp-ui-font-color1));\n",
       "}\n",
       "\n",
       "/* Override VSCode background color */\n",
       ".cell-output-ipywidget-background:has(> .cell-output-ipywidget-background\n",
       "    > .lm-Widget\n",
       "    > *[data-root-id]),\n",
       ".cell-output-ipywidget-background:has(> .lm-Widget > *[data-root-id]) {\n",
       "  background-color: transparent !important;\n",
       "}\n",
       "</style>"
      ]
     },
     "metadata": {},
     "output_type": "display_data"
    }
   ],
   "source": [
    "# standard imports\n",
    "import os\n",
    "import pandas as pd\n",
    "import numpy as np\n",
    "from datetime import datetime\n",
    "from os.path import dirname, abspath\n",
    "from dateutil import parser\n",
    "import scipy.stats as stats\n",
    "\n",
    "# for visualization\n",
    "import datashader as ds, bokeh\n",
    "import holoviews as hv\n",
    "from holoviews import opts\n",
    "import hvplot.pandas     # adds hvplot method to pandas objects\n",
    "import colorcet as cc\n",
    "from colorcet.plotting import swatch, swatches, candy_buttons\n",
    "\n",
    "import panel as pn\n",
    "import panel.widgets as pnw\n",
    "\n",
    "hv.extension('bokeh','matplotlib', 'plotly')"
   ]
  },
  {
   "cell_type": "code",
   "execution_count": 3,
   "id": "0bf274c6-35b2-4ad2-a1c5-d1d44729925f",
   "metadata": {
    "tags": []
   },
   "outputs": [],
   "source": [
    "# Read in the csv files from the processed data folder\n",
    "project_dir = dirname(dirname(abspath(\"03-data-exploration.ipynb\")))\n",
    "videos_df = pd.read_csv(project_dir + \"/data/processed/fitness_videos_processed_2023_07_11.csv\")\n",
    "channels_df = pd.read_csv(project_dir + \"/data/processed/fitness_channels_processed_2023_07_11.csv\")"
   ]
  },
  {
   "cell_type": "code",
   "execution_count": 4,
   "id": "ecfb43f1",
   "metadata": {},
   "outputs": [],
   "source": [
    "# Get the names of columns that are of boolean data type\n",
    "boolean_columns = videos_df.select_dtypes(include='bool').columns.tolist()\n",
    "\n",
    "# Convert boolean columns to numeric (0 or 1)\n",
    "videos_df[boolean_columns] = videos_df[boolean_columns].astype(int)\n",
    "\n",
    "# Get only the date from the datetime column\n",
    "channels_df['published_datetime'] = pd.to_datetime(channels_df['published_date'].apply(lambda x: parser.parse(x)))\n",
    "channels_df['published_date'] = channels_df['published_datetime'].dt.date"
   ]
  },
  {
   "cell_type": "markdown",
   "id": "b1ce7477",
   "metadata": {},
   "source": [
    "#### Which channels have the highest average views, likes, and comments per video?"
   ]
  },
  {
   "cell_type": "markdown",
   "id": "08f1dc0e",
   "metadata": {},
   "source": [
    "Since some channels have been around longer than others, comparing the total views, likes, and comments might not provide a fair comparison. Instead, it is more appropriate to compare the channels based on the average views, likes, and comments per video. By calculating the average views, likes, and comments per video for each channel, you can compare the channels' performance in a more equitable manner, considering the engagement metrics on a per-video basis. This way, even channels with a smaller number of videos or channels that have been active for a shorter duration can be fairly compared with others."
   ]
  },
  {
   "cell_type": "code",
   "execution_count": 5,
   "id": "20bd43ff",
   "metadata": {},
   "outputs": [
    {
     "data": {
      "text/html": [
       "<style type=\"text/css\">\n",
       "#T_bd6d1_row0_col1 {\n",
       "  background-color: #abd0e6;\n",
       "  color: #000000;\n",
       "}\n",
       "#T_bd6d1_row0_col2 {\n",
       "  background-color: #084a91;\n",
       "  color: #f1f1f1;\n",
       "}\n",
       "#T_bd6d1_row0_col3 {\n",
       "  background-color: #afd1e7;\n",
       "  color: #000000;\n",
       "}\n",
       "#T_bd6d1_row0_col4 {\n",
       "  background-color: #1b69af;\n",
       "  color: #f1f1f1;\n",
       "}\n",
       "#T_bd6d1_row0_col5 {\n",
       "  background-color: #99c7e0;\n",
       "  color: #000000;\n",
       "}\n",
       "#T_bd6d1_row1_col1, #T_bd6d1_row1_col3, #T_bd6d1_row1_col4, #T_bd6d1_row1_col5, #T_bd6d1_row2_col2 {\n",
       "  background-color: #08306b;\n",
       "  color: #f1f1f1;\n",
       "}\n",
       "#T_bd6d1_row1_col2, #T_bd6d1_row2_col1, #T_bd6d1_row2_col3, #T_bd6d1_row2_col4, #T_bd6d1_row2_col5 {\n",
       "  background-color: #f7fbff;\n",
       "  color: #000000;\n",
       "}\n",
       "#T_bd6d1_row3_col1 {\n",
       "  background-color: #cbdef1;\n",
       "  color: #000000;\n",
       "}\n",
       "#T_bd6d1_row3_col2 {\n",
       "  background-color: #e1edf8;\n",
       "  color: #000000;\n",
       "}\n",
       "#T_bd6d1_row3_col3 {\n",
       "  background-color: #cde0f1;\n",
       "  color: #000000;\n",
       "}\n",
       "#T_bd6d1_row3_col4, #T_bd6d1_row4_col4 {\n",
       "  background-color: #ccdff1;\n",
       "  color: #000000;\n",
       "}\n",
       "#T_bd6d1_row3_col5 {\n",
       "  background-color: #d6e5f4;\n",
       "  color: #000000;\n",
       "}\n",
       "#T_bd6d1_row4_col1 {\n",
       "  background-color: #b4d3e9;\n",
       "  color: #000000;\n",
       "}\n",
       "#T_bd6d1_row4_col2 {\n",
       "  background-color: #b0d2e7;\n",
       "  color: #000000;\n",
       "}\n",
       "#T_bd6d1_row4_col3 {\n",
       "  background-color: #d4e4f4;\n",
       "  color: #000000;\n",
       "}\n",
       "#T_bd6d1_row4_col5 {\n",
       "  background-color: #dce9f6;\n",
       "  color: #000000;\n",
       "}\n",
       "</style>\n",
       "<table id=\"T_bd6d1\">\n",
       "  <thead>\n",
       "    <tr>\n",
       "      <th class=\"blank level0\" >&nbsp;</th>\n",
       "      <th id=\"T_bd6d1_level0_col0\" class=\"col_heading level0 col0\" >published_date</th>\n",
       "      <th id=\"T_bd6d1_level0_col1\" class=\"col_heading level0 col1\" >total_subscribers</th>\n",
       "      <th id=\"T_bd6d1_level0_col2\" class=\"col_heading level0 col2\" >total_videos</th>\n",
       "      <th id=\"T_bd6d1_level0_col3\" class=\"col_heading level0 col3\" >average_views</th>\n",
       "      <th id=\"T_bd6d1_level0_col4\" class=\"col_heading level0 col4\" >average_likes</th>\n",
       "      <th id=\"T_bd6d1_level0_col5\" class=\"col_heading level0 col5\" >average_comments</th>\n",
       "    </tr>\n",
       "    <tr>\n",
       "      <th class=\"index_name level0\" >channel</th>\n",
       "      <th class=\"blank col0\" >&nbsp;</th>\n",
       "      <th class=\"blank col1\" >&nbsp;</th>\n",
       "      <th class=\"blank col2\" >&nbsp;</th>\n",
       "      <th class=\"blank col3\" >&nbsp;</th>\n",
       "      <th class=\"blank col4\" >&nbsp;</th>\n",
       "      <th class=\"blank col5\" >&nbsp;</th>\n",
       "    </tr>\n",
       "  </thead>\n",
       "  <tbody>\n",
       "    <tr>\n",
       "      <th id=\"T_bd6d1_level0_row0\" class=\"row_heading level0 row0\" >blogilates</th>\n",
       "      <td id=\"T_bd6d1_row0_col0\" class=\"data row0 col0\" >2009-06-13</td>\n",
       "      <td id=\"T_bd6d1_row0_col1\" class=\"data row0 col1\" >8730000</td>\n",
       "      <td id=\"T_bd6d1_row0_col2\" class=\"data row0 col2\" >1184</td>\n",
       "      <td id=\"T_bd6d1_row0_col3\" class=\"data row0 col3\" >2415288.0</td>\n",
       "      <td id=\"T_bd6d1_row0_col4\" class=\"data row0 col4\" >112896.1</td>\n",
       "      <td id=\"T_bd6d1_row0_col5\" class=\"data row0 col5\" >1702.8</td>\n",
       "    </tr>\n",
       "    <tr>\n",
       "      <th id=\"T_bd6d1_level0_row1\" class=\"row_heading level0 row1\" >Chloe Ting</th>\n",
       "      <td id=\"T_bd6d1_row1_col0\" class=\"data row1 col0\" >2011-08-17</td>\n",
       "      <td id=\"T_bd6d1_row1_col1\" class=\"data row1 col1\" >24700000</td>\n",
       "      <td id=\"T_bd6d1_row1_col2\" class=\"data row1 col2\" >410</td>\n",
       "      <td id=\"T_bd6d1_row1_col3\" class=\"data row1 col3\" >7297930.2</td>\n",
       "      <td id=\"T_bd6d1_row1_col4\" class=\"data row1 col4\" >144762.5</td>\n",
       "      <td id=\"T_bd6d1_row1_col5\" class=\"data row1 col5\" >4225.5</td>\n",
       "    </tr>\n",
       "    <tr>\n",
       "      <th id=\"T_bd6d1_level0_row2\" class=\"row_heading level0 row2\" >Rebecca-Louise</th>\n",
       "      <td id=\"T_bd6d1_row2_col0\" class=\"data row2 col0\" >2012-09-22</td>\n",
       "      <td id=\"T_bd6d1_row2_col1\" class=\"data row2 col1\" >720000</td>\n",
       "      <td id=\"T_bd6d1_row2_col2\" class=\"data row2 col2\" >1269</td>\n",
       "      <td id=\"T_bd6d1_row2_col3\" class=\"data row2 col3\" >92988.1</td>\n",
       "      <td id=\"T_bd6d1_row2_col4\" class=\"data row2 col4\" >1251.9</td>\n",
       "      <td id=\"T_bd6d1_row2_col5\" class=\"data row2 col5\" >86.4</td>\n",
       "    </tr>\n",
       "    <tr>\n",
       "      <th id=\"T_bd6d1_level0_row3\" class=\"row_heading level0 row3\" >emi wong</th>\n",
       "      <td id=\"T_bd6d1_row3_col0\" class=\"data row3 col0\" >2014-11-02</td>\n",
       "      <td id=\"T_bd6d1_row3_col1\" class=\"data row3 col1\" >6130000</td>\n",
       "      <td id=\"T_bd6d1_row3_col2\" class=\"data row3 col2\" >506</td>\n",
       "      <td id=\"T_bd6d1_row3_col3\" class=\"data row3 col3\" >1634240.1</td>\n",
       "      <td id=\"T_bd6d1_row3_col4\" class=\"data row3 col4\" >33017.5</td>\n",
       "      <td id=\"T_bd6d1_row3_col5\" class=\"data row3 col5\" >782.8</td>\n",
       "    </tr>\n",
       "    <tr>\n",
       "      <th id=\"T_bd6d1_level0_row4\" class=\"row_heading level0 row4\" >MadFit</th>\n",
       "      <td id=\"T_bd6d1_row4_col0\" class=\"data row4 col0\" >2018-03-02</td>\n",
       "      <td id=\"T_bd6d1_row4_col1\" class=\"data row4 col1\" >8050000</td>\n",
       "      <td id=\"T_bd6d1_row4_col2\" class=\"data row4 col2\" >683</td>\n",
       "      <td id=\"T_bd6d1_row4_col3\" class=\"data row4 col3\" >1367484.0</td>\n",
       "      <td id=\"T_bd6d1_row4_col4\" class=\"data row4 col4\" >32873.8</td>\n",
       "      <td id=\"T_bd6d1_row4_col5\" class=\"data row4 col5\" >655.7</td>\n",
       "    </tr>\n",
       "  </tbody>\n",
       "</table>\n"
      ],
      "text/plain": [
       "<pandas.io.formats.style.Styler at 0x16c05840f10>"
      ]
     },
     "execution_count": 5,
     "metadata": {},
     "output_type": "execute_result"
    }
   ],
   "source": [
    "channels_summary = (videos_df\n",
    "                    .groupby('channel')\n",
    "                    .agg(total_videos = ('video_id', np.size),\n",
    "                         average_views = ('total_views', np.mean),\n",
    "                         average_likes = ('total_likes', np.mean),\n",
    "                         average_comments = ('total_comments', np.mean)\n",
    "                         )\n",
    "                    .reset_index()\n",
    "                    )\n",
    "\n",
    "channels_summary = (channels_df[['channel', 'published_date','total_subscribers']]\n",
    "                    .merge(channels_summary, on='channel', how='left')\n",
    "                    .sort_values(by='published_date')\n",
    "                    .set_index('channel')\n",
    "                    .style\n",
    "                    .format(precision=1)\n",
    "                    .background_gradient(cmap='Blues')\n",
    "                    )\n",
    "\n",
    "channels_summary"
   ]
  },
  {
   "cell_type": "markdown",
   "id": "77bfc5c5",
   "metadata": {},
   "source": [
    "We can see that Chloe Ting has the highest performance in all metric despite having the lowest number of videos. On the other hand, Rebecca-louise has the lowest performance in all metrics despite having the highest number of videos in her channel."
   ]
  },
  {
   "cell_type": "markdown",
   "id": "d805c797",
   "metadata": {},
   "source": [
    "#### Is there any correlation between video duration and engagement metrics (views, likes, comments)?"
   ]
  },
  {
   "cell_type": "code",
   "execution_count": 6,
   "id": "71c60c90",
   "metadata": {},
   "outputs": [
    {
     "name": "stdout",
     "output_type": "stream",
     "text": [
      "Correlation Matrix:\n",
      "                duration_mins  total_views  total_likes  total_comments\n",
      "duration_mins        1.000000    -0.008449    -0.099690        0.004963\n",
      "total_views         -0.008449     1.000000     0.858080        0.950088\n",
      "total_likes         -0.099690     0.858080     1.000000        0.799916\n",
      "total_comments       0.004963     0.950088     0.799916        1.000000\n",
      "\n",
      "P-Values:\n",
      "                duration_mins  total_views   total_likes  total_comments\n",
      "duration_mins    1.000000e+00     0.590809  2.022046e-10        0.752122\n",
      "total_views      5.908088e-01     1.000000  0.000000e+00        0.000000\n",
      "total_likes      2.022046e-10     0.000000  1.000000e+00        0.000000\n",
      "total_comments   7.521217e-01     0.000000  0.000000e+00        1.000000\n"
     ]
    }
   ],
   "source": [
    "# Select the relevant columns for the correlation test\n",
    "columns_for_correlation = ['duration_mins', 'total_views', 'total_likes', 'total_comments']\n",
    "correlation_data = videos_df[columns_for_correlation]\n",
    "\n",
    "# Calculate the Pearson correlation coefficient and p-values for each pair of variables\n",
    "correlation_results = correlation_data.corr(method='pearson')\n",
    "p_values = correlation_data.corr(method=lambda x, y: stats.pearsonr(x, y)[1])\n",
    "\n",
    "# Display the correlation matrix and p-values\n",
    "print(\"Correlation Matrix:\")\n",
    "print(correlation_results)\n",
    "\n",
    "print(\"\\nP-Values:\")\n",
    "print(p_values)"
   ]
  },
  {
   "cell_type": "markdown",
   "id": "e56eabc4",
   "metadata": {},
   "source": [
    "#### Is there any seasonal pattern in video uploads for each channel?"
   ]
  },
  {
   "cell_type": "code",
   "execution_count": 6,
   "id": "f037f223",
   "metadata": {},
   "outputs": [
    {
     "data": {},
     "metadata": {},
     "output_type": "display_data"
    },
    {
     "data": {
      "application/vnd.holoviews_exec.v0+json": "",
      "text/html": [
       "<div id='p1002'>\n",
       "  <div id=\"d96801b5-618b-49cb-9b1a-e34f83ad4e60\" data-root-id=\"p1002\" style=\"display: contents;\"></div>\n",
       "</div>\n",
       "<script type=\"application/javascript\">(function(root) {\n",
       "  var docs_json = {\"5e3a76ca-389b-4561-8c35-157a58ac6ec5\":{\"version\":\"3.1.1\",\"title\":\"Bokeh Application\",\"defs\":[{\"type\":\"model\",\"name\":\"ReactiveHTML1\"},{\"type\":\"model\",\"name\":\"FlexBox1\",\"properties\":[{\"name\":\"align_content\",\"kind\":\"Any\",\"default\":\"flex-start\"},{\"name\":\"align_items\",\"kind\":\"Any\",\"default\":\"flex-start\"},{\"name\":\"flex_direction\",\"kind\":\"Any\",\"default\":\"row\"},{\"name\":\"flex_wrap\",\"kind\":\"Any\",\"default\":\"wrap\"},{\"name\":\"justify_content\",\"kind\":\"Any\",\"default\":\"flex-start\"}]},{\"type\":\"model\",\"name\":\"FloatPanel1\",\"properties\":[{\"name\":\"config\",\"kind\":\"Any\",\"default\":{\"type\":\"map\"}},{\"name\":\"contained\",\"kind\":\"Any\",\"default\":true},{\"name\":\"position\",\"kind\":\"Any\",\"default\":\"right-top\"},{\"name\":\"offsetx\",\"kind\":\"Any\",\"default\":null},{\"name\":\"offsety\",\"kind\":\"Any\",\"default\":null},{\"name\":\"theme\",\"kind\":\"Any\",\"default\":\"primary\"},{\"name\":\"status\",\"kind\":\"Any\",\"default\":\"normalized\"}]},{\"type\":\"model\",\"name\":\"GridStack1\",\"properties\":[{\"name\":\"mode\",\"kind\":\"Any\",\"default\":\"warn\"},{\"name\":\"ncols\",\"kind\":\"Any\",\"default\":null},{\"name\":\"nrows\",\"kind\":\"Any\",\"default\":null},{\"name\":\"allow_resize\",\"kind\":\"Any\",\"default\":true},{\"name\":\"allow_drag\",\"kind\":\"Any\",\"default\":true},{\"name\":\"state\",\"kind\":\"Any\",\"default\":[]}]},{\"type\":\"model\",\"name\":\"drag1\",\"properties\":[{\"name\":\"slider_width\",\"kind\":\"Any\",\"default\":5},{\"name\":\"slider_color\",\"kind\":\"Any\",\"default\":\"black\"},{\"name\":\"value\",\"kind\":\"Any\",\"default\":50}]},{\"type\":\"model\",\"name\":\"click1\",\"properties\":[{\"name\":\"terminal_output\",\"kind\":\"Any\",\"default\":\"\"},{\"name\":\"debug_name\",\"kind\":\"Any\",\"default\":\"\"},{\"name\":\"clears\",\"kind\":\"Any\",\"default\":0}]},{\"type\":\"model\",\"name\":\"FastWrapper1\",\"properties\":[{\"name\":\"object\",\"kind\":\"Any\",\"default\":null},{\"name\":\"style\",\"kind\":\"Any\",\"default\":null}]},{\"type\":\"model\",\"name\":\"NotificationAreaBase1\",\"properties\":[{\"name\":\"position\",\"kind\":\"Any\",\"default\":\"bottom-right\"},{\"name\":\"_clear\",\"kind\":\"Any\",\"default\":0}]},{\"type\":\"model\",\"name\":\"NotificationArea1\",\"properties\":[{\"name\":\"notifications\",\"kind\":\"Any\",\"default\":[]},{\"name\":\"position\",\"kind\":\"Any\",\"default\":\"bottom-right\"},{\"name\":\"_clear\",\"kind\":\"Any\",\"default\":0},{\"name\":\"types\",\"kind\":\"Any\",\"default\":[{\"type\":\"map\",\"entries\":[[\"type\",\"warning\"],[\"background\",\"#ffc107\"],[\"icon\",{\"type\":\"map\",\"entries\":[[\"className\",\"fas fa-exclamation-triangle\"],[\"tagName\",\"i\"],[\"color\",\"white\"]]}]]},{\"type\":\"map\",\"entries\":[[\"type\",\"info\"],[\"background\",\"#007bff\"],[\"icon\",{\"type\":\"map\",\"entries\":[[\"className\",\"fas fa-info-circle\"],[\"tagName\",\"i\"],[\"color\",\"white\"]]}]]}]}]},{\"type\":\"model\",\"name\":\"Notification\",\"properties\":[{\"name\":\"background\",\"kind\":\"Any\",\"default\":null},{\"name\":\"duration\",\"kind\":\"Any\",\"default\":3000},{\"name\":\"icon\",\"kind\":\"Any\",\"default\":null},{\"name\":\"message\",\"kind\":\"Any\",\"default\":\"\"},{\"name\":\"notification_type\",\"kind\":\"Any\",\"default\":null},{\"name\":\"_destroyed\",\"kind\":\"Any\",\"default\":false}]},{\"type\":\"model\",\"name\":\"TemplateActions1\",\"properties\":[{\"name\":\"open_modal\",\"kind\":\"Any\",\"default\":0},{\"name\":\"close_modal\",\"kind\":\"Any\",\"default\":0}]},{\"type\":\"model\",\"name\":\"BootstrapTemplateActions1\",\"properties\":[{\"name\":\"open_modal\",\"kind\":\"Any\",\"default\":0},{\"name\":\"close_modal\",\"kind\":\"Any\",\"default\":0}]},{\"type\":\"model\",\"name\":\"MaterialTemplateActions1\",\"properties\":[{\"name\":\"open_modal\",\"kind\":\"Any\",\"default\":0},{\"name\":\"close_modal\",\"kind\":\"Any\",\"default\":0}]}],\"roots\":[{\"type\":\"object\",\"name\":\"Row\",\"id\":\"p1002\",\"attributes\":{\"name\":\"Row01953\",\"tags\":[\"embedded\"],\"stylesheets\":[\"\\n:host(.pn-loading.pn-arc):before, .pn-loading.pn-arc:before {\\n  background-image: url(\\\"data:image/svg+xml;base64,PHN2ZyB4bWxucz0iaHR0cDovL3d3dy53My5vcmcvMjAwMC9zdmciIHN0eWxlPSJtYXJnaW46IGF1dG87IGJhY2tncm91bmQ6IG5vbmU7IGRpc3BsYXk6IGJsb2NrOyBzaGFwZS1yZW5kZXJpbmc6IGF1dG87IiB2aWV3Qm94PSIwIDAgMTAwIDEwMCIgcHJlc2VydmVBc3BlY3RSYXRpbz0ieE1pZFlNaWQiPiAgPGNpcmNsZSBjeD0iNTAiIGN5PSI1MCIgZmlsbD0ibm9uZSIgc3Ryb2tlPSIjYzNjM2MzIiBzdHJva2Utd2lkdGg9IjEwIiByPSIzNSIgc3Ryb2tlLWRhc2hhcnJheT0iMTY0LjkzMzYxNDMxMzQ2NDE1IDU2Ljk3Nzg3MTQzNzgyMTM4Ij4gICAgPGFuaW1hdGVUcmFuc2Zvcm0gYXR0cmlidXRlTmFtZT0idHJhbnNmb3JtIiB0eXBlPSJyb3RhdGUiIHJlcGVhdENvdW50PSJpbmRlZmluaXRlIiBkdXI9IjFzIiB2YWx1ZXM9IjAgNTAgNTA7MzYwIDUwIDUwIiBrZXlUaW1lcz0iMDsxIj48L2FuaW1hdGVUcmFuc2Zvcm0+ICA8L2NpcmNsZT48L3N2Zz4=\\\");\\n  background-size: auto calc(min(50%, 400px));\\n}\",{\"type\":\"object\",\"name\":\"ImportedStyleSheet\",\"id\":\"p1005\",\"attributes\":{\"url\":\"https://cdn.holoviz.org/panel/1.1.0/dist/css/loading.css\"}},{\"type\":\"object\",\"name\":\"ImportedStyleSheet\",\"id\":\"p1252\",\"attributes\":{\"url\":\"https://cdn.holoviz.org/panel/1.1.0/dist/css/listpanel.css\"}},{\"type\":\"object\",\"name\":\"ImportedStyleSheet\",\"id\":\"p1003\",\"attributes\":{\"url\":\"https://cdn.holoviz.org/panel/1.1.0/dist/bundled/theme/default.css\"}},{\"type\":\"object\",\"name\":\"ImportedStyleSheet\",\"id\":\"p1004\",\"attributes\":{\"url\":\"https://cdn.holoviz.org/panel/1.1.0/dist/bundled/theme/native.css\"}}],\"min_width\":0,\"margin\":0,\"sizing_mode\":\"stretch_width\",\"align\":\"start\",\"children\":[{\"type\":\"object\",\"name\":\"Spacer\",\"id\":\"p1006\",\"attributes\":{\"name\":\"HSpacer01964\",\"stylesheets\":[\"\\n:host(.pn-loading.pn-arc):before, .pn-loading.pn-arc:before {\\n  background-image: url(\\\"data:image/svg+xml;base64,PHN2ZyB4bWxucz0iaHR0cDovL3d3dy53My5vcmcvMjAwMC9zdmciIHN0eWxlPSJtYXJnaW46IGF1dG87IGJhY2tncm91bmQ6IG5vbmU7IGRpc3BsYXk6IGJsb2NrOyBzaGFwZS1yZW5kZXJpbmc6IGF1dG87IiB2aWV3Qm94PSIwIDAgMTAwIDEwMCIgcHJlc2VydmVBc3BlY3RSYXRpbz0ieE1pZFlNaWQiPiAgPGNpcmNsZSBjeD0iNTAiIGN5PSI1MCIgZmlsbD0ibm9uZSIgc3Ryb2tlPSIjYzNjM2MzIiBzdHJva2Utd2lkdGg9IjEwIiByPSIzNSIgc3Ryb2tlLWRhc2hhcnJheT0iMTY0LjkzMzYxNDMxMzQ2NDE1IDU2Ljk3Nzg3MTQzNzgyMTM4Ij4gICAgPGFuaW1hdGVUcmFuc2Zvcm0gYXR0cmlidXRlTmFtZT0idHJhbnNmb3JtIiB0eXBlPSJyb3RhdGUiIHJlcGVhdENvdW50PSJpbmRlZmluaXRlIiBkdXI9IjFzIiB2YWx1ZXM9IjAgNTAgNTA7MzYwIDUwIDUwIiBrZXlUaW1lcz0iMDsxIj48L2FuaW1hdGVUcmFuc2Zvcm0+ICA8L2NpcmNsZT48L3N2Zz4=\\\");\\n  background-size: auto calc(min(50%, 400px));\\n}\",{\"id\":\"p1005\"},{\"id\":\"p1003\"},{\"id\":\"p1004\"}],\"margin\":0,\"sizing_mode\":\"stretch_width\",\"align\":\"start\"}},{\"type\":\"object\",\"name\":\"Figure\",\"id\":\"p1014\",\"attributes\":{\"width\":950,\"height\":500,\"margin\":[5,10],\"sizing_mode\":\"fixed\",\"align\":\"start\",\"x_range\":{\"type\":\"object\",\"name\":\"Range1d\",\"id\":\"p1007\",\"attributes\":{\"tags\":[[[\"published_date\",\"published_date\",null]]],\"start\":1517356800000.0,\"end\":1690761600000.0,\"reset_start\":1517356800000.0,\"reset_end\":1690761600000.0}},\"y_range\":{\"type\":\"object\",\"name\":\"Range1d\",\"id\":\"p1008\",\"attributes\":{\"tags\":[[[\"upload_count\",\"upload_count\",null]]],\"start\":-3.0,\"end\":45.0,\"reset_start\":-3.0,\"reset_end\":45.0}},\"x_scale\":{\"type\":\"object\",\"name\":\"LinearScale\",\"id\":\"p1026\"},\"y_scale\":{\"type\":\"object\",\"name\":\"LinearScale\",\"id\":\"p1028\"},\"title\":{\"type\":\"object\",\"name\":\"Title\",\"id\":\"p1017\",\"attributes\":{\"text\":\"Video Upload Frequency for each Channel over Past 5 Years\",\"text_color\":\"black\",\"text_font_size\":\"12pt\"}},\"renderers\":[{\"type\":\"object\",\"name\":\"GlyphRenderer\",\"id\":\"p1122\",\"attributes\":{\"data_source\":{\"type\":\"object\",\"name\":\"ColumnDataSource\",\"id\":\"p1112\",\"attributes\":{\"selected\":{\"type\":\"object\",\"name\":\"Selection\",\"id\":\"p1114\",\"attributes\":{\"indices\":[],\"line_indices\":[]}},\"selection_policy\":{\"type\":\"object\",\"name\":\"UnionRenderers\",\"id\":\"p1113\"},\"data\":{\"type\":\"map\",\"entries\":[[\"published_date\",{\"type\":\"ndarray\",\"array\":{\"type\":\"bytes\",\"data\":\"AACANZgUdkIAAIBWmx12QgAAwKiVJ3ZCAABAlT0xdkIAAIDnNzt2QgAAANTfRHZCAABAJtpOdkIAAIB41Fh2QgAAAGV8YnZCAABAt3ZsdkIAAMCjHnZ2QgAAAPYYgHZCAABASBOKdkIAAEBpFpN2QgAAgLsQnXZCAAAAqLimdkIAAED6srB2QgAAwOZaunZCAAAAOVXEdkIAAECLT852QgAAwHf313ZCAAAAyvHhdkIAAIC2met2QgAAwAiU9XZCAAAAW47/dkIAAMDh4wh3QgAAADTeEndCAACAIIYcd0IAAMBygCZ3QgAAQF8oMHdCAACAsSI6d0IAAMADHUR3QgAAQPDETXdCAACAQr9Xd0IAAAAvZ2F3QgAAQIFha3dCAACA01t1d0IAAID0Xn53QgAAwEZZiHdCAABAMwGSd0IAAICF+5t3QgAAAHKjpXdCAABAxJ2vd0IAAIAWmLl3QgAAAANAw3dCAABAVTrNd0IAAMBB4tZ3QgAAAJTc4HdCAABA5tbqd0IAAEAH2vN3QgAAgFnU/XdCAAAARnwHeEIAAECYdhF4QgAAwIQeG3hCAAAA1xgleEIAAEApEy94QgAAwBW7OHhCAAAAaLVCeEIAAIBUXUx4QgAAwKZXVnhCAAAA+VFgeEIAAAAaVWl4QgAAQGxPc3hCAADAWPd8eEIAAACr8YZ4QgAAgJeZkHhCAADA6ZOaeEI=\"},\"shape\":[67],\"dtype\":\"float64\",\"order\":\"little\"}],[\"upload_count\",{\"type\":\"ndarray\",\"array\":{\"type\":\"bytes\",\"data\":\"BgAAAAQAAAADAAAABgAAAAMAAAABAAAAAwAAAAIAAAADAAAABgAAAAQAAAAFAAAACgAAAAcAAAAJAAAABAAAAAYAAAAGAAAACAAAAAUAAAAHAAAABwAAAAUAAAACAAAACQAAAAYAAAAEAAAACAAAAAkAAAAIAAAACgAAAAcAAAAFAAAABwAAAAQAAAACAAAACgAAAAYAAAAEAAAABwAAAAYAAAAFAAAAAwAAAAUAAAADAAAAAwAAAAIAAAABAAAABwAAAAEAAAAGAAAAAwAAAAQAAAADAAAABQAAAAQAAAACAAAAAwAAAAIAAAACAAAACAAAAAMAAAAEAAAAAgAAAAcAAAADAAAAAwAAAA==\"},\"shape\":[67],\"dtype\":\"int32\",\"order\":\"little\"}],[\"channel\",[\"Chloe Ting\",\"Chloe Ting\",\"Chloe Ting\",\"Chloe Ting\",\"Chloe Ting\",\"Chloe Ting\",\"Chloe Ting\",\"Chloe Ting\",\"Chloe Ting\",\"Chloe Ting\",\"Chloe Ting\",\"Chloe Ting\",\"Chloe Ting\",\"Chloe Ting\",\"Chloe Ting\",\"Chloe Ting\",\"Chloe Ting\",\"Chloe Ting\",\"Chloe Ting\",\"Chloe Ting\",\"Chloe Ting\",\"Chloe Ting\",\"Chloe Ting\",\"Chloe Ting\",\"Chloe Ting\",\"Chloe Ting\",\"Chloe Ting\",\"Chloe Ting\",\"Chloe Ting\",\"Chloe Ting\",\"Chloe Ting\",\"Chloe Ting\",\"Chloe Ting\",\"Chloe Ting\",\"Chloe Ting\",\"Chloe Ting\",\"Chloe Ting\",\"Chloe Ting\",\"Chloe Ting\",\"Chloe Ting\",\"Chloe Ting\",\"Chloe Ting\",\"Chloe Ting\",\"Chloe Ting\",\"Chloe Ting\",\"Chloe Ting\",\"Chloe Ting\",\"Chloe Ting\",\"Chloe Ting\",\"Chloe Ting\",\"Chloe Ting\",\"Chloe Ting\",\"Chloe Ting\",\"Chloe Ting\",\"Chloe Ting\",\"Chloe Ting\",\"Chloe Ting\",\"Chloe Ting\",\"Chloe Ting\",\"Chloe Ting\",\"Chloe Ting\",\"Chloe Ting\",\"Chloe Ting\",\"Chloe Ting\",\"Chloe Ting\",\"Chloe Ting\",\"Chloe Ting\"]]]}}},\"view\":{\"type\":\"object\",\"name\":\"CDSView\",\"id\":\"p1123\",\"attributes\":{\"filter\":{\"type\":\"object\",\"name\":\"AllIndices\",\"id\":\"p1124\"}}},\"glyph\":{\"type\":\"object\",\"name\":\"Line\",\"id\":\"p1119\",\"attributes\":{\"tags\":[\"apply_ranges\"],\"x\":{\"type\":\"field\",\"field\":\"published_date\"},\"y\":{\"type\":\"field\",\"field\":\"upload_count\"},\"line_color\":\"#1f77b4\",\"line_alpha\":0.7,\"line_width\":2.5,\"line_dash\":[2,4,6,4]}},\"selection_glyph\":{\"type\":\"object\",\"name\":\"Line\",\"id\":\"p1127\",\"attributes\":{\"tags\":[\"apply_ranges\"],\"x\":{\"type\":\"field\",\"field\":\"published_date\"},\"y\":{\"type\":\"field\",\"field\":\"upload_count\"},\"line_color\":\"#1f77b4\",\"line_alpha\":0.7,\"line_width\":2.5,\"line_dash\":[2,4,6,4]}},\"nonselection_glyph\":{\"type\":\"object\",\"name\":\"Line\",\"id\":\"p1120\",\"attributes\":{\"tags\":[\"apply_ranges\"],\"x\":{\"type\":\"field\",\"field\":\"published_date\"},\"y\":{\"type\":\"field\",\"field\":\"upload_count\"},\"line_color\":\"#1f77b4\",\"line_alpha\":0.7,\"line_width\":2.5,\"line_dash\":[2,4,6,4]}},\"muted_glyph\":{\"type\":\"object\",\"name\":\"Line\",\"id\":\"p1121\",\"attributes\":{\"tags\":[\"apply_ranges\"],\"x\":{\"type\":\"field\",\"field\":\"published_date\"},\"y\":{\"type\":\"field\",\"field\":\"upload_count\"},\"line_color\":\"#1f77b4\",\"line_alpha\":0.2,\"line_width\":2.5,\"line_dash\":[2,4,6,4]}}}},{\"type\":\"object\",\"name\":\"GlyphRenderer\",\"id\":\"p1138\",\"attributes\":{\"data_source\":{\"type\":\"object\",\"name\":\"ColumnDataSource\",\"id\":\"p1128\",\"attributes\":{\"selected\":{\"type\":\"object\",\"name\":\"Selection\",\"id\":\"p1130\",\"attributes\":{\"indices\":[],\"line_indices\":[]}},\"selection_policy\":{\"type\":\"object\",\"name\":\"UnionRenderers\",\"id\":\"p1129\"},\"data\":{\"type\":\"map\",\"entries\":[[\"published_date\",{\"type\":\"ndarray\",\"array\":{\"type\":\"bytes\",\"data\":\"AADAqJUndkIAAECVPTF2QgAAgOc3O3ZCAAAA1N9EdkIAAEAm2k52QgAAgHjUWHZCAAAAZXxidkIAAEC3dmx2QgAAwKMednZCAAAA9hiAdkIAAEBIE4p2QgAAQGkWk3ZCAACAuxCddkIAAACouKZ2QgAAQPqysHZCAADA5lq6dkIAAAA5VcR2QgAAQItPznZCAADAd/fXdkIAAADK8eF2QgAAgLaZ63ZCAADACJT1dkIAAABbjv92QgAAwOHjCHdCAAAANN4Sd0IAAIAghhx3QgAAwHKAJndCAABAXygwd0IAAICxIjp3QgAAwAMdRHdCAABA8MRNd0IAAIBCv1d3QgAAAC9nYXdCAABAgWFrd0IAAIDTW3V3QgAAgPRefndCAADARlmId0IAAEAzAZJ3QgAAgIX7m3dCAAAAcqOld0IAAEDEna93QgAAgBaYuXdCAAAAA0DDd0IAAEBVOs13QgAAwEHi1ndCAAAAlNzgd0IAAEDm1up3QgAAQAfa83dCAACAWdT9d0IAAABGfAd4QgAAQJh2EXhCAADAhB4beEIAAADXGCV4QgAAQCkTL3hCAADAFbs4eEIAAABotUJ4QgAAgFRdTHhCAADApldWeEIAAAD5UWB4QgAAABpVaXhCAABAbE9zeEIAAMBY93x4QgAAAKvxhnhCAACAl5mQeEIAAMDpk5p4Qg==\"},\"shape\":[65],\"dtype\":\"float64\",\"order\":\"little\"}],[\"upload_count\",{\"type\":\"ndarray\",\"array\":{\"type\":\"bytes\",\"data\":\"BgAAAAUAAAAFAAAABAAAAAMAAAAEAAAAAgAAAAMAAAACAAAAHgAAAAoAAAADAAAABAAAAAEAAAABAAAAKQAAAAwAAAALAAAACgAAAAkAAAAIAAAAFAAAAAoAAAALAAAAFgAAABkAAAASAAAADgAAAA4AAAALAAAACgAAAAwAAAAJAAAACQAAAAYAAAAKAAAABgAAAAsAAAAIAAAABwAAAAsAAAAJAAAACgAAAAoAAAAQAAAACwAAAAkAAAAJAAAADgAAAA0AAAAMAAAADAAAAAsAAAAOAAAADAAAAAwAAAAJAAAABQAAAAwAAAARAAAADgAAAAkAAAAOAAAABwAAAAQAAAA=\"},\"shape\":[65],\"dtype\":\"int32\",\"order\":\"little\"}],[\"channel\",[\"MadFit\",\"MadFit\",\"MadFit\",\"MadFit\",\"MadFit\",\"MadFit\",\"MadFit\",\"MadFit\",\"MadFit\",\"MadFit\",\"MadFit\",\"MadFit\",\"MadFit\",\"MadFit\",\"MadFit\",\"MadFit\",\"MadFit\",\"MadFit\",\"MadFit\",\"MadFit\",\"MadFit\",\"MadFit\",\"MadFit\",\"MadFit\",\"MadFit\",\"MadFit\",\"MadFit\",\"MadFit\",\"MadFit\",\"MadFit\",\"MadFit\",\"MadFit\",\"MadFit\",\"MadFit\",\"MadFit\",\"MadFit\",\"MadFit\",\"MadFit\",\"MadFit\",\"MadFit\",\"MadFit\",\"MadFit\",\"MadFit\",\"MadFit\",\"MadFit\",\"MadFit\",\"MadFit\",\"MadFit\",\"MadFit\",\"MadFit\",\"MadFit\",\"MadFit\",\"MadFit\",\"MadFit\",\"MadFit\",\"MadFit\",\"MadFit\",\"MadFit\",\"MadFit\",\"MadFit\",\"MadFit\",\"MadFit\",\"MadFit\",\"MadFit\",\"MadFit\"]]]}}},\"view\":{\"type\":\"object\",\"name\":\"CDSView\",\"id\":\"p1139\",\"attributes\":{\"filter\":{\"type\":\"object\",\"name\":\"AllIndices\",\"id\":\"p1140\"}}},\"glyph\":{\"type\":\"object\",\"name\":\"Line\",\"id\":\"p1135\",\"attributes\":{\"tags\":[\"apply_ranges\"],\"x\":{\"type\":\"field\",\"field\":\"published_date\"},\"y\":{\"type\":\"field\",\"field\":\"upload_count\"},\"line_color\":\"#ff7f0e\",\"line_alpha\":0.7,\"line_width\":2.5,\"line_dash\":[2,4,6,4]}},\"selection_glyph\":{\"type\":\"object\",\"name\":\"Line\",\"id\":\"p1142\",\"attributes\":{\"tags\":[\"apply_ranges\"],\"x\":{\"type\":\"field\",\"field\":\"published_date\"},\"y\":{\"type\":\"field\",\"field\":\"upload_count\"},\"line_color\":\"#ff7f0e\",\"line_alpha\":0.7,\"line_width\":2.5,\"line_dash\":[2,4,6,4]}},\"nonselection_glyph\":{\"type\":\"object\",\"name\":\"Line\",\"id\":\"p1136\",\"attributes\":{\"tags\":[\"apply_ranges\"],\"x\":{\"type\":\"field\",\"field\":\"published_date\"},\"y\":{\"type\":\"field\",\"field\":\"upload_count\"},\"line_color\":\"#ff7f0e\",\"line_alpha\":0.7,\"line_width\":2.5,\"line_dash\":[2,4,6,4]}},\"muted_glyph\":{\"type\":\"object\",\"name\":\"Line\",\"id\":\"p1137\",\"attributes\":{\"tags\":[\"apply_ranges\"],\"x\":{\"type\":\"field\",\"field\":\"published_date\"},\"y\":{\"type\":\"field\",\"field\":\"upload_count\"},\"line_color\":\"#ff7f0e\",\"line_alpha\":0.2,\"line_width\":2.5,\"line_dash\":[2,4,6,4]}}}},{\"type\":\"object\",\"name\":\"GlyphRenderer\",\"id\":\"p1153\",\"attributes\":{\"data_source\":{\"type\":\"object\",\"name\":\"ColumnDataSource\",\"id\":\"p1143\",\"attributes\":{\"selected\":{\"type\":\"object\",\"name\":\"Selection\",\"id\":\"p1145\",\"attributes\":{\"indices\":[],\"line_indices\":[]}},\"selection_policy\":{\"type\":\"object\",\"name\":\"UnionRenderers\",\"id\":\"p1144\"},\"data\":{\"type\":\"map\",\"entries\":[[\"published_date\",{\"type\":\"ndarray\",\"array\":{\"type\":\"bytes\",\"data\":\"AACANZgUdkIAAIBWmx12QgAAwKiVJ3ZCAABAlT0xdkIAAIDnNzt2QgAAANTfRHZCAABAJtpOdkIAAIB41Fh2QgAAAGV8YnZCAABAt3ZsdkIAAMCjHnZ2QgAAAPYYgHZCAABASBOKdkIAAEBpFpN2QgAAgLsQnXZCAAAAqLimdkIAAED6srB2QgAAwOZaunZCAAAAOVXEdkIAAECLT852QgAAwHf313ZCAAAAyvHhdkIAAIC2met2QgAAwAiU9XZCAAAAW47/dkIAAMDh4wh3QgAAADTeEndCAACAIIYcd0IAAMBygCZ3QgAAQF8oMHdCAACAsSI6d0IAAMADHUR3QgAAQPDETXdCAACAQr9Xd0IAAAAvZ2F3QgAAQIFha3dCAACA01t1d0IAAID0Xn53QgAAwEZZiHdCAABAMwGSd0IAAICF+5t3QgAAAHKjpXdCAABAxJ2vd0IAAIAWmLl3QgAAAANAw3dCAABAVTrNd0IAAMBB4tZ3QgAAAJTc4HdCAABA5tbqd0IAAEAH2vN3QgAAgFnU/XdCAAAARnwHeEIAAECYdhF4QgAAwIQeG3hCAAAA1xgleEIAAEApEy94QgAAwBW7OHhCAAAAaLVCeEIAAIBUXUx4QgAAwKZXVnhCAAAA+VFgeEIAAAAaVWl4QgAAQGxPc3hCAADAWPd8eEIAAACr8YZ4QgAAgJeZkHhCAADA6ZOaeEI=\"},\"shape\":[67],\"dtype\":\"float64\",\"order\":\"little\"}],[\"upload_count\",{\"type\":\"ndarray\",\"array\":{\"type\":\"bytes\",\"data\":\"BAAAAAQAAAAIAAAABwAAAAkAAAAHAAAACQAAAAkAAAAJAAAABgAAAAcAAAAJAAAACwAAAAoAAAAMAAAADQAAAA0AAAANAAAADQAAAAsAAAALAAAAHwAAAAgAAAAMAAAADgAAABAAAAATAAAAHAAAAB8AAAANAAAADgAAABQAAAAJAAAACgAAAAsAAAATAAAADgAAAA8AAAAOAAAADwAAABIAAAAPAAAAFAAAABIAAAASAAAADAAAAAwAAAAUAAAAFAAAABIAAAAQAAAAEwAAAA8AAAASAAAAEwAAAAsAAAAKAAAADwAAAAgAAAASAAAAGQAAABAAAAAMAAAAEAAAAA8AAAAdAAAACgAAAA==\"},\"shape\":[67],\"dtype\":\"int32\",\"order\":\"little\"}],[\"channel\",[\"Rebecca-Louise\",\"Rebecca-Louise\",\"Rebecca-Louise\",\"Rebecca-Louise\",\"Rebecca-Louise\",\"Rebecca-Louise\",\"Rebecca-Louise\",\"Rebecca-Louise\",\"Rebecca-Louise\",\"Rebecca-Louise\",\"Rebecca-Louise\",\"Rebecca-Louise\",\"Rebecca-Louise\",\"Rebecca-Louise\",\"Rebecca-Louise\",\"Rebecca-Louise\",\"Rebecca-Louise\",\"Rebecca-Louise\",\"Rebecca-Louise\",\"Rebecca-Louise\",\"Rebecca-Louise\",\"Rebecca-Louise\",\"Rebecca-Louise\",\"Rebecca-Louise\",\"Rebecca-Louise\",\"Rebecca-Louise\",\"Rebecca-Louise\",\"Rebecca-Louise\",\"Rebecca-Louise\",\"Rebecca-Louise\",\"Rebecca-Louise\",\"Rebecca-Louise\",\"Rebecca-Louise\",\"Rebecca-Louise\",\"Rebecca-Louise\",\"Rebecca-Louise\",\"Rebecca-Louise\",\"Rebecca-Louise\",\"Rebecca-Louise\",\"Rebecca-Louise\",\"Rebecca-Louise\",\"Rebecca-Louise\",\"Rebecca-Louise\",\"Rebecca-Louise\",\"Rebecca-Louise\",\"Rebecca-Louise\",\"Rebecca-Louise\",\"Rebecca-Louise\",\"Rebecca-Louise\",\"Rebecca-Louise\",\"Rebecca-Louise\",\"Rebecca-Louise\",\"Rebecca-Louise\",\"Rebecca-Louise\",\"Rebecca-Louise\",\"Rebecca-Louise\",\"Rebecca-Louise\",\"Rebecca-Louise\",\"Rebecca-Louise\",\"Rebecca-Louise\",\"Rebecca-Louise\",\"Rebecca-Louise\",\"Rebecca-Louise\",\"Rebecca-Louise\",\"Rebecca-Louise\",\"Rebecca-Louise\",\"Rebecca-Louise\"]]]}}},\"view\":{\"type\":\"object\",\"name\":\"CDSView\",\"id\":\"p1154\",\"attributes\":{\"filter\":{\"type\":\"object\",\"name\":\"AllIndices\",\"id\":\"p1155\"}}},\"glyph\":{\"type\":\"object\",\"name\":\"Line\",\"id\":\"p1150\",\"attributes\":{\"tags\":[\"apply_ranges\"],\"x\":{\"type\":\"field\",\"field\":\"published_date\"},\"y\":{\"type\":\"field\",\"field\":\"upload_count\"},\"line_color\":\"#2ca02c\",\"line_alpha\":0.7,\"line_width\":2.5,\"line_dash\":[2,4,6,4]}},\"selection_glyph\":{\"type\":\"object\",\"name\":\"Line\",\"id\":\"p1157\",\"attributes\":{\"tags\":[\"apply_ranges\"],\"x\":{\"type\":\"field\",\"field\":\"published_date\"},\"y\":{\"type\":\"field\",\"field\":\"upload_count\"},\"line_color\":\"#2ca02c\",\"line_alpha\":0.7,\"line_width\":2.5,\"line_dash\":[2,4,6,4]}},\"nonselection_glyph\":{\"type\":\"object\",\"name\":\"Line\",\"id\":\"p1151\",\"attributes\":{\"tags\":[\"apply_ranges\"],\"x\":{\"type\":\"field\",\"field\":\"published_date\"},\"y\":{\"type\":\"field\",\"field\":\"upload_count\"},\"line_color\":\"#2ca02c\",\"line_alpha\":0.7,\"line_width\":2.5,\"line_dash\":[2,4,6,4]}},\"muted_glyph\":{\"type\":\"object\",\"name\":\"Line\",\"id\":\"p1152\",\"attributes\":{\"tags\":[\"apply_ranges\"],\"x\":{\"type\":\"field\",\"field\":\"published_date\"},\"y\":{\"type\":\"field\",\"field\":\"upload_count\"},\"line_color\":\"#2ca02c\",\"line_alpha\":0.2,\"line_width\":2.5,\"line_dash\":[2,4,6,4]}}}},{\"type\":\"object\",\"name\":\"GlyphRenderer\",\"id\":\"p1168\",\"attributes\":{\"data_source\":{\"type\":\"object\",\"name\":\"ColumnDataSource\",\"id\":\"p1158\",\"attributes\":{\"selected\":{\"type\":\"object\",\"name\":\"Selection\",\"id\":\"p1160\",\"attributes\":{\"indices\":[],\"line_indices\":[]}},\"selection_policy\":{\"type\":\"object\",\"name\":\"UnionRenderers\",\"id\":\"p1159\"},\"data\":{\"type\":\"map\",\"entries\":[[\"published_date\",{\"type\":\"ndarray\",\"array\":{\"type\":\"bytes\",\"data\":\"AACANZgUdkIAAIBWmx12QgAAwKiVJ3ZCAABAlT0xdkIAAIDnNzt2QgAAANTfRHZCAABAJtpOdkIAAIB41Fh2QgAAAGV8YnZCAABAt3ZsdkIAAMCjHnZ2QgAAAPYYgHZCAABASBOKdkIAAEBpFpN2QgAAgLsQnXZCAAAAqLimdkIAAED6srB2QgAAwOZaunZCAAAAOVXEdkIAAECLT852QgAAwHf313ZCAAAAyvHhdkIAAIC2met2QgAAwAiU9XZCAAAAW47/dkIAAMDh4wh3QgAAADTeEndCAACAIIYcd0IAAMBygCZ3QgAAQF8oMHdCAACAsSI6d0IAAMADHUR3QgAAQPDETXdCAACAQr9Xd0IAAAAvZ2F3QgAAQIFha3dCAACA01t1d0IAAID0Xn53QgAAwEZZiHdCAABAMwGSd0IAAICF+5t3QgAAAHKjpXdCAABAxJ2vd0IAAIAWmLl3QgAAAANAw3dCAABAVTrNd0IAAMBB4tZ3QgAAAJTc4HdCAABA5tbqd0IAAEAH2vN3QgAAgFnU/XdCAAAARnwHeEIAAECYdhF4QgAAwIQeG3hCAAAA1xgleEIAAEApEy94QgAAwBW7OHhCAAAAaLVCeEIAAIBUXUx4QgAAwKZXVnhCAAAA+VFgeEIAAAAaVWl4QgAAQGxPc3hCAADAWPd8eEIAAACr8YZ4QgAAgJeZkHhCAADA6ZOaeEI=\"},\"shape\":[67],\"dtype\":\"float64\",\"order\":\"little\"}],[\"upload_count\",{\"type\":\"ndarray\",\"array\":{\"type\":\"bytes\",\"data\":\"BwAAAAYAAAAEAAAABgAAAAUAAAAEAAAABwAAAAcAAAAFAAAABwAAAAQAAAAHAAAAHgAAAAMAAAAFAAAABQAAAAQAAAAHAAAABAAAABwAAAADAAAABQAAAAQAAAAFAAAABQAAAAYAAAAGAAAABQAAAAkAAAAEAAAABAAAAAUAAAAIAAAABgAAAAcAAAAFAAAACQAAAAYAAAAEAAAABQAAAAYAAAAHAAAABQAAAAUAAAAGAAAACQAAAAgAAAAJAAAAEwAAAB0AAAAeAAAAJAAAACAAAAAcAAAAHgAAABEAAAAQAAAADAAAABIAAAAJAAAADgAAAAkAAAANAAAACQAAAAsAAAAJAAAAAwAAAA==\"},\"shape\":[67],\"dtype\":\"int32\",\"order\":\"little\"}],[\"channel\",[\"blogilates\",\"blogilates\",\"blogilates\",\"blogilates\",\"blogilates\",\"blogilates\",\"blogilates\",\"blogilates\",\"blogilates\",\"blogilates\",\"blogilates\",\"blogilates\",\"blogilates\",\"blogilates\",\"blogilates\",\"blogilates\",\"blogilates\",\"blogilates\",\"blogilates\",\"blogilates\",\"blogilates\",\"blogilates\",\"blogilates\",\"blogilates\",\"blogilates\",\"blogilates\",\"blogilates\",\"blogilates\",\"blogilates\",\"blogilates\",\"blogilates\",\"blogilates\",\"blogilates\",\"blogilates\",\"blogilates\",\"blogilates\",\"blogilates\",\"blogilates\",\"blogilates\",\"blogilates\",\"blogilates\",\"blogilates\",\"blogilates\",\"blogilates\",\"blogilates\",\"blogilates\",\"blogilates\",\"blogilates\",\"blogilates\",\"blogilates\",\"blogilates\",\"blogilates\",\"blogilates\",\"blogilates\",\"blogilates\",\"blogilates\",\"blogilates\",\"blogilates\",\"blogilates\",\"blogilates\",\"blogilates\",\"blogilates\",\"blogilates\",\"blogilates\",\"blogilates\",\"blogilates\",\"blogilates\"]]]}}},\"view\":{\"type\":\"object\",\"name\":\"CDSView\",\"id\":\"p1169\",\"attributes\":{\"filter\":{\"type\":\"object\",\"name\":\"AllIndices\",\"id\":\"p1170\"}}},\"glyph\":{\"type\":\"object\",\"name\":\"Line\",\"id\":\"p1165\",\"attributes\":{\"tags\":[\"apply_ranges\"],\"x\":{\"type\":\"field\",\"field\":\"published_date\"},\"y\":{\"type\":\"field\",\"field\":\"upload_count\"},\"line_color\":\"#d62728\",\"line_alpha\":0.7,\"line_width\":2.5,\"line_dash\":[2,4,6,4]}},\"selection_glyph\":{\"type\":\"object\",\"name\":\"Line\",\"id\":\"p1172\",\"attributes\":{\"tags\":[\"apply_ranges\"],\"x\":{\"type\":\"field\",\"field\":\"published_date\"},\"y\":{\"type\":\"field\",\"field\":\"upload_count\"},\"line_color\":\"#d62728\",\"line_alpha\":0.7,\"line_width\":2.5,\"line_dash\":[2,4,6,4]}},\"nonselection_glyph\":{\"type\":\"object\",\"name\":\"Line\",\"id\":\"p1166\",\"attributes\":{\"tags\":[\"apply_ranges\"],\"x\":{\"type\":\"field\",\"field\":\"published_date\"},\"y\":{\"type\":\"field\",\"field\":\"upload_count\"},\"line_color\":\"#d62728\",\"line_alpha\":0.7,\"line_width\":2.5,\"line_dash\":[2,4,6,4]}},\"muted_glyph\":{\"type\":\"object\",\"name\":\"Line\",\"id\":\"p1167\",\"attributes\":{\"tags\":[\"apply_ranges\"],\"x\":{\"type\":\"field\",\"field\":\"published_date\"},\"y\":{\"type\":\"field\",\"field\":\"upload_count\"},\"line_color\":\"#d62728\",\"line_alpha\":0.2,\"line_width\":2.5,\"line_dash\":[2,4,6,4]}}}},{\"type\":\"object\",\"name\":\"GlyphRenderer\",\"id\":\"p1183\",\"attributes\":{\"data_source\":{\"type\":\"object\",\"name\":\"ColumnDataSource\",\"id\":\"p1173\",\"attributes\":{\"selected\":{\"type\":\"object\",\"name\":\"Selection\",\"id\":\"p1175\",\"attributes\":{\"indices\":[],\"line_indices\":[]}},\"selection_policy\":{\"type\":\"object\",\"name\":\"UnionRenderers\",\"id\":\"p1174\"},\"data\":{\"type\":\"map\",\"entries\":[[\"published_date\",{\"type\":\"ndarray\",\"array\":{\"type\":\"bytes\",\"data\":\"AACANZgUdkIAAIBWmx12QgAAwKiVJ3ZCAABAlT0xdkIAAIDnNzt2QgAAANTfRHZCAABAJtpOdkIAAIB41Fh2QgAAAGV8YnZCAABAt3ZsdkIAAMCjHnZ2QgAAAPYYgHZCAABASBOKdkIAAEBpFpN2QgAAgLsQnXZCAAAAqLimdkIAAED6srB2QgAAwOZaunZCAAAAOVXEdkIAAECLT852QgAAwHf313ZCAAAAyvHhdkIAAIC2met2QgAAwAiU9XZCAAAAW47/dkIAAMDh4wh3QgAAADTeEndCAACAIIYcd0IAAMBygCZ3QgAAQF8oMHdCAACAsSI6d0IAAMADHUR3QgAAQPDETXdCAACAQr9Xd0IAAAAvZ2F3QgAAQIFha3dCAACA01t1d0IAAID0Xn53QgAAwEZZiHdCAABAMwGSd0IAAICF+5t3QgAAAHKjpXdCAABAxJ2vd0IAAIAWmLl3QgAAAANAw3dCAABAVTrNd0IAAMBB4tZ3QgAAAJTc4HdCAABA5tbqd0IAAEAH2vN3QgAAgFnU/XdCAAAARnwHeEIAAECYdhF4QgAAwIQeG3hCAAAA1xgleEIAAEApEy94QgAAwBW7OHhCAAAAaLVCeEIAAIBUXUx4QgAAwKZXVnhCAAAA+VFgeEIAAAAaVWl4QgAAQGxPc3hCAADAWPd8eEIAAACr8YZ4QgAAgJeZkHhCAADA6ZOaeEI=\"},\"shape\":[67],\"dtype\":\"float64\",\"order\":\"little\"}],[\"upload_count\",{\"type\":\"ndarray\",\"array\":{\"type\":\"bytes\",\"data\":\"BgAAAAYAAAAHAAAABQAAAAkAAAAJAAAACQAAAAkAAAAKAAAACQAAAAkAAAALAAAACQAAAAgAAAAGAAAABgAAAAUAAAAFAAAABwAAAAgAAAAGAAAABwAAAAcAAAAGAAAABQAAAAgAAAAIAAAACwAAAAgAAAAJAAAACAAAAAcAAAAIAAAABgAAAAYAAAAGAAAABwAAAAQAAAAFAAAABAAAAAUAAAADAAAABgAAAAUAAAAGAAAABwAAAAUAAAAGAAAABwAAAAYAAAAIAAAABwAAAAEAAAABAAAAAwAAAAIAAAACAAAAAQAAAAEAAAABAAAAAwAAAA8AAAAOAAAADwAAAA8AAAARAAAABgAAAA==\"},\"shape\":[67],\"dtype\":\"int32\",\"order\":\"little\"}],[\"channel\",[\"emi wong\",\"emi wong\",\"emi wong\",\"emi wong\",\"emi wong\",\"emi wong\",\"emi wong\",\"emi wong\",\"emi wong\",\"emi wong\",\"emi wong\",\"emi wong\",\"emi wong\",\"emi wong\",\"emi wong\",\"emi wong\",\"emi wong\",\"emi wong\",\"emi wong\",\"emi wong\",\"emi wong\",\"emi wong\",\"emi wong\",\"emi wong\",\"emi wong\",\"emi wong\",\"emi wong\",\"emi wong\",\"emi wong\",\"emi wong\",\"emi wong\",\"emi wong\",\"emi wong\",\"emi wong\",\"emi wong\",\"emi wong\",\"emi wong\",\"emi wong\",\"emi wong\",\"emi wong\",\"emi wong\",\"emi wong\",\"emi wong\",\"emi wong\",\"emi wong\",\"emi wong\",\"emi wong\",\"emi wong\",\"emi wong\",\"emi wong\",\"emi wong\",\"emi wong\",\"emi wong\",\"emi wong\",\"emi wong\",\"emi wong\",\"emi wong\",\"emi wong\",\"emi wong\",\"emi wong\",\"emi wong\",\"emi wong\",\"emi wong\",\"emi wong\",\"emi wong\",\"emi wong\",\"emi wong\"]]]}}},\"view\":{\"type\":\"object\",\"name\":\"CDSView\",\"id\":\"p1184\",\"attributes\":{\"filter\":{\"type\":\"object\",\"name\":\"AllIndices\",\"id\":\"p1185\"}}},\"glyph\":{\"type\":\"object\",\"name\":\"Line\",\"id\":\"p1180\",\"attributes\":{\"tags\":[\"apply_ranges\"],\"x\":{\"type\":\"field\",\"field\":\"published_date\"},\"y\":{\"type\":\"field\",\"field\":\"upload_count\"},\"line_color\":\"#9467bd\",\"line_alpha\":0.7,\"line_width\":2.5,\"line_dash\":[2,4,6,4]}},\"selection_glyph\":{\"type\":\"object\",\"name\":\"Line\",\"id\":\"p1187\",\"attributes\":{\"tags\":[\"apply_ranges\"],\"x\":{\"type\":\"field\",\"field\":\"published_date\"},\"y\":{\"type\":\"field\",\"field\":\"upload_count\"},\"line_color\":\"#9467bd\",\"line_alpha\":0.7,\"line_width\":2.5,\"line_dash\":[2,4,6,4]}},\"nonselection_glyph\":{\"type\":\"object\",\"name\":\"Line\",\"id\":\"p1181\",\"attributes\":{\"tags\":[\"apply_ranges\"],\"x\":{\"type\":\"field\",\"field\":\"published_date\"},\"y\":{\"type\":\"field\",\"field\":\"upload_count\"},\"line_color\":\"#9467bd\",\"line_alpha\":0.7,\"line_width\":2.5,\"line_dash\":[2,4,6,4]}},\"muted_glyph\":{\"type\":\"object\",\"name\":\"Line\",\"id\":\"p1182\",\"attributes\":{\"tags\":[\"apply_ranges\"],\"x\":{\"type\":\"field\",\"field\":\"published_date\"},\"y\":{\"type\":\"field\",\"field\":\"upload_count\"},\"line_color\":\"#9467bd\",\"line_alpha\":0.2,\"line_width\":2.5,\"line_dash\":[2,4,6,4]}}}}],\"toolbar\":{\"type\":\"object\",\"name\":\"Toolbar\",\"id\":\"p1019\",\"attributes\":{\"tools\":[{\"type\":\"object\",\"name\":\"HoverTool\",\"id\":\"p1009\",\"attributes\":{\"tags\":[\"hv_created\"],\"renderers\":[{\"id\":\"p1122\"},{\"id\":\"p1138\"},{\"id\":\"p1153\"},{\"id\":\"p1168\"},{\"id\":\"p1183\"}],\"tooltips\":[[\"channel\",\"@{channel}\"],[\"published_date\",\"@{published_date}{%F %T}\"],[\"upload_count\",\"@{upload_count}\"]],\"formatters\":{\"type\":\"map\",\"entries\":[[\"@{published_date}\",\"datetime\"]]}}},{\"type\":\"object\",\"name\":\"SaveTool\",\"id\":\"p1080\"},{\"type\":\"object\",\"name\":\"PanTool\",\"id\":\"p1081\"},{\"type\":\"object\",\"name\":\"WheelZoomTool\",\"id\":\"p1082\"},{\"type\":\"object\",\"name\":\"BoxZoomTool\",\"id\":\"p1083\",\"attributes\":{\"overlay\":{\"type\":\"object\",\"name\":\"BoxAnnotation\",\"id\":\"p1084\",\"attributes\":{\"syncable\":false,\"level\":\"overlay\",\"visible\":false,\"left_units\":\"canvas\",\"right_units\":\"canvas\",\"bottom_units\":\"canvas\",\"top_units\":\"canvas\",\"line_color\":\"black\",\"line_alpha\":1.0,\"line_width\":2,\"line_dash\":[4,4],\"fill_color\":\"lightgrey\",\"fill_alpha\":0.5}}}},{\"type\":\"object\",\"name\":\"ResetTool\",\"id\":\"p1085\"}],\"active_drag\":{\"id\":\"p1081\"},\"active_scroll\":{\"id\":\"p1082\"}}},\"left\":[{\"type\":\"object\",\"name\":\"LinearAxis\",\"id\":\"p1073\",\"attributes\":{\"ticker\":{\"type\":\"object\",\"name\":\"BasicTicker\",\"id\":\"p1074\",\"attributes\":{\"mantissas\":[1,2,5]}},\"formatter\":{\"type\":\"object\",\"name\":\"BasicTickFormatter\",\"id\":\"p1076\"},\"axis_label\":\"Number of Videos Uploaded\",\"major_label_policy\":{\"type\":\"object\",\"name\":\"AllLabels\",\"id\":\"p1075\"}}}],\"below\":[{\"type\":\"object\",\"name\":\"DatetimeAxis\",\"id\":\"p1030\",\"attributes\":{\"ticker\":{\"type\":\"object\",\"name\":\"DatetimeTicker\",\"id\":\"p1031\",\"attributes\":{\"num_minor_ticks\":5,\"tickers\":[{\"type\":\"object\",\"name\":\"AdaptiveTicker\",\"id\":\"p1032\",\"attributes\":{\"num_minor_ticks\":0,\"mantissas\":[1,2,5],\"max_interval\":500.0}},{\"type\":\"object\",\"name\":\"AdaptiveTicker\",\"id\":\"p1033\",\"attributes\":{\"num_minor_ticks\":0,\"base\":60,\"mantissas\":[1,2,5,10,15,20,30],\"min_interval\":1000.0,\"max_interval\":1800000.0}},{\"type\":\"object\",\"name\":\"AdaptiveTicker\",\"id\":\"p1034\",\"attributes\":{\"num_minor_ticks\":0,\"base\":24,\"mantissas\":[1,2,4,6,8,12],\"min_interval\":3600000.0,\"max_interval\":43200000.0}},{\"type\":\"object\",\"name\":\"DaysTicker\",\"id\":\"p1035\",\"attributes\":{\"days\":[1,2,3,4,5,6,7,8,9,10,11,12,13,14,15,16,17,18,19,20,21,22,23,24,25,26,27,28,29,30,31]}},{\"type\":\"object\",\"name\":\"DaysTicker\",\"id\":\"p1036\",\"attributes\":{\"days\":[1,4,7,10,13,16,19,22,25,28]}},{\"type\":\"object\",\"name\":\"DaysTicker\",\"id\":\"p1037\",\"attributes\":{\"days\":[1,8,15,22]}},{\"type\":\"object\",\"name\":\"DaysTicker\",\"id\":\"p1038\",\"attributes\":{\"days\":[1,15]}},{\"type\":\"object\",\"name\":\"MonthsTicker\",\"id\":\"p1039\",\"attributes\":{\"months\":[0,1,2,3,4,5,6,7,8,9,10,11]}},{\"type\":\"object\",\"name\":\"MonthsTicker\",\"id\":\"p1040\",\"attributes\":{\"months\":[0,2,4,6,8,10]}},{\"type\":\"object\",\"name\":\"MonthsTicker\",\"id\":\"p1041\",\"attributes\":{\"months\":[0,4,8]}},{\"type\":\"object\",\"name\":\"MonthsTicker\",\"id\":\"p1042\",\"attributes\":{\"months\":[0,6]}},{\"type\":\"object\",\"name\":\"YearsTicker\",\"id\":\"p1043\"}]}},\"formatter\":{\"type\":\"object\",\"name\":\"DatetimeTickFormatter\",\"id\":\"p1045\"},\"axis_label\":\"Published Date\",\"major_label_policy\":{\"type\":\"object\",\"name\":\"AllLabels\",\"id\":\"p1044\"}}}],\"center\":[{\"type\":\"object\",\"name\":\"Grid\",\"id\":\"p1072\",\"attributes\":{\"axis\":{\"id\":\"p1030\"},\"grid_line_color\":null}},{\"type\":\"object\",\"name\":\"Grid\",\"id\":\"p1079\",\"attributes\":{\"dimension\":1,\"axis\":{\"id\":\"p1073\"},\"grid_line_color\":null}},{\"type\":\"object\",\"name\":\"Legend\",\"id\":\"p1125\",\"attributes\":{\"title\":\"channel\",\"click_policy\":\"mute\",\"items\":[{\"type\":\"object\",\"name\":\"LegendItem\",\"id\":\"p1126\",\"attributes\":{\"label\":{\"type\":\"value\",\"value\":\"Chloe Ting\"},\"renderers\":[{\"id\":\"p1122\"}]}},{\"type\":\"object\",\"name\":\"LegendItem\",\"id\":\"p1141\",\"attributes\":{\"label\":{\"type\":\"value\",\"value\":\"MadFit\"},\"renderers\":[{\"id\":\"p1138\"}]}},{\"type\":\"object\",\"name\":\"LegendItem\",\"id\":\"p1156\",\"attributes\":{\"label\":{\"type\":\"value\",\"value\":\"Rebecca-Louise\"},\"renderers\":[{\"id\":\"p1153\"}]}},{\"type\":\"object\",\"name\":\"LegendItem\",\"id\":\"p1171\",\"attributes\":{\"label\":{\"type\":\"value\",\"value\":\"blogilates\"},\"renderers\":[{\"id\":\"p1168\"}]}},{\"type\":\"object\",\"name\":\"LegendItem\",\"id\":\"p1186\",\"attributes\":{\"label\":{\"type\":\"value\",\"value\":\"emi wong\"},\"renderers\":[{\"id\":\"p1183\"}]}}]}}],\"min_border_top\":10,\"min_border_bottom\":10,\"min_border_left\":10,\"min_border_right\":10,\"output_backend\":\"webgl\"}},{\"type\":\"object\",\"name\":\"Spacer\",\"id\":\"p1250\",\"attributes\":{\"name\":\"HSpacer01967\",\"stylesheets\":[\"\\n:host(.pn-loading.pn-arc):before, .pn-loading.pn-arc:before {\\n  background-image: url(\\\"data:image/svg+xml;base64,PHN2ZyB4bWxucz0iaHR0cDovL3d3dy53My5vcmcvMjAwMC9zdmciIHN0eWxlPSJtYXJnaW46IGF1dG87IGJhY2tncm91bmQ6IG5vbmU7IGRpc3BsYXk6IGJsb2NrOyBzaGFwZS1yZW5kZXJpbmc6IGF1dG87IiB2aWV3Qm94PSIwIDAgMTAwIDEwMCIgcHJlc2VydmVBc3BlY3RSYXRpbz0ieE1pZFlNaWQiPiAgPGNpcmNsZSBjeD0iNTAiIGN5PSI1MCIgZmlsbD0ibm9uZSIgc3Ryb2tlPSIjYzNjM2MzIiBzdHJva2Utd2lkdGg9IjEwIiByPSIzNSIgc3Ryb2tlLWRhc2hhcnJheT0iMTY0LjkzMzYxNDMxMzQ2NDE1IDU2Ljk3Nzg3MTQzNzgyMTM4Ij4gICAgPGFuaW1hdGVUcmFuc2Zvcm0gYXR0cmlidXRlTmFtZT0idHJhbnNmb3JtIiB0eXBlPSJyb3RhdGUiIHJlcGVhdENvdW50PSJpbmRlZmluaXRlIiBkdXI9IjFzIiB2YWx1ZXM9IjAgNTAgNTA7MzYwIDUwIDUwIiBrZXlUaW1lcz0iMDsxIj48L2FuaW1hdGVUcmFuc2Zvcm0+ICA8L2NpcmNsZT48L3N2Zz4=\\\");\\n  background-size: auto calc(min(50%, 400px));\\n}\",{\"id\":\"p1005\"},{\"id\":\"p1003\"},{\"id\":\"p1004\"}],\"margin\":0,\"sizing_mode\":\"stretch_width\",\"align\":\"start\"}}]}}],\"callbacks\":{\"type\":\"map\"}}};\n",
       "  var render_items = [{\"docid\":\"5e3a76ca-389b-4561-8c35-157a58ac6ec5\",\"roots\":{\"p1002\":\"d96801b5-618b-49cb-9b1a-e34f83ad4e60\"},\"root_ids\":[\"p1002\"]}];\n",
       "  var docs = Object.values(docs_json)\n",
       "  if (!docs) {\n",
       "    return\n",
       "  }\n",
       "  const py_version = docs[0].version.replace('rc', '-rc.')\n",
       "  const is_dev = py_version.indexOf(\"+\") !== -1 || py_version.indexOf(\"-\") !== -1\n",
       "  function embed_document(root) {\n",
       "    var Bokeh = get_bokeh(root)\n",
       "    Bokeh.embed.embed_items_notebook(docs_json, render_items);\n",
       "    for (const render_item of render_items) {\n",
       "      for (const root_id of render_item.root_ids) {\n",
       "\tconst id_el = document.getElementById(root_id)\n",
       "\tif (id_el.children.length && (id_el.children[0].className === 'bk-root')) {\n",
       "\t  const root_el = id_el.children[0]\n",
       "\t  root_el.id = root_el.id + '-rendered'\n",
       "\t}\n",
       "      }\n",
       "    }\n",
       "  }\n",
       "  function get_bokeh(root) {\n",
       "    if (root.Bokeh === undefined) {\n",
       "      return null\n",
       "    } else if (root.Bokeh.version !== py_version && !is_dev) {\n",
       "      if (root.Bokeh.versions === undefined || !root.Bokeh.versions.has(py_version)) {\n",
       "\treturn null\n",
       "      }\n",
       "      return root.Bokeh.versions.get(py_version);\n",
       "    } else if (root.Bokeh.version === py_version) {\n",
       "      return root.Bokeh\n",
       "    }\n",
       "    return null\n",
       "  }\n",
       "  function is_loaded(root) {\n",
       "    var Bokeh = get_bokeh(root)\n",
       "    return (Bokeh != null && Bokeh.Panel !== undefined && ( root['Plotly'] !== undefined))\n",
       "  }\n",
       "  if (is_loaded(root)) {\n",
       "    embed_document(root);\n",
       "  } else {\n",
       "    var attempts = 0;\n",
       "    var timer = setInterval(function(root) {\n",
       "      if (is_loaded(root)) {\n",
       "        clearInterval(timer);\n",
       "        embed_document(root);\n",
       "      } else if (document.readyState == \"complete\") {\n",
       "        attempts++;\n",
       "        if (attempts > 200) {\n",
       "          clearInterval(timer);\n",
       "\t  var Bokeh = get_bokeh(root)\n",
       "\t  if (Bokeh == null || Bokeh.Panel == null) {\n",
       "            console.warn(\"Panel: ERROR: Unable to run Panel code because Bokeh or Panel library is missing\");\n",
       "\t  } else {\n",
       "\t    console.warn(\"Panel: WARNING: Attempting to render but not all required libraries could be resolved.\")\n",
       "\t    embed_document(root)\n",
       "\t  }\n",
       "        }\n",
       "      }\n",
       "    }, 25, root)\n",
       "  }\n",
       "})(window);</script>"
      ],
      "text/plain": [
       ":NdOverlay   [channel]\n",
       "   :Curve   [published_date]   (upload_count)"
      ]
     },
     "execution_count": 6,
     "metadata": {
      "application/vnd.holoviews_exec.v0+json": {
       "id": "p1002"
      }
     },
     "output_type": "execute_result"
    }
   ],
   "source": [
    "# Convert 'published_date' column to datetime format\n",
    "videos_df['published_date'] = pd.to_datetime(videos_df['published_date'])\n",
    "\n",
    "\n",
    "# Group videos by 'channelName' and 'published_date', and count the number of videos for each group\n",
    "video_upload_freq = (videos_df\n",
    "                     .groupby(['channel', pd.Grouper(key='published_date', freq='M')])\n",
    "                     .size()\n",
    "                     .reset_index(name='upload_count')\n",
    "                     .query('published_date > 2018')\n",
    "                     )\n",
    "\n",
    "# Create the interactive line plot using hvplot\n",
    "upload_freq = video_upload_freq.hvplot.line(x='published_date', \n",
    "                                          y='upload_count', \n",
    "                                          by='channel',\n",
    "                                          xlabel='Published Date', \n",
    "                                          ylabel='Number of Videos Uploaded',\n",
    "                                          title='Video Upload Frequency for each Channel over Past 5 Years',\n",
    "                                          width=950, \n",
    "                                          height=500, \n",
    "                                          color=hv.Cycle('Category10'),\n",
    "                                          alpha = 0.7,\n",
    "                                          line_dash = 'dotdash',\n",
    "                                          legend = 'top_right',\n",
    "                                          line_width = 2.5\n",
    "                                          )\n",
    "\n",
    "# Display the line plot\n",
    "upload_freq"
   ]
  },
  {
   "cell_type": "markdown",
   "id": "f14cf1bd",
   "metadata": {},
   "source": [
    "Interestingly enough, there was not any usually high production of videos during the Covid19 pandemic. More people may have been introducted to home fitness workouts or been more inclined to doing them, however the channels themselves did not have a significant increase in number of workout videos uploaded compared to prior Covid19."
   ]
  },
  {
   "cell_type": "markdown",
   "id": "932d8e80",
   "metadata": {},
   "source": [
    "#### What is the distribution of video duration across the different duration categories for each channel?"
   ]
  },
  {
   "cell_type": "code",
   "execution_count": 7,
   "id": "63228f6d",
   "metadata": {},
   "outputs": [
    {
     "data": {},
     "metadata": {},
     "output_type": "display_data"
    },
    {
     "data": {
      "application/vnd.holoviews_exec.v0+json": "",
      "text/html": [
       "<div id='p1492'>\n",
       "  <div id=\"bfd9317f-f58a-4cbe-8a49-df4d398d24d6\" data-root-id=\"p1492\" style=\"display: contents;\"></div>\n",
       "</div>\n",
       "<script type=\"application/javascript\">(function(root) {\n",
       "  var docs_json = {\"97b3e4d8-da51-4a1c-9ec1-8d7e27c50136\":{\"version\":\"3.1.1\",\"title\":\"Bokeh Application\",\"defs\":[{\"type\":\"model\",\"name\":\"ReactiveHTML1\"},{\"type\":\"model\",\"name\":\"FlexBox1\",\"properties\":[{\"name\":\"align_content\",\"kind\":\"Any\",\"default\":\"flex-start\"},{\"name\":\"align_items\",\"kind\":\"Any\",\"default\":\"flex-start\"},{\"name\":\"flex_direction\",\"kind\":\"Any\",\"default\":\"row\"},{\"name\":\"flex_wrap\",\"kind\":\"Any\",\"default\":\"wrap\"},{\"name\":\"justify_content\",\"kind\":\"Any\",\"default\":\"flex-start\"}]},{\"type\":\"model\",\"name\":\"FloatPanel1\",\"properties\":[{\"name\":\"config\",\"kind\":\"Any\",\"default\":{\"type\":\"map\"}},{\"name\":\"contained\",\"kind\":\"Any\",\"default\":true},{\"name\":\"position\",\"kind\":\"Any\",\"default\":\"right-top\"},{\"name\":\"offsetx\",\"kind\":\"Any\",\"default\":null},{\"name\":\"offsety\",\"kind\":\"Any\",\"default\":null},{\"name\":\"theme\",\"kind\":\"Any\",\"default\":\"primary\"},{\"name\":\"status\",\"kind\":\"Any\",\"default\":\"normalized\"}]},{\"type\":\"model\",\"name\":\"GridStack1\",\"properties\":[{\"name\":\"mode\",\"kind\":\"Any\",\"default\":\"warn\"},{\"name\":\"ncols\",\"kind\":\"Any\",\"default\":null},{\"name\":\"nrows\",\"kind\":\"Any\",\"default\":null},{\"name\":\"allow_resize\",\"kind\":\"Any\",\"default\":true},{\"name\":\"allow_drag\",\"kind\":\"Any\",\"default\":true},{\"name\":\"state\",\"kind\":\"Any\",\"default\":[]}]},{\"type\":\"model\",\"name\":\"drag1\",\"properties\":[{\"name\":\"slider_width\",\"kind\":\"Any\",\"default\":5},{\"name\":\"slider_color\",\"kind\":\"Any\",\"default\":\"black\"},{\"name\":\"value\",\"kind\":\"Any\",\"default\":50}]},{\"type\":\"model\",\"name\":\"click1\",\"properties\":[{\"name\":\"terminal_output\",\"kind\":\"Any\",\"default\":\"\"},{\"name\":\"debug_name\",\"kind\":\"Any\",\"default\":\"\"},{\"name\":\"clears\",\"kind\":\"Any\",\"default\":0}]},{\"type\":\"model\",\"name\":\"FastWrapper1\",\"properties\":[{\"name\":\"object\",\"kind\":\"Any\",\"default\":null},{\"name\":\"style\",\"kind\":\"Any\",\"default\":null}]},{\"type\":\"model\",\"name\":\"NotificationAreaBase1\",\"properties\":[{\"name\":\"position\",\"kind\":\"Any\",\"default\":\"bottom-right\"},{\"name\":\"_clear\",\"kind\":\"Any\",\"default\":0}]},{\"type\":\"model\",\"name\":\"NotificationArea1\",\"properties\":[{\"name\":\"notifications\",\"kind\":\"Any\",\"default\":[]},{\"name\":\"position\",\"kind\":\"Any\",\"default\":\"bottom-right\"},{\"name\":\"_clear\",\"kind\":\"Any\",\"default\":0},{\"name\":\"types\",\"kind\":\"Any\",\"default\":[{\"type\":\"map\",\"entries\":[[\"type\",\"warning\"],[\"background\",\"#ffc107\"],[\"icon\",{\"type\":\"map\",\"entries\":[[\"className\",\"fas fa-exclamation-triangle\"],[\"tagName\",\"i\"],[\"color\",\"white\"]]}]]},{\"type\":\"map\",\"entries\":[[\"type\",\"info\"],[\"background\",\"#007bff\"],[\"icon\",{\"type\":\"map\",\"entries\":[[\"className\",\"fas fa-info-circle\"],[\"tagName\",\"i\"],[\"color\",\"white\"]]}]]}]}]},{\"type\":\"model\",\"name\":\"Notification\",\"properties\":[{\"name\":\"background\",\"kind\":\"Any\",\"default\":null},{\"name\":\"duration\",\"kind\":\"Any\",\"default\":3000},{\"name\":\"icon\",\"kind\":\"Any\",\"default\":null},{\"name\":\"message\",\"kind\":\"Any\",\"default\":\"\"},{\"name\":\"notification_type\",\"kind\":\"Any\",\"default\":null},{\"name\":\"_destroyed\",\"kind\":\"Any\",\"default\":false}]},{\"type\":\"model\",\"name\":\"TemplateActions1\",\"properties\":[{\"name\":\"open_modal\",\"kind\":\"Any\",\"default\":0},{\"name\":\"close_modal\",\"kind\":\"Any\",\"default\":0}]},{\"type\":\"model\",\"name\":\"BootstrapTemplateActions1\",\"properties\":[{\"name\":\"open_modal\",\"kind\":\"Any\",\"default\":0},{\"name\":\"close_modal\",\"kind\":\"Any\",\"default\":0}]},{\"type\":\"model\",\"name\":\"MaterialTemplateActions1\",\"properties\":[{\"name\":\"open_modal\",\"kind\":\"Any\",\"default\":0},{\"name\":\"close_modal\",\"kind\":\"Any\",\"default\":0}]}],\"roots\":[{\"type\":\"object\",\"name\":\"Row\",\"id\":\"p1492\",\"attributes\":{\"name\":\"Row02154\",\"tags\":[\"embedded\"],\"stylesheets\":[\"\\n:host(.pn-loading.pn-arc):before, .pn-loading.pn-arc:before {\\n  background-image: url(\\\"data:image/svg+xml;base64,PHN2ZyB4bWxucz0iaHR0cDovL3d3dy53My5vcmcvMjAwMC9zdmciIHN0eWxlPSJtYXJnaW46IGF1dG87IGJhY2tncm91bmQ6IG5vbmU7IGRpc3BsYXk6IGJsb2NrOyBzaGFwZS1yZW5kZXJpbmc6IGF1dG87IiB2aWV3Qm94PSIwIDAgMTAwIDEwMCIgcHJlc2VydmVBc3BlY3RSYXRpbz0ieE1pZFlNaWQiPiAgPGNpcmNsZSBjeD0iNTAiIGN5PSI1MCIgZmlsbD0ibm9uZSIgc3Ryb2tlPSIjYzNjM2MzIiBzdHJva2Utd2lkdGg9IjEwIiByPSIzNSIgc3Ryb2tlLWRhc2hhcnJheT0iMTY0LjkzMzYxNDMxMzQ2NDE1IDU2Ljk3Nzg3MTQzNzgyMTM4Ij4gICAgPGFuaW1hdGVUcmFuc2Zvcm0gYXR0cmlidXRlTmFtZT0idHJhbnNmb3JtIiB0eXBlPSJyb3RhdGUiIHJlcGVhdENvdW50PSJpbmRlZmluaXRlIiBkdXI9IjFzIiB2YWx1ZXM9IjAgNTAgNTA7MzYwIDUwIDUwIiBrZXlUaW1lcz0iMDsxIj48L2FuaW1hdGVUcmFuc2Zvcm0+ICA8L2NpcmNsZT48L3N2Zz4=\\\");\\n  background-size: auto calc(min(50%, 400px));\\n}\",{\"type\":\"object\",\"name\":\"ImportedStyleSheet\",\"id\":\"p1495\",\"attributes\":{\"url\":\"https://cdn.holoviz.org/panel/1.1.0/dist/css/loading.css\"}},{\"type\":\"object\",\"name\":\"ImportedStyleSheet\",\"id\":\"p1586\",\"attributes\":{\"url\":\"https://cdn.holoviz.org/panel/1.1.0/dist/css/listpanel.css\"}},{\"type\":\"object\",\"name\":\"ImportedStyleSheet\",\"id\":\"p1493\",\"attributes\":{\"url\":\"https://cdn.holoviz.org/panel/1.1.0/dist/bundled/theme/default.css\"}},{\"type\":\"object\",\"name\":\"ImportedStyleSheet\",\"id\":\"p1494\",\"attributes\":{\"url\":\"https://cdn.holoviz.org/panel/1.1.0/dist/bundled/theme/native.css\"}}],\"min_width\":0,\"margin\":0,\"sizing_mode\":\"stretch_width\",\"align\":\"start\",\"children\":[{\"type\":\"object\",\"name\":\"Spacer\",\"id\":\"p1496\",\"attributes\":{\"name\":\"HSpacer02165\",\"stylesheets\":[\"\\n:host(.pn-loading.pn-arc):before, .pn-loading.pn-arc:before {\\n  background-image: url(\\\"data:image/svg+xml;base64,PHN2ZyB4bWxucz0iaHR0cDovL3d3dy53My5vcmcvMjAwMC9zdmciIHN0eWxlPSJtYXJnaW46IGF1dG87IGJhY2tncm91bmQ6IG5vbmU7IGRpc3BsYXk6IGJsb2NrOyBzaGFwZS1yZW5kZXJpbmc6IGF1dG87IiB2aWV3Qm94PSIwIDAgMTAwIDEwMCIgcHJlc2VydmVBc3BlY3RSYXRpbz0ieE1pZFlNaWQiPiAgPGNpcmNsZSBjeD0iNTAiIGN5PSI1MCIgZmlsbD0ibm9uZSIgc3Ryb2tlPSIjYzNjM2MzIiBzdHJva2Utd2lkdGg9IjEwIiByPSIzNSIgc3Ryb2tlLWRhc2hhcnJheT0iMTY0LjkzMzYxNDMxMzQ2NDE1IDU2Ljk3Nzg3MTQzNzgyMTM4Ij4gICAgPGFuaW1hdGVUcmFuc2Zvcm0gYXR0cmlidXRlTmFtZT0idHJhbnNmb3JtIiB0eXBlPSJyb3RhdGUiIHJlcGVhdENvdW50PSJpbmRlZmluaXRlIiBkdXI9IjFzIiB2YWx1ZXM9IjAgNTAgNTA7MzYwIDUwIDUwIiBrZXlUaW1lcz0iMDsxIj48L2FuaW1hdGVUcmFuc2Zvcm0+ICA8L2NpcmNsZT48L3N2Zz4=\\\");\\n  background-size: auto calc(min(50%, 400px));\\n}\",{\"id\":\"p1495\"},{\"id\":\"p1493\"},{\"id\":\"p1494\"}],\"margin\":0,\"sizing_mode\":\"stretch_width\",\"align\":\"start\"}},{\"type\":\"object\",\"name\":\"Figure\",\"id\":\"p1500\",\"attributes\":{\"width\":900,\"height\":400,\"margin\":[5,10],\"sizing_mode\":\"fixed\",\"align\":\"start\",\"x_range\":{\"type\":\"object\",\"name\":\"Range1d\",\"id\":\"p1497\",\"attributes\":{\"tags\":[[[\"percentage\",\"percentage\",null]]],\"end\":100.0,\"reset_start\":0.0,\"reset_end\":100.0}},\"y_range\":{\"type\":\"object\",\"name\":\"FactorRange\",\"id\":\"p1498\",\"attributes\":{\"tags\":[[[\"channel\",\"channel\",null]]],\"factors\":[\"Chloe Ting\",\"MadFit\",\"Rebecca-Louise\",\"blogilates\",\"emi wong\"]}},\"x_scale\":{\"type\":\"object\",\"name\":\"LinearScale\",\"id\":\"p1512\"},\"y_scale\":{\"type\":\"object\",\"name\":\"CategoricalScale\",\"id\":\"p1514\"},\"title\":{\"type\":\"object\",\"name\":\"Title\",\"id\":\"p1503\",\"attributes\":{\"text\":\"Percentage of Videos in Each Duration Category for Each Channel\",\"text_color\":\"black\",\"text_font_size\":\"12pt\"}},\"renderers\":[{\"type\":\"object\",\"name\":\"GlyphRenderer\",\"id\":\"p1554\",\"attributes\":{\"data_source\":{\"type\":\"object\",\"name\":\"ColumnDataSource\",\"id\":\"p1544\",\"attributes\":{\"selected\":{\"type\":\"object\",\"name\":\"Selection\",\"id\":\"p1546\",\"attributes\":{\"indices\":[],\"line_indices\":[]}},\"selection_policy\":{\"type\":\"object\",\"name\":\"UnionRenderers\",\"id\":\"p1545\"},\"data\":{\"type\":\"map\",\"entries\":[[\"bottom\",{\"type\":\"ndarray\",\"array\":{\"type\":\"bytes\",\"data\":\"AAAAAAAAAAAAAAAAAAAAAAAAAAAAAAAAAAAAAAAAAAAAAAAAAAAAAETtStSuRB1A8XRYPB0WO0DhIMnP0l85QOsGU+Sz7kNAltye35+KNUBT5LNuMCVRQGTQu8m4PEVATcSWh4IrQ0B9DM7H4Hw0QLF4OiyeDkFAaleidiXqVECB+Dsg/g5UQD2QQe8m41VAWjeYIp+FV0Cy5aHgSm5WQOP1URsJA1hA5LNuMEV+WECF10Ph9VBXQJaoXYnaFVhAAdLTjsyiVkB81g2myO9YQML5GJyPwVhAAAAAAAAAWUC8ybg8p9dYQHp91EbCwFhA\"},\"shape\":[30],\"dtype\":\"float64\",\"order\":\"little\"}],[\"top\",{\"type\":\"ndarray\",\"array\":{\"type\":\"bytes\",\"data\":\"RO1K1K5EHUDxdFg8HRY7QOEgyc/SXzlA6wZT5LPuQ0CW3J7fn4o1QH0MzsfgfDRAsXg6LJ4OQUBk0LvJuDxFQFPks24wJVFATcSWh4IrQ0BaN5gin4VXQD2QQe8m41VAsuWh4EpuVkBqV6J2JepUQIH4OyD+DlRAlqhdidoVWECF10Ph9VBXQAHS047MolZA5LNuMEV+WEDj9VEbCQNYQHp91EbCwFhAfNYNpsjvWEAAAAAAAABZQML5GJyPwVhAvMm4PKfXWED///////9YQAAAAAAAAFlAAAAAAAAAWUAAAAAAAABZQAIAAAAAAFlA\"},\"shape\":[30],\"dtype\":\"float64\",\"order\":\"little\"}],[\"channel\",[\"Chloe Ting\",\"MadFit\",\"Rebecca-Louise\",\"blogilates\",\"emi wong\",\"Chloe Ting\",\"MadFit\",\"Rebecca-Louise\",\"blogilates\",\"emi wong\",\"blogilates\",\"Rebecca-Louise\",\"emi wong\",\"Chloe Ting\",\"MadFit\",\"Chloe Ting\",\"MadFit\",\"Rebecca-Louise\",\"blogilates\",\"emi wong\",\"emi wong\",\"blogilates\",\"MadFit\",\"Chloe Ting\",\"Rebecca-Louise\",\"blogilates\",\"Chloe Ting\",\"MadFit\",\"Rebecca-Louise\",\"emi wong\"]],[\"duration_category\",[\"0-5\",\"0-5\",\"0-5\",\"0-5\",\"0-5\",\"5-10\",\"5-10\",\"5-10\",\"5-10\",\"5-10\",\"10-20\",\"10-20\",\"10-20\",\"10-20\",\"10-20\",\"20-30\",\"20-30\",\"20-30\",\"20-30\",\"20-30\",\"30-45\",\"30-45\",\"30-45\",\"30-45\",\"30-45\",\"45+\",\"45+\",\"45+\",\"45+\",\"45+\"]],[\"percentage\",{\"type\":\"ndarray\",\"array\":{\"type\":\"bytes\",\"data\":\"RO1K1K5EHUDxdFg8HRY7QOEgyc/SXzlA6wZT5LPuQ0CW3J7fn4o1QFiidiVqVypAwvFxcHwcHEDmf67DnhkxQHaDKfJZtzxABKyOL2XMMEAbTJHPuoE5QBZQxxSViUZAFgetOROxSUCWqF2J2pVPQFF4PRReD0dAXonalahdKUAh+D4Ivg8qQH04SPKz9AdATJHPusEUD0AJAwGr40sZQNjyUHAltwdADqbIZ91g/D+vh8LrofAaQHclaleidgVA1b0nb9WmIUB2gynyWTfQPzgfg/MxOO8/AAAAAAAAAAAYIpujYSzkP8xDwZXcnu8/\"},\"shape\":[30],\"dtype\":\"float64\",\"order\":\"little\"}]]}}},\"view\":{\"type\":\"object\",\"name\":\"CDSView\",\"id\":\"p1555\",\"attributes\":{\"filter\":{\"type\":\"object\",\"name\":\"AllIndices\",\"id\":\"p1556\"}}},\"glyph\":{\"type\":\"object\",\"name\":\"HBar\",\"id\":\"p1551\",\"attributes\":{\"tags\":[\"apply_ranges\"],\"y\":{\"type\":\"field\",\"field\":\"channel\"},\"height\":{\"type\":\"value\",\"value\":0.8},\"left\":{\"type\":\"field\",\"field\":\"bottom\"},\"right\":{\"type\":\"field\",\"field\":\"top\"},\"line_alpha\":{\"type\":\"value\",\"value\":0.9},\"fill_color\":{\"type\":\"field\",\"field\":\"duration_category\",\"transform\":{\"type\":\"object\",\"name\":\"CategoricalColorMapper\",\"id\":\"p1543\",\"attributes\":{\"palette\":[\"#fbb4ae\",\"#b3cde3\",\"#ccebc5\",\"#decbe4\",\"#fed9a6\",\"#ffffcc\"],\"factors\":[\"0-5\",\"5-10\",\"10-20\",\"20-30\",\"30-45\",\"45+\"]}}},\"fill_alpha\":{\"type\":\"value\",\"value\":0.9},\"hatch_color\":{\"type\":\"field\",\"field\":\"duration_category\",\"transform\":{\"id\":\"p1543\"}},\"hatch_alpha\":{\"type\":\"value\",\"value\":0.9}}},\"selection_glyph\":{\"type\":\"object\",\"name\":\"HBar\",\"id\":\"p1559\",\"attributes\":{\"tags\":[\"apply_ranges\"],\"y\":{\"type\":\"field\",\"field\":\"channel\"},\"height\":{\"type\":\"value\",\"value\":0.8},\"left\":{\"type\":\"field\",\"field\":\"bottom\"},\"right\":{\"type\":\"field\",\"field\":\"top\"},\"line_color\":{\"type\":\"value\",\"value\":\"black\"},\"line_alpha\":{\"type\":\"value\",\"value\":0.9},\"line_width\":{\"type\":\"value\",\"value\":1},\"line_join\":{\"type\":\"value\",\"value\":\"bevel\"},\"line_cap\":{\"type\":\"value\",\"value\":\"butt\"},\"line_dash\":{\"type\":\"value\",\"value\":[]},\"line_dash_offset\":{\"type\":\"value\",\"value\":0},\"fill_color\":{\"type\":\"field\",\"field\":\"duration_category\",\"transform\":{\"id\":\"p1543\"}},\"fill_alpha\":{\"type\":\"value\",\"value\":0.9},\"hatch_color\":{\"type\":\"field\",\"field\":\"duration_category\",\"transform\":{\"id\":\"p1543\"}},\"hatch_alpha\":{\"type\":\"value\",\"value\":0.9},\"hatch_scale\":{\"type\":\"value\",\"value\":12.0},\"hatch_pattern\":{\"type\":\"value\",\"value\":null},\"hatch_weight\":{\"type\":\"value\",\"value\":1.0}}},\"nonselection_glyph\":{\"type\":\"object\",\"name\":\"HBar\",\"id\":\"p1552\",\"attributes\":{\"tags\":[\"apply_ranges\"],\"y\":{\"type\":\"field\",\"field\":\"channel\"},\"height\":{\"type\":\"value\",\"value\":0.8},\"left\":{\"type\":\"field\",\"field\":\"bottom\"},\"right\":{\"type\":\"field\",\"field\":\"top\"},\"line_alpha\":{\"type\":\"value\",\"value\":0.9},\"fill_color\":{\"type\":\"field\",\"field\":\"duration_category\",\"transform\":{\"id\":\"p1543\"}},\"fill_alpha\":{\"type\":\"value\",\"value\":0.9},\"hatch_color\":{\"type\":\"field\",\"field\":\"duration_category\",\"transform\":{\"id\":\"p1543\"}},\"hatch_alpha\":{\"type\":\"value\",\"value\":0.1}}},\"muted_glyph\":{\"type\":\"object\",\"name\":\"HBar\",\"id\":\"p1553\",\"attributes\":{\"tags\":[\"apply_ranges\"],\"y\":{\"type\":\"field\",\"field\":\"channel\"},\"height\":{\"type\":\"value\",\"value\":0.8},\"left\":{\"type\":\"field\",\"field\":\"bottom\"},\"right\":{\"type\":\"field\",\"field\":\"top\"},\"line_alpha\":{\"type\":\"value\",\"value\":0.2},\"fill_color\":{\"type\":\"field\",\"field\":\"duration_category\",\"transform\":{\"id\":\"p1543\"}},\"fill_alpha\":{\"type\":\"value\",\"value\":0.2},\"hatch_color\":{\"type\":\"field\",\"field\":\"duration_category\",\"transform\":{\"id\":\"p1543\"}},\"hatch_alpha\":{\"type\":\"value\",\"value\":0.2}}}}}],\"toolbar\":{\"type\":\"object\",\"name\":\"Toolbar\",\"id\":\"p1505\",\"attributes\":{\"tools\":[{\"type\":\"object\",\"name\":\"HoverTool\",\"id\":\"p1499\",\"attributes\":{\"tags\":[\"hv_created\"],\"renderers\":[{\"id\":\"p1554\"}],\"tooltips\":[[\"channel\",\"@{channel}\"],[\"duration_category\",\"@{duration_category}\"],[\"percentage\",\"@{percentage}\"]]}},{\"type\":\"object\",\"name\":\"SaveTool\",\"id\":\"p1529\"},{\"type\":\"object\",\"name\":\"PanTool\",\"id\":\"p1530\"},{\"type\":\"object\",\"name\":\"WheelZoomTool\",\"id\":\"p1531\"},{\"type\":\"object\",\"name\":\"BoxZoomTool\",\"id\":\"p1532\",\"attributes\":{\"overlay\":{\"type\":\"object\",\"name\":\"BoxAnnotation\",\"id\":\"p1533\",\"attributes\":{\"syncable\":false,\"level\":\"overlay\",\"visible\":false,\"left_units\":\"canvas\",\"right_units\":\"canvas\",\"bottom_units\":\"canvas\",\"top_units\":\"canvas\",\"line_color\":\"black\",\"line_alpha\":1.0,\"line_width\":2,\"line_dash\":[4,4],\"fill_color\":\"lightgrey\",\"fill_alpha\":0.5}}}},{\"type\":\"object\",\"name\":\"ResetTool\",\"id\":\"p1534\"}],\"active_drag\":{\"id\":\"p1530\"},\"active_scroll\":{\"id\":\"p1531\"}}},\"left\":[{\"type\":\"object\",\"name\":\"CategoricalAxis\",\"id\":\"p1523\",\"attributes\":{\"ticker\":{\"type\":\"object\",\"name\":\"CategoricalTicker\",\"id\":\"p1524\"},\"formatter\":{\"type\":\"object\",\"name\":\"CategoricalTickFormatter\",\"id\":\"p1526\"},\"axis_label\":\"Channel\",\"major_label_policy\":{\"type\":\"object\",\"name\":\"AllLabels\",\"id\":\"p1525\"}}}],\"above\":[{\"type\":\"object\",\"name\":\"Legend\",\"id\":\"p1557\",\"attributes\":{\"location\":[0,0],\"orientation\":\"horizontal\",\"items\":[{\"type\":\"object\",\"name\":\"LegendItem\",\"id\":\"p1558\",\"attributes\":{\"label\":{\"type\":\"field\",\"field\":\"duration_category\"},\"renderers\":[{\"id\":\"p1554\"}]}}]}}],\"below\":[{\"type\":\"object\",\"name\":\"LinearAxis\",\"id\":\"p1516\",\"attributes\":{\"ticker\":{\"type\":\"object\",\"name\":\"BasicTicker\",\"id\":\"p1517\",\"attributes\":{\"mantissas\":[1,2,5]}},\"formatter\":{\"type\":\"object\",\"name\":\"BasicTickFormatter\",\"id\":\"p1519\"},\"axis_label\":\"Percentage of Videos (%)\",\"major_label_policy\":{\"type\":\"object\",\"name\":\"AllLabels\",\"id\":\"p1518\"}}}],\"center\":[{\"type\":\"object\",\"name\":\"Grid\",\"id\":\"p1522\",\"attributes\":{\"axis\":{\"id\":\"p1516\"},\"grid_line_color\":null}},{\"type\":\"object\",\"name\":\"Grid\",\"id\":\"p1528\",\"attributes\":{\"dimension\":1,\"axis\":{\"id\":\"p1523\"},\"grid_line_color\":null}},{\"id\":\"p1557\"}],\"min_border_top\":10,\"min_border_bottom\":10,\"min_border_left\":10,\"min_border_right\":10,\"output_backend\":\"webgl\"}},{\"type\":\"object\",\"name\":\"Spacer\",\"id\":\"p1584\",\"attributes\":{\"name\":\"HSpacer02168\",\"stylesheets\":[\"\\n:host(.pn-loading.pn-arc):before, .pn-loading.pn-arc:before {\\n  background-image: url(\\\"data:image/svg+xml;base64,PHN2ZyB4bWxucz0iaHR0cDovL3d3dy53My5vcmcvMjAwMC9zdmciIHN0eWxlPSJtYXJnaW46IGF1dG87IGJhY2tncm91bmQ6IG5vbmU7IGRpc3BsYXk6IGJsb2NrOyBzaGFwZS1yZW5kZXJpbmc6IGF1dG87IiB2aWV3Qm94PSIwIDAgMTAwIDEwMCIgcHJlc2VydmVBc3BlY3RSYXRpbz0ieE1pZFlNaWQiPiAgPGNpcmNsZSBjeD0iNTAiIGN5PSI1MCIgZmlsbD0ibm9uZSIgc3Ryb2tlPSIjYzNjM2MzIiBzdHJva2Utd2lkdGg9IjEwIiByPSIzNSIgc3Ryb2tlLWRhc2hhcnJheT0iMTY0LjkzMzYxNDMxMzQ2NDE1IDU2Ljk3Nzg3MTQzNzgyMTM4Ij4gICAgPGFuaW1hdGVUcmFuc2Zvcm0gYXR0cmlidXRlTmFtZT0idHJhbnNmb3JtIiB0eXBlPSJyb3RhdGUiIHJlcGVhdENvdW50PSJpbmRlZmluaXRlIiBkdXI9IjFzIiB2YWx1ZXM9IjAgNTAgNTA7MzYwIDUwIDUwIiBrZXlUaW1lcz0iMDsxIj48L2FuaW1hdGVUcmFuc2Zvcm0+ICA8L2NpcmNsZT48L3N2Zz4=\\\");\\n  background-size: auto calc(min(50%, 400px));\\n}\",{\"id\":\"p1495\"},{\"id\":\"p1493\"},{\"id\":\"p1494\"}],\"margin\":0,\"sizing_mode\":\"stretch_width\",\"align\":\"start\"}}]}}],\"callbacks\":{\"type\":\"map\"}}};\n",
       "  var render_items = [{\"docid\":\"97b3e4d8-da51-4a1c-9ec1-8d7e27c50136\",\"roots\":{\"p1492\":\"bfd9317f-f58a-4cbe-8a49-df4d398d24d6\"},\"root_ids\":[\"p1492\"]}];\n",
       "  var docs = Object.values(docs_json)\n",
       "  if (!docs) {\n",
       "    return\n",
       "  }\n",
       "  const py_version = docs[0].version.replace('rc', '-rc.')\n",
       "  const is_dev = py_version.indexOf(\"+\") !== -1 || py_version.indexOf(\"-\") !== -1\n",
       "  function embed_document(root) {\n",
       "    var Bokeh = get_bokeh(root)\n",
       "    Bokeh.embed.embed_items_notebook(docs_json, render_items);\n",
       "    for (const render_item of render_items) {\n",
       "      for (const root_id of render_item.root_ids) {\n",
       "\tconst id_el = document.getElementById(root_id)\n",
       "\tif (id_el.children.length && (id_el.children[0].className === 'bk-root')) {\n",
       "\t  const root_el = id_el.children[0]\n",
       "\t  root_el.id = root_el.id + '-rendered'\n",
       "\t}\n",
       "      }\n",
       "    }\n",
       "  }\n",
       "  function get_bokeh(root) {\n",
       "    if (root.Bokeh === undefined) {\n",
       "      return null\n",
       "    } else if (root.Bokeh.version !== py_version && !is_dev) {\n",
       "      if (root.Bokeh.versions === undefined || !root.Bokeh.versions.has(py_version)) {\n",
       "\treturn null\n",
       "      }\n",
       "      return root.Bokeh.versions.get(py_version);\n",
       "    } else if (root.Bokeh.version === py_version) {\n",
       "      return root.Bokeh\n",
       "    }\n",
       "    return null\n",
       "  }\n",
       "  function is_loaded(root) {\n",
       "    var Bokeh = get_bokeh(root)\n",
       "    return (Bokeh != null && Bokeh.Panel !== undefined && ( root['Plotly'] !== undefined))\n",
       "  }\n",
       "  if (is_loaded(root)) {\n",
       "    embed_document(root);\n",
       "  } else {\n",
       "    var attempts = 0;\n",
       "    var timer = setInterval(function(root) {\n",
       "      if (is_loaded(root)) {\n",
       "        clearInterval(timer);\n",
       "        embed_document(root);\n",
       "      } else if (document.readyState == \"complete\") {\n",
       "        attempts++;\n",
       "        if (attempts > 200) {\n",
       "          clearInterval(timer);\n",
       "\t  var Bokeh = get_bokeh(root)\n",
       "\t  if (Bokeh == null || Bokeh.Panel == null) {\n",
       "            console.warn(\"Panel: ERROR: Unable to run Panel code because Bokeh or Panel library is missing\");\n",
       "\t  } else {\n",
       "\t    console.warn(\"Panel: WARNING: Attempting to render but not all required libraries could be resolved.\")\n",
       "\t    embed_document(root)\n",
       "\t  }\n",
       "        }\n",
       "      }\n",
       "    }, 25, root)\n",
       "  }\n",
       "})(window);</script>"
      ],
      "text/plain": [
       ":Bars   [channel,duration_category]   (percentage)"
      ]
     },
     "execution_count": 7,
     "metadata": {
      "application/vnd.holoviews_exec.v0+json": {
       "id": "p1492"
      }
     },
     "output_type": "execute_result"
    }
   ],
   "source": [
    "# Convert 'duration_category' to a categorical data type with the desired order\n",
    "desired_order = ['0-5','5-10', '10-20', '20-30', '30-45', '45+']\n",
    "videos_df['duration_category'] = pd.Categorical(videos_df['duration_category'], categories=desired_order, ordered=True)\n",
    "\n",
    "# Group videos by 'duration_category' and 'channelName', and calculate the mean views and likes for each group\n",
    "video_counts_by_channel_duration = (videos_df\n",
    "                                    .groupby(['duration_category', 'channel'])\n",
    "                                    .size()\n",
    "                                    .reset_index(name='video_count')\n",
    "                                    )\n",
    "\n",
    "# Calculate the total number of videos for each channel\n",
    "total_videos_by_channel = (videos_df\n",
    "                           .groupby('channel')\n",
    "                           .size()\n",
    "                           .reset_index(name='total_videos')\n",
    "                           )\n",
    "\n",
    "# Merge the two DataFrames to calculate the percentage of videos in each duration category for each channel\n",
    "video_counts_by_channel_duration = video_counts_by_channel_duration.merge(total_videos_by_channel, on='channel', how='left')\n",
    "video_counts_by_channel_duration['percentage'] = (video_counts_by_channel_duration['video_count'] / video_counts_by_channel_duration['total_videos']) * 100\n",
    "\n",
    "\n",
    "# Create the interactive bar chart using hvplot\n",
    "bar_chart = video_counts_by_channel_duration.hvplot.barh(x='channel',\n",
    "                                                        y='percentage', \n",
    "                                                        by='duration_category',\n",
    "                                                        xlabel='Channel', \n",
    "                                                        ylabel='Percentage of Videos (%)',\n",
    "                                                        title='Percentage of Videos in Each Duration Category for Each Channel',\n",
    "                                                        width=900, \n",
    "                                                        height=400, \n",
    "                                                        legend='top', \n",
    "                                                        color=hv.Cycle('Pastel1'),\n",
    "                                                        stacked = True,\n",
    "                                                        alpha = 0.9\n",
    "                                                        )\n",
    "\n",
    "# Display the bar chart\n",
    "bar_chart"
   ]
  },
  {
   "cell_type": "markdown",
   "id": "73e0d08c",
   "metadata": {},
   "source": [
    "The 10-20 duration category has the highest percentage of videos for each channel except for Blogilates. Blogilates has the highest percetage of videos in the 10-20 duration category and second highest percentage in the 10-20 category. The category with the second highest percentage of videos for Madfit is 20-30 and blogilates is 10-20, while everyone else is 10-20."
   ]
  },
  {
   "cell_type": "markdown",
   "id": "e2043460",
   "metadata": {},
   "source": [
    "#### Which channels have the highest proportion of specific workout categories (e.g., upper body, legs, pilates)?"
   ]
  },
  {
   "cell_type": "code",
   "execution_count": 8,
   "id": "813a0904",
   "metadata": {},
   "outputs": [
    {
     "data": {},
     "metadata": {},
     "output_type": "display_data"
    },
    {
     "data": {
      "application/vnd.holoviews_exec.v0+json": "",
      "text/html": [
       "<div id='p1643'>\n",
       "  <div id=\"e1c6ef43-bd8a-4a5e-b003-daaf6d48ba5a\" data-root-id=\"p1643\" style=\"display: contents;\"></div>\n",
       "</div>\n",
       "<script type=\"application/javascript\">(function(root) {\n",
       "  var docs_json = {\"5fa4a6a8-1708-4d35-aaab-e42d6e873cdf\":{\"version\":\"3.1.1\",\"title\":\"Bokeh Application\",\"defs\":[{\"type\":\"model\",\"name\":\"ReactiveHTML1\"},{\"type\":\"model\",\"name\":\"FlexBox1\",\"properties\":[{\"name\":\"align_content\",\"kind\":\"Any\",\"default\":\"flex-start\"},{\"name\":\"align_items\",\"kind\":\"Any\",\"default\":\"flex-start\"},{\"name\":\"flex_direction\",\"kind\":\"Any\",\"default\":\"row\"},{\"name\":\"flex_wrap\",\"kind\":\"Any\",\"default\":\"wrap\"},{\"name\":\"justify_content\",\"kind\":\"Any\",\"default\":\"flex-start\"}]},{\"type\":\"model\",\"name\":\"FloatPanel1\",\"properties\":[{\"name\":\"config\",\"kind\":\"Any\",\"default\":{\"type\":\"map\"}},{\"name\":\"contained\",\"kind\":\"Any\",\"default\":true},{\"name\":\"position\",\"kind\":\"Any\",\"default\":\"right-top\"},{\"name\":\"offsetx\",\"kind\":\"Any\",\"default\":null},{\"name\":\"offsety\",\"kind\":\"Any\",\"default\":null},{\"name\":\"theme\",\"kind\":\"Any\",\"default\":\"primary\"},{\"name\":\"status\",\"kind\":\"Any\",\"default\":\"normalized\"}]},{\"type\":\"model\",\"name\":\"GridStack1\",\"properties\":[{\"name\":\"mode\",\"kind\":\"Any\",\"default\":\"warn\"},{\"name\":\"ncols\",\"kind\":\"Any\",\"default\":null},{\"name\":\"nrows\",\"kind\":\"Any\",\"default\":null},{\"name\":\"allow_resize\",\"kind\":\"Any\",\"default\":true},{\"name\":\"allow_drag\",\"kind\":\"Any\",\"default\":true},{\"name\":\"state\",\"kind\":\"Any\",\"default\":[]}]},{\"type\":\"model\",\"name\":\"drag1\",\"properties\":[{\"name\":\"slider_width\",\"kind\":\"Any\",\"default\":5},{\"name\":\"slider_color\",\"kind\":\"Any\",\"default\":\"black\"},{\"name\":\"value\",\"kind\":\"Any\",\"default\":50}]},{\"type\":\"model\",\"name\":\"click1\",\"properties\":[{\"name\":\"terminal_output\",\"kind\":\"Any\",\"default\":\"\"},{\"name\":\"debug_name\",\"kind\":\"Any\",\"default\":\"\"},{\"name\":\"clears\",\"kind\":\"Any\",\"default\":0}]},{\"type\":\"model\",\"name\":\"FastWrapper1\",\"properties\":[{\"name\":\"object\",\"kind\":\"Any\",\"default\":null},{\"name\":\"style\",\"kind\":\"Any\",\"default\":null}]},{\"type\":\"model\",\"name\":\"NotificationAreaBase1\",\"properties\":[{\"name\":\"position\",\"kind\":\"Any\",\"default\":\"bottom-right\"},{\"name\":\"_clear\",\"kind\":\"Any\",\"default\":0}]},{\"type\":\"model\",\"name\":\"NotificationArea1\",\"properties\":[{\"name\":\"notifications\",\"kind\":\"Any\",\"default\":[]},{\"name\":\"position\",\"kind\":\"Any\",\"default\":\"bottom-right\"},{\"name\":\"_clear\",\"kind\":\"Any\",\"default\":0},{\"name\":\"types\",\"kind\":\"Any\",\"default\":[{\"type\":\"map\",\"entries\":[[\"type\",\"warning\"],[\"background\",\"#ffc107\"],[\"icon\",{\"type\":\"map\",\"entries\":[[\"className\",\"fas fa-exclamation-triangle\"],[\"tagName\",\"i\"],[\"color\",\"white\"]]}]]},{\"type\":\"map\",\"entries\":[[\"type\",\"info\"],[\"background\",\"#007bff\"],[\"icon\",{\"type\":\"map\",\"entries\":[[\"className\",\"fas fa-info-circle\"],[\"tagName\",\"i\"],[\"color\",\"white\"]]}]]}]}]},{\"type\":\"model\",\"name\":\"Notification\",\"properties\":[{\"name\":\"background\",\"kind\":\"Any\",\"default\":null},{\"name\":\"duration\",\"kind\":\"Any\",\"default\":3000},{\"name\":\"icon\",\"kind\":\"Any\",\"default\":null},{\"name\":\"message\",\"kind\":\"Any\",\"default\":\"\"},{\"name\":\"notification_type\",\"kind\":\"Any\",\"default\":null},{\"name\":\"_destroyed\",\"kind\":\"Any\",\"default\":false}]},{\"type\":\"model\",\"name\":\"TemplateActions1\",\"properties\":[{\"name\":\"open_modal\",\"kind\":\"Any\",\"default\":0},{\"name\":\"close_modal\",\"kind\":\"Any\",\"default\":0}]},{\"type\":\"model\",\"name\":\"BootstrapTemplateActions1\",\"properties\":[{\"name\":\"open_modal\",\"kind\":\"Any\",\"default\":0},{\"name\":\"close_modal\",\"kind\":\"Any\",\"default\":0}]},{\"type\":\"model\",\"name\":\"MaterialTemplateActions1\",\"properties\":[{\"name\":\"open_modal\",\"kind\":\"Any\",\"default\":0},{\"name\":\"close_modal\",\"kind\":\"Any\",\"default\":0}]}],\"roots\":[{\"type\":\"object\",\"name\":\"Row\",\"id\":\"p1643\",\"attributes\":{\"name\":\"Row02388\",\"tags\":[\"embedded\"],\"stylesheets\":[\"\\n:host(.pn-loading.pn-arc):before, .pn-loading.pn-arc:before {\\n  background-image: url(\\\"data:image/svg+xml;base64,PHN2ZyB4bWxucz0iaHR0cDovL3d3dy53My5vcmcvMjAwMC9zdmciIHN0eWxlPSJtYXJnaW46IGF1dG87IGJhY2tncm91bmQ6IG5vbmU7IGRpc3BsYXk6IGJsb2NrOyBzaGFwZS1yZW5kZXJpbmc6IGF1dG87IiB2aWV3Qm94PSIwIDAgMTAwIDEwMCIgcHJlc2VydmVBc3BlY3RSYXRpbz0ieE1pZFlNaWQiPiAgPGNpcmNsZSBjeD0iNTAiIGN5PSI1MCIgZmlsbD0ibm9uZSIgc3Ryb2tlPSIjYzNjM2MzIiBzdHJva2Utd2lkdGg9IjEwIiByPSIzNSIgc3Ryb2tlLWRhc2hhcnJheT0iMTY0LjkzMzYxNDMxMzQ2NDE1IDU2Ljk3Nzg3MTQzNzgyMTM4Ij4gICAgPGFuaW1hdGVUcmFuc2Zvcm0gYXR0cmlidXRlTmFtZT0idHJhbnNmb3JtIiB0eXBlPSJyb3RhdGUiIHJlcGVhdENvdW50PSJpbmRlZmluaXRlIiBkdXI9IjFzIiB2YWx1ZXM9IjAgNTAgNTA7MzYwIDUwIDUwIiBrZXlUaW1lcz0iMDsxIj48L2FuaW1hdGVUcmFuc2Zvcm0+ICA8L2NpcmNsZT48L3N2Zz4=\\\");\\n  background-size: auto calc(min(50%, 400px));\\n}\",{\"type\":\"object\",\"name\":\"ImportedStyleSheet\",\"id\":\"p1646\",\"attributes\":{\"url\":\"https://cdn.holoviz.org/panel/1.1.0/dist/css/loading.css\"}},{\"type\":\"object\",\"name\":\"ImportedStyleSheet\",\"id\":\"p1737\",\"attributes\":{\"url\":\"https://cdn.holoviz.org/panel/1.1.0/dist/css/listpanel.css\"}},{\"type\":\"object\",\"name\":\"ImportedStyleSheet\",\"id\":\"p1644\",\"attributes\":{\"url\":\"https://cdn.holoviz.org/panel/1.1.0/dist/bundled/theme/default.css\"}},{\"type\":\"object\",\"name\":\"ImportedStyleSheet\",\"id\":\"p1645\",\"attributes\":{\"url\":\"https://cdn.holoviz.org/panel/1.1.0/dist/bundled/theme/native.css\"}}],\"min_width\":0,\"margin\":0,\"sizing_mode\":\"stretch_width\",\"align\":\"start\",\"children\":[{\"type\":\"object\",\"name\":\"Spacer\",\"id\":\"p1647\",\"attributes\":{\"name\":\"HSpacer02399\",\"stylesheets\":[\"\\n:host(.pn-loading.pn-arc):before, .pn-loading.pn-arc:before {\\n  background-image: url(\\\"data:image/svg+xml;base64,PHN2ZyB4bWxucz0iaHR0cDovL3d3dy53My5vcmcvMjAwMC9zdmciIHN0eWxlPSJtYXJnaW46IGF1dG87IGJhY2tncm91bmQ6IG5vbmU7IGRpc3BsYXk6IGJsb2NrOyBzaGFwZS1yZW5kZXJpbmc6IGF1dG87IiB2aWV3Qm94PSIwIDAgMTAwIDEwMCIgcHJlc2VydmVBc3BlY3RSYXRpbz0ieE1pZFlNaWQiPiAgPGNpcmNsZSBjeD0iNTAiIGN5PSI1MCIgZmlsbD0ibm9uZSIgc3Ryb2tlPSIjYzNjM2MzIiBzdHJva2Utd2lkdGg9IjEwIiByPSIzNSIgc3Ryb2tlLWRhc2hhcnJheT0iMTY0LjkzMzYxNDMxMzQ2NDE1IDU2Ljk3Nzg3MTQzNzgyMTM4Ij4gICAgPGFuaW1hdGVUcmFuc2Zvcm0gYXR0cmlidXRlTmFtZT0idHJhbnNmb3JtIiB0eXBlPSJyb3RhdGUiIHJlcGVhdENvdW50PSJpbmRlZmluaXRlIiBkdXI9IjFzIiB2YWx1ZXM9IjAgNTAgNTA7MzYwIDUwIDUwIiBrZXlUaW1lcz0iMDsxIj48L2FuaW1hdGVUcmFuc2Zvcm0+ICA8L2NpcmNsZT48L3N2Zz4=\\\");\\n  background-size: auto calc(min(50%, 400px));\\n}\",{\"id\":\"p1646\"},{\"id\":\"p1644\"},{\"id\":\"p1645\"}],\"margin\":0,\"sizing_mode\":\"stretch_width\",\"align\":\"start\"}},{\"type\":\"object\",\"name\":\"Figure\",\"id\":\"p1651\",\"attributes\":{\"width\":900,\"height\":450,\"margin\":[5,10],\"sizing_mode\":\"fixed\",\"align\":\"start\",\"x_range\":{\"type\":\"object\",\"name\":\"FactorRange\",\"id\":\"p1648\",\"attributes\":{\"tags\":[[[\"body_category\",\"body_category\",null]]],\"factors\":[\"FULL_BODY\",\"UPPER_BODY\",\"LOWER_BODY\",\"CHEST\",\"BACK\",\"ABS\",\"ARMS\",\"LEGS\",\"GLUTES\"]}},\"y_range\":{\"type\":\"object\",\"name\":\"Range1d\",\"id\":\"p1649\",\"attributes\":{\"tags\":[[[\"video_count\",\"video_count\",null]]],\"end\":2924.5,\"reset_start\":0.0,\"reset_end\":2924.5}},\"x_scale\":{\"type\":\"object\",\"name\":\"CategoricalScale\",\"id\":\"p1663\"},\"y_scale\":{\"type\":\"object\",\"name\":\"LinearScale\",\"id\":\"p1665\"},\"title\":{\"type\":\"object\",\"name\":\"Title\",\"id\":\"p1654\",\"attributes\":{\"text_color\":\"black\",\"text_font_size\":\"12pt\"}},\"renderers\":[{\"type\":\"object\",\"name\":\"GlyphRenderer\",\"id\":\"p1705\",\"attributes\":{\"data_source\":{\"type\":\"object\",\"name\":\"ColumnDataSource\",\"id\":\"p1695\",\"attributes\":{\"selected\":{\"type\":\"object\",\"name\":\"Selection\",\"id\":\"p1697\",\"attributes\":{\"indices\":[],\"line_indices\":[]}},\"selection_policy\":{\"type\":\"object\",\"name\":\"UnionRenderers\",\"id\":\"p1696\"},\"data\":{\"type\":\"map\",\"entries\":[[\"bottom\",{\"type\":\"ndarray\",\"array\":{\"type\":\"bytes\",\"data\":\"AAAAAAAAAAAAAAAAAAAAAAAAAAAAAAAAAAAAAAAAAAAAAAAAAAAAAAAAAAAAAAAAAAAAAAAAAAAAAAAAAAAAAAAAAAAAAAAAAAAAAACAWUAAAAAAAAAYQAAAAAAAgFhAAAAAAABAakAAAAAAAAAQQAAAAAAAEHdAAAAAAACAW0AAAAAAAIBDQAAAAAAAAFJAAAAAAACga0AAAAAAACiAQAAAAAAAIHdAAAAAAACQhkAAAAAAAABgQAAAAAAAYHpAAAAAAAAAPUAAAAAAAEBZQAAAAAAAAD1AAAAAAACgbkAAAAAAAOiCQAAAAAAAcI1AAAAAAAAAZ0AAAAAAAFiCQAAAAAAAIIVAAAAAAAB0lkAAAAAAAABSQAAAAAAAQFNAAAAAAAAAVkAAAAAAAKSQQAAAAAAAIGpAAAAAAADwoUAAAAAAAAyWQAAAAAAAKIVAAAAAAAAAWUAAAAAAAMB6QAAAAAAAHJBA\"},\"shape\":[45],\"dtype\":\"float64\",\"order\":\"little\"}],[\"top\",{\"type\":\"ndarray\",\"array\":{\"type\":\"bytes\",\"data\":\"AAAAAACAW0AAAAAAABB3QAAAAAAAABBAAAAAAACAWEAAAAAAAABSQAAAAAAAgFlAAAAAAAAAGEAAAAAAAIBDQAAAAAAAQGpAAAAAAACga0AAAAAAAAA9QAAAAAAAKIBAAAAAAAAgd0AAAAAAAAA9QAAAAAAAkIZAAAAAAABgekAAAAAAAEBZQAAAAAAAAGBAAAAAAABwjUAAAAAAACCFQAAAAAAAWIJAAAAAAAB0lkAAAAAAAKBuQAAAAAAA6IJAAAAAAAAAUkAAAAAAAABnQAAAAAAAQFNAAAAAAADAekAAAAAAACiFQAAAAAAADJZAAAAAAAAgakAAAAAAAByQQAAAAAAApJBAAAAAAADwoUAAAAAAAABZQAAAAAAAAFZAAAAAAAAAV0AAAAAAAACTQAAAAAAAEHFAAAAAAADWpEAAAAAAAJyYQAAAAAAAYItAAAAAAAAAWkAAAAAAANiBQAAAAAAAVJFA\"},\"shape\":[45],\"dtype\":\"float64\",\"order\":\"little\"}],[\"body_category\",[\"FULL_BODY\",\"ABS\",\"CHEST\",\"ARMS\",\"BACK\",\"LEGS\",\"LOWER_BODY\",\"UPPER_BODY\",\"GLUTES\",\"LEGS\",\"LOWER_BODY\",\"ARMS\",\"GLUTES\",\"CHEST\",\"ABS\",\"FULL_BODY\",\"UPPER_BODY\",\"BACK\",\"LEGS\",\"ARMS\",\"GLUTES\",\"ABS\",\"BACK\",\"FULL_BODY\",\"CHEST\",\"UPPER_BODY\",\"LOWER_BODY\",\"BACK\",\"FULL_BODY\",\"LEGS\",\"UPPER_BODY\",\"GLUTES\",\"ARMS\",\"ABS\",\"CHEST\",\"LOWER_BODY\",\"LOWER_BODY\",\"ARMS\",\"UPPER_BODY\",\"ABS\",\"LEGS\",\"FULL_BODY\",\"CHEST\",\"BACK\",\"GLUTES\"]],[\"channel\",[\"Chloe Ting\",\"Chloe Ting\",\"Chloe Ting\",\"Chloe Ting\",\"Chloe Ting\",\"Chloe Ting\",\"Chloe Ting\",\"Chloe Ting\",\"Chloe Ting\",\"MadFit\",\"MadFit\",\"MadFit\",\"MadFit\",\"MadFit\",\"MadFit\",\"MadFit\",\"MadFit\",\"MadFit\",\"Rebecca-Louise\",\"Rebecca-Louise\",\"Rebecca-Louise\",\"Rebecca-Louise\",\"Rebecca-Louise\",\"Rebecca-Louise\",\"Rebecca-Louise\",\"Rebecca-Louise\",\"Rebecca-Louise\",\"blogilates\",\"blogilates\",\"blogilates\",\"blogilates\",\"blogilates\",\"blogilates\",\"blogilates\",\"blogilates\",\"blogilates\",\"emi wong\",\"emi wong\",\"emi wong\",\"emi wong\",\"emi wong\",\"emi wong\",\"emi wong\",\"emi wong\",\"emi wong\"]],[\"video_count\",{\"type\":\"ndarray\",\"array\":{\"type\":\"bytes\",\"data\":\"bgAAAHEBAAAEAAAAYgAAAEgAAABmAAAABgAAACcAAADSAAAAdwAAABcAAACjAQAAoAAAABkAAABhAQAAOAEAAD4AAAA4AAAA0QIAAJ8AAADZAAAAywIAAHUAAAC3AAAAKwAAAFMAAAAwAAAAtwAAAEgAAADVAQAAGQAAALwBAACFAQAAWwMAABwAAAALAAAABAAAAJcAAABAAAAAcwEAAKQAAADHAAAABAAAAI8AAABOAAAA\"},\"shape\":[45],\"dtype\":\"int32\",\"order\":\"little\"}]]}}},\"view\":{\"type\":\"object\",\"name\":\"CDSView\",\"id\":\"p1706\",\"attributes\":{\"filter\":{\"type\":\"object\",\"name\":\"AllIndices\",\"id\":\"p1707\"}}},\"glyph\":{\"type\":\"object\",\"name\":\"VBar\",\"id\":\"p1702\",\"attributes\":{\"tags\":[\"apply_ranges\"],\"x\":{\"type\":\"field\",\"field\":\"body_category\"},\"width\":{\"type\":\"value\",\"value\":0.8},\"bottom\":{\"type\":\"field\",\"field\":\"bottom\"},\"top\":{\"type\":\"field\",\"field\":\"top\"},\"line_alpha\":{\"type\":\"value\",\"value\":0.7},\"fill_color\":{\"type\":\"field\",\"field\":\"channel\",\"transform\":{\"type\":\"object\",\"name\":\"CategoricalColorMapper\",\"id\":\"p1694\",\"attributes\":{\"palette\":[\"#1f77b4\",\"#ff7f0e\",\"#2ca02c\",\"#d62728\",\"#9467bd\"],\"factors\":[\"Chloe Ting\",\"MadFit\",\"Rebecca-Louise\",\"blogilates\",\"emi wong\"]}}},\"fill_alpha\":{\"type\":\"value\",\"value\":0.7},\"hatch_color\":{\"type\":\"field\",\"field\":\"channel\",\"transform\":{\"id\":\"p1694\"}},\"hatch_alpha\":{\"type\":\"value\",\"value\":0.7}}},\"selection_glyph\":{\"type\":\"object\",\"name\":\"VBar\",\"id\":\"p1710\",\"attributes\":{\"tags\":[\"apply_ranges\"],\"x\":{\"type\":\"field\",\"field\":\"body_category\"},\"width\":{\"type\":\"value\",\"value\":0.8},\"bottom\":{\"type\":\"field\",\"field\":\"bottom\"},\"top\":{\"type\":\"field\",\"field\":\"top\"},\"line_color\":{\"type\":\"value\",\"value\":\"black\"},\"line_alpha\":{\"type\":\"value\",\"value\":0.7},\"line_width\":{\"type\":\"value\",\"value\":1},\"line_join\":{\"type\":\"value\",\"value\":\"bevel\"},\"line_cap\":{\"type\":\"value\",\"value\":\"butt\"},\"line_dash\":{\"type\":\"value\",\"value\":[]},\"line_dash_offset\":{\"type\":\"value\",\"value\":0},\"fill_color\":{\"type\":\"field\",\"field\":\"channel\",\"transform\":{\"id\":\"p1694\"}},\"fill_alpha\":{\"type\":\"value\",\"value\":0.7},\"hatch_color\":{\"type\":\"field\",\"field\":\"channel\",\"transform\":{\"id\":\"p1694\"}},\"hatch_alpha\":{\"type\":\"value\",\"value\":0.7},\"hatch_scale\":{\"type\":\"value\",\"value\":12.0},\"hatch_pattern\":{\"type\":\"value\",\"value\":null},\"hatch_weight\":{\"type\":\"value\",\"value\":1.0}}},\"nonselection_glyph\":{\"type\":\"object\",\"name\":\"VBar\",\"id\":\"p1703\",\"attributes\":{\"tags\":[\"apply_ranges\"],\"x\":{\"type\":\"field\",\"field\":\"body_category\"},\"width\":{\"type\":\"value\",\"value\":0.8},\"bottom\":{\"type\":\"field\",\"field\":\"bottom\"},\"top\":{\"type\":\"field\",\"field\":\"top\"},\"line_alpha\":{\"type\":\"value\",\"value\":0.7},\"fill_color\":{\"type\":\"field\",\"field\":\"channel\",\"transform\":{\"id\":\"p1694\"}},\"fill_alpha\":{\"type\":\"value\",\"value\":0.7},\"hatch_color\":{\"type\":\"field\",\"field\":\"channel\",\"transform\":{\"id\":\"p1694\"}},\"hatch_alpha\":{\"type\":\"value\",\"value\":0.1}}},\"muted_glyph\":{\"type\":\"object\",\"name\":\"VBar\",\"id\":\"p1704\",\"attributes\":{\"tags\":[\"apply_ranges\"],\"x\":{\"type\":\"field\",\"field\":\"body_category\"},\"width\":{\"type\":\"value\",\"value\":0.8},\"bottom\":{\"type\":\"field\",\"field\":\"bottom\"},\"top\":{\"type\":\"field\",\"field\":\"top\"},\"line_alpha\":{\"type\":\"value\",\"value\":0.2},\"fill_color\":{\"type\":\"field\",\"field\":\"channel\",\"transform\":{\"id\":\"p1694\"}},\"fill_alpha\":{\"type\":\"value\",\"value\":0.2},\"hatch_color\":{\"type\":\"field\",\"field\":\"channel\",\"transform\":{\"id\":\"p1694\"}},\"hatch_alpha\":{\"type\":\"value\",\"value\":0.2}}}}}],\"toolbar\":{\"type\":\"object\",\"name\":\"Toolbar\",\"id\":\"p1656\",\"attributes\":{\"tools\":[{\"type\":\"object\",\"name\":\"HoverTool\",\"id\":\"p1650\",\"attributes\":{\"tags\":[\"hv_created\"],\"renderers\":[{\"id\":\"p1705\"}],\"tooltips\":[[\"body_category\",\"@{body_category}\"],[\"channel\",\"@{channel}\"],[\"video_count\",\"@{video_count}\"]]}},{\"type\":\"object\",\"name\":\"SaveTool\",\"id\":\"p1680\"},{\"type\":\"object\",\"name\":\"PanTool\",\"id\":\"p1681\"},{\"type\":\"object\",\"name\":\"WheelZoomTool\",\"id\":\"p1682\"},{\"type\":\"object\",\"name\":\"BoxZoomTool\",\"id\":\"p1683\",\"attributes\":{\"overlay\":{\"type\":\"object\",\"name\":\"BoxAnnotation\",\"id\":\"p1684\",\"attributes\":{\"syncable\":false,\"level\":\"overlay\",\"visible\":false,\"left_units\":\"canvas\",\"right_units\":\"canvas\",\"bottom_units\":\"canvas\",\"top_units\":\"canvas\",\"line_color\":\"black\",\"line_alpha\":1.0,\"line_width\":2,\"line_dash\":[4,4],\"fill_color\":\"lightgrey\",\"fill_alpha\":0.5}}}},{\"type\":\"object\",\"name\":\"ResetTool\",\"id\":\"p1685\"}],\"active_drag\":{\"id\":\"p1681\"},\"active_scroll\":{\"id\":\"p1682\"}}},\"left\":[{\"type\":\"object\",\"name\":\"LinearAxis\",\"id\":\"p1673\",\"attributes\":{\"ticker\":{\"type\":\"object\",\"name\":\"BasicTicker\",\"id\":\"p1674\",\"attributes\":{\"mantissas\":[1,2,5]}},\"formatter\":{\"type\":\"object\",\"name\":\"BasicTickFormatter\",\"id\":\"p1676\"},\"axis_label\":\"video_count\",\"major_label_policy\":{\"type\":\"object\",\"name\":\"AllLabels\",\"id\":\"p1675\"}}}],\"below\":[{\"type\":\"object\",\"name\":\"CategoricalAxis\",\"id\":\"p1667\",\"attributes\":{\"ticker\":{\"type\":\"object\",\"name\":\"CategoricalTicker\",\"id\":\"p1668\"},\"formatter\":{\"type\":\"object\",\"name\":\"CategoricalTickFormatter\",\"id\":\"p1670\"},\"axis_label\":\"body_category\",\"major_label_policy\":{\"type\":\"object\",\"name\":\"AllLabels\",\"id\":\"p1669\"}}}],\"center\":[{\"type\":\"object\",\"name\":\"Grid\",\"id\":\"p1672\",\"attributes\":{\"axis\":{\"id\":\"p1667\"},\"grid_line_color\":null}},{\"type\":\"object\",\"name\":\"Grid\",\"id\":\"p1679\",\"attributes\":{\"dimension\":1,\"axis\":{\"id\":\"p1673\"},\"grid_line_color\":null}},{\"type\":\"object\",\"name\":\"Legend\",\"id\":\"p1708\",\"attributes\":{\"location\":\"top_left\",\"items\":[{\"type\":\"object\",\"name\":\"LegendItem\",\"id\":\"p1709\",\"attributes\":{\"label\":{\"type\":\"field\",\"field\":\"channel\"},\"renderers\":[{\"id\":\"p1705\"}]}}]}}],\"min_border_top\":10,\"min_border_bottom\":10,\"min_border_left\":10,\"min_border_right\":10,\"output_backend\":\"webgl\"}},{\"type\":\"object\",\"name\":\"Spacer\",\"id\":\"p1735\",\"attributes\":{\"name\":\"HSpacer02402\",\"stylesheets\":[\"\\n:host(.pn-loading.pn-arc):before, .pn-loading.pn-arc:before {\\n  background-image: url(\\\"data:image/svg+xml;base64,PHN2ZyB4bWxucz0iaHR0cDovL3d3dy53My5vcmcvMjAwMC9zdmciIHN0eWxlPSJtYXJnaW46IGF1dG87IGJhY2tncm91bmQ6IG5vbmU7IGRpc3BsYXk6IGJsb2NrOyBzaGFwZS1yZW5kZXJpbmc6IGF1dG87IiB2aWV3Qm94PSIwIDAgMTAwIDEwMCIgcHJlc2VydmVBc3BlY3RSYXRpbz0ieE1pZFlNaWQiPiAgPGNpcmNsZSBjeD0iNTAiIGN5PSI1MCIgZmlsbD0ibm9uZSIgc3Ryb2tlPSIjYzNjM2MzIiBzdHJva2Utd2lkdGg9IjEwIiByPSIzNSIgc3Ryb2tlLWRhc2hhcnJheT0iMTY0LjkzMzYxNDMxMzQ2NDE1IDU2Ljk3Nzg3MTQzNzgyMTM4Ij4gICAgPGFuaW1hdGVUcmFuc2Zvcm0gYXR0cmlidXRlTmFtZT0idHJhbnNmb3JtIiB0eXBlPSJyb3RhdGUiIHJlcGVhdENvdW50PSJpbmRlZmluaXRlIiBkdXI9IjFzIiB2YWx1ZXM9IjAgNTAgNTA7MzYwIDUwIDUwIiBrZXlUaW1lcz0iMDsxIj48L2FuaW1hdGVUcmFuc2Zvcm0+ICA8L2NpcmNsZT48L3N2Zz4=\\\");\\n  background-size: auto calc(min(50%, 400px));\\n}\",{\"id\":\"p1646\"},{\"id\":\"p1644\"},{\"id\":\"p1645\"}],\"margin\":0,\"sizing_mode\":\"stretch_width\",\"align\":\"start\"}}]}}],\"callbacks\":{\"type\":\"map\"}}};\n",
       "  var render_items = [{\"docid\":\"5fa4a6a8-1708-4d35-aaab-e42d6e873cdf\",\"roots\":{\"p1643\":\"e1c6ef43-bd8a-4a5e-b003-daaf6d48ba5a\"},\"root_ids\":[\"p1643\"]}];\n",
       "  var docs = Object.values(docs_json)\n",
       "  if (!docs) {\n",
       "    return\n",
       "  }\n",
       "  const py_version = docs[0].version.replace('rc', '-rc.')\n",
       "  const is_dev = py_version.indexOf(\"+\") !== -1 || py_version.indexOf(\"-\") !== -1\n",
       "  function embed_document(root) {\n",
       "    var Bokeh = get_bokeh(root)\n",
       "    Bokeh.embed.embed_items_notebook(docs_json, render_items);\n",
       "    for (const render_item of render_items) {\n",
       "      for (const root_id of render_item.root_ids) {\n",
       "\tconst id_el = document.getElementById(root_id)\n",
       "\tif (id_el.children.length && (id_el.children[0].className === 'bk-root')) {\n",
       "\t  const root_el = id_el.children[0]\n",
       "\t  root_el.id = root_el.id + '-rendered'\n",
       "\t}\n",
       "      }\n",
       "    }\n",
       "  }\n",
       "  function get_bokeh(root) {\n",
       "    if (root.Bokeh === undefined) {\n",
       "      return null\n",
       "    } else if (root.Bokeh.version !== py_version && !is_dev) {\n",
       "      if (root.Bokeh.versions === undefined || !root.Bokeh.versions.has(py_version)) {\n",
       "\treturn null\n",
       "      }\n",
       "      return root.Bokeh.versions.get(py_version);\n",
       "    } else if (root.Bokeh.version === py_version) {\n",
       "      return root.Bokeh\n",
       "    }\n",
       "    return null\n",
       "  }\n",
       "  function is_loaded(root) {\n",
       "    var Bokeh = get_bokeh(root)\n",
       "    return (Bokeh != null && Bokeh.Panel !== undefined && ( root['Plotly'] !== undefined))\n",
       "  }\n",
       "  if (is_loaded(root)) {\n",
       "    embed_document(root);\n",
       "  } else {\n",
       "    var attempts = 0;\n",
       "    var timer = setInterval(function(root) {\n",
       "      if (is_loaded(root)) {\n",
       "        clearInterval(timer);\n",
       "        embed_document(root);\n",
       "      } else if (document.readyState == \"complete\") {\n",
       "        attempts++;\n",
       "        if (attempts > 200) {\n",
       "          clearInterval(timer);\n",
       "\t  var Bokeh = get_bokeh(root)\n",
       "\t  if (Bokeh == null || Bokeh.Panel == null) {\n",
       "            console.warn(\"Panel: ERROR: Unable to run Panel code because Bokeh or Panel library is missing\");\n",
       "\t  } else {\n",
       "\t    console.warn(\"Panel: WARNING: Attempting to render but not all required libraries could be resolved.\")\n",
       "\t    embed_document(root)\n",
       "\t  }\n",
       "        }\n",
       "      }\n",
       "    }, 25, root)\n",
       "  }\n",
       "})(window);</script>"
      ],
      "text/plain": [
       ":Bars   [body_category,channel]   (video_count)"
      ]
     },
     "execution_count": 8,
     "metadata": {
      "application/vnd.holoviews_exec.v0+json": {
       "id": "p1643"
      }
     },
     "output_type": "execute_result"
    }
   ],
   "source": [
    "body_parts = ['FULL_BODY','UPPER_BODY','LOWER_BODY','CHEST','BACK','ABS','ARMS','LEGS','GLUTES']\n",
    "\n",
    "# Group by 'published_year' and sum the counts of each boolean value\n",
    "grouped_by_bodypart = videos_df.groupby('channel')[body_parts].agg('sum').reset_index()\n",
    "\n",
    "grouped_by_bodypart = grouped_by_bodypart.melt(id_vars='channel', var_name='body_category', value_name='video_count')\n",
    "grouped_by_bodypart['body_category'] = pd.Categorical(grouped_by_bodypart['body_category'])\n",
    "grouped_by_bodypart['channel'] = pd.Categorical(grouped_by_bodypart['channel'])\n",
    "\n",
    "body_part_chart = grouped_by_bodypart.hvplot.bar(x = 'body_category',\n",
    "                                                  y = 'video_count',\n",
    "                                                  by = 'channel',\n",
    "                                                  stacked = True,\n",
    "                                                  color = hv.Cycle('Category10'),\n",
    "                                                  alpha = 0.7,\n",
    "                                                  width = 900,\n",
    "                                                  height = 450,\n",
    "                                                  legend = 'top_left'\n",
    "                                                  )\n",
    "\n",
    "body_part_chart"
   ]
  },
  {
   "cell_type": "markdown",
   "id": "73cf40f0",
   "metadata": {},
   "source": [
    "## References\n",
    "\n",
    "[1] Google Developers. (2023). YouTube Data API v3. Retrieved date placeholder, from https://developers.google.com/youtube/v3  \n",
    "[2] Thu Vu data analytics. (2022, January 22). Youtube API for Python: How to Create a Unique Data Portfolio Project [Video file]. Retrieved from https://www.youtube.com/watch?v=D56_Cx36oGY"
   ]
  }
 ],
 "metadata": {
  "kernelspec": {
   "display_name": "Python 3 (ipykernel)",
   "language": "python",
   "name": "python3"
  },
  "language_info": {
   "codemirror_mode": {
    "name": "ipython",
    "version": 3
   },
   "file_extension": ".py",
   "mimetype": "text/x-python",
   "name": "python",
   "nbconvert_exporter": "python",
   "pygments_lexer": "ipython3",
   "version": "3.9.16"
  }
 },
 "nbformat": 4,
 "nbformat_minor": 5
}
