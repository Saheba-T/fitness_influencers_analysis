{
 "cells": [
  {
   "cell_type": "markdown",
   "id": "adcf37c6-831f-47d6-af97-05de94a42414",
   "metadata": {},
   "source": [
    "# Data Pre-Processing"
   ]
  },
  {
   "cell_type": "markdown",
   "id": "075e8e58-7afa-4d66-be51-6bf2c1a4d6f6",
   "metadata": {},
   "source": [
    "First, we are going to clean the data by:\n",
    "- checking for duplicate rows\n",
    "- checking for missing values\n",
    "- checking the percentage of missing values of each column\n",
    "- checking for any redundant (uninformative) columns\n",
    "- checking the column data types\n",
    "\n",
    "\n",
    "Second, we are going to perform feature engineering to enrich the data by:\n",
    "- use the published date column to get new features such as year, month, day of the week or time of day\n",
    "- use natural language processing (via spaCy) to derive useful features from the video title\n"
   ]
  },
  {
   "cell_type": "markdown",
   "id": "3d7ed3e1-8316-489a-a048-5969b182f86b",
   "metadata": {},
   "source": [
    "## 1. Data Cleaning"
   ]
  },
  {
   "cell_type": "code",
   "execution_count": 1,
   "id": "d2197680-4917-4213-8e56-60439f0875e9",
   "metadata": {
    "tags": []
   },
   "outputs": [],
   "source": [
    "import os\n",
    "import ast\n",
    "import pandas as pd\n",
    "import numpy as np\n",
    "import spacy         # Natural language processing\n",
    "import isodate       # Date transformation and manipulation\n",
    "\n",
    "from dateutil import parser"
   ]
  },
  {
   "cell_type": "markdown",
   "id": "97f6ff9c-5f7d-4998-bd8f-ec871652d564",
   "metadata": {},
   "source": [
    "#### Read the channels and videos files into dataframes"
   ]
  },
  {
   "cell_type": "code",
   "execution_count": 2,
   "id": "ed0c9af1-fcca-42b0-9067-0356279a3396",
   "metadata": {},
   "outputs": [],
   "source": [
    "# Get current working directory\n",
    "cwd = os.path.dirname(os.getcwd())\n",
    "# Create filepath to the raw subfolder in data folder\n",
    "path = cwd + \"/data/raw\"\n",
    "\n",
    "# Read in the csv files from the raw data folder\n",
    "channels_df = pd.read_csv(path + \"/fitness_channels_2023_06_28.csv\")\n",
    "videos_df = pd.read_csv(path + \"/fitness_videos_2023_06_28.csv\")"
   ]
  },
  {
   "cell_type": "code",
   "execution_count": 3,
   "id": "2a5ed4b1-9e2a-452b-8177-b4459b9abfe4",
   "metadata": {},
   "outputs": [
    {
     "data": {
      "text/html": [
       "<div>\n",
       "<style scoped>\n",
       "    .dataframe tbody tr th:only-of-type {\n",
       "        vertical-align: middle;\n",
       "    }\n",
       "\n",
       "    .dataframe tbody tr th {\n",
       "        vertical-align: top;\n",
       "    }\n",
       "\n",
       "    .dataframe thead th {\n",
       "        text-align: right;\n",
       "    }\n",
       "</style>\n",
       "<table border=\"1\" class=\"dataframe\">\n",
       "  <thead>\n",
       "    <tr style=\"text-align: right;\">\n",
       "      <th></th>\n",
       "      <th>ChannelName</th>\n",
       "      <th>ChannelDescription</th>\n",
       "      <th>PublishedDate</th>\n",
       "      <th>TotalSubscribers</th>\n",
       "      <th>TotalViews</th>\n",
       "      <th>TotalVideos</th>\n",
       "      <th>playlistID</th>\n",
       "    </tr>\n",
       "  </thead>\n",
       "  <tbody>\n",
       "    <tr>\n",
       "      <th>0</th>\n",
       "      <td>Chloe Ting</td>\n",
       "      <td>Subscribe to my channel and find weekly workou...</td>\n",
       "      <td>2011-08-17T04:29:09Z</td>\n",
       "      <td>24700000</td>\n",
       "      <td>2980737335</td>\n",
       "      <td>407</td>\n",
       "      <td>UUCgLoMYIyP0U56dEhEL1wXQ</td>\n",
       "    </tr>\n",
       "    <tr>\n",
       "      <th>1</th>\n",
       "      <td>blogilates</td>\n",
       "      <td>Hey guys! My name is Cassey Ho, I am a certifi...</td>\n",
       "      <td>2009-06-13T09:05:48Z</td>\n",
       "      <td>8690000</td>\n",
       "      <td>2820126375</td>\n",
       "      <td>1183</td>\n",
       "      <td>UUIJwWYOfsCfz6PjxbONYXSg</td>\n",
       "    </tr>\n",
       "    <tr>\n",
       "      <th>2</th>\n",
       "      <td>MadFit</td>\n",
       "      <td>This is a place where I post REAL TIME, AT HOM...</td>\n",
       "      <td>2018-03-02T01:46:06Z</td>\n",
       "      <td>8000000</td>\n",
       "      <td>943060836</td>\n",
       "      <td>723</td>\n",
       "      <td>UUpQ34afVgk8cRQBjSJ1xuJQ</td>\n",
       "    </tr>\n",
       "    <tr>\n",
       "      <th>3</th>\n",
       "      <td>Rebecca-Louise</td>\n",
       "      <td>Hey, \\n\\nWelcome to #TEAMBURN 🙌🏻 \\n\\nI am so e...</td>\n",
       "      <td>2012-09-22T18:04:00Z</td>\n",
       "      <td>720000</td>\n",
       "      <td>117668198</td>\n",
       "      <td>1257</td>\n",
       "      <td>UUi0AqmA_3DGPFCu5qY0LLSg</td>\n",
       "    </tr>\n",
       "    <tr>\n",
       "      <th>4</th>\n",
       "      <td>emi wong</td>\n",
       "      <td>welcome to my channel!\\nhope my videos can hel...</td>\n",
       "      <td>2014-11-02T14:43:34Z</td>\n",
       "      <td>6100000</td>\n",
       "      <td>819791658</td>\n",
       "      <td>499</td>\n",
       "      <td>UUvGEK5_U-kLgO6-AMDPeTUQ</td>\n",
       "    </tr>\n",
       "  </tbody>\n",
       "</table>\n",
       "</div>"
      ],
      "text/plain": [
       "      ChannelName                                 ChannelDescription  \\\n",
       "0      Chloe Ting  Subscribe to my channel and find weekly workou...   \n",
       "1      blogilates  Hey guys! My name is Cassey Ho, I am a certifi...   \n",
       "2          MadFit  This is a place where I post REAL TIME, AT HOM...   \n",
       "3  Rebecca-Louise  Hey, \\n\\nWelcome to #TEAMBURN 🙌🏻 \\n\\nI am so e...   \n",
       "4        emi wong  welcome to my channel!\\nhope my videos can hel...   \n",
       "\n",
       "          PublishedDate  TotalSubscribers  TotalViews  TotalVideos  \\\n",
       "0  2011-08-17T04:29:09Z          24700000  2980737335          407   \n",
       "1  2009-06-13T09:05:48Z           8690000  2820126375         1183   \n",
       "2  2018-03-02T01:46:06Z           8000000   943060836          723   \n",
       "3  2012-09-22T18:04:00Z            720000   117668198         1257   \n",
       "4  2014-11-02T14:43:34Z           6100000   819791658          499   \n",
       "\n",
       "                 playlistID  \n",
       "0  UUCgLoMYIyP0U56dEhEL1wXQ  \n",
       "1  UUIJwWYOfsCfz6PjxbONYXSg  \n",
       "2  UUpQ34afVgk8cRQBjSJ1xuJQ  \n",
       "3  UUi0AqmA_3DGPFCu5qY0LLSg  \n",
       "4  UUvGEK5_U-kLgO6-AMDPeTUQ  "
      ]
     },
     "execution_count": 3,
     "metadata": {},
     "output_type": "execute_result"
    }
   ],
   "source": [
    "channels_df.head()"
   ]
  },
  {
   "cell_type": "code",
   "execution_count": 4,
   "id": "2facf121-d84f-4593-af38-e232a3ceaf3d",
   "metadata": {},
   "outputs": [
    {
     "data": {
      "text/html": [
       "<div>\n",
       "<style scoped>\n",
       "    .dataframe tbody tr th:only-of-type {\n",
       "        vertical-align: middle;\n",
       "    }\n",
       "\n",
       "    .dataframe tbody tr th {\n",
       "        vertical-align: top;\n",
       "    }\n",
       "\n",
       "    .dataframe thead th {\n",
       "        text-align: right;\n",
       "    }\n",
       "</style>\n",
       "<table border=\"1\" class=\"dataframe\">\n",
       "  <thead>\n",
       "    <tr style=\"text-align: right;\">\n",
       "      <th></th>\n",
       "      <th>video_id</th>\n",
       "      <th>channelTitle</th>\n",
       "      <th>title</th>\n",
       "      <th>description</th>\n",
       "      <th>tags</th>\n",
       "      <th>publishedAt</th>\n",
       "      <th>viewCount</th>\n",
       "      <th>likeCount</th>\n",
       "      <th>favouriteCount</th>\n",
       "      <th>commentCount</th>\n",
       "      <th>duration</th>\n",
       "      <th>definition</th>\n",
       "    </tr>\n",
       "  </thead>\n",
       "  <tbody>\n",
       "    <tr>\n",
       "      <th>0</th>\n",
       "      <td>e7zzES8PeG4</td>\n",
       "      <td>Chloe Ting</td>\n",
       "      <td>Shocking Before After Transformation Results! ...</td>\n",
       "      <td>Check out these amazing before and after trans...</td>\n",
       "      <td>['Abs', 'Abs results', 'Abs workout results', ...</td>\n",
       "      <td>2023-06-28T14:00:23Z</td>\n",
       "      <td>36033</td>\n",
       "      <td>2677.0</td>\n",
       "      <td>NaN</td>\n",
       "      <td>163.0</td>\n",
       "      <td>PT9M22S</td>\n",
       "      <td>hd</td>\n",
       "    </tr>\n",
       "    <tr>\n",
       "      <th>1</th>\n",
       "      <td>AZ1ihabY6bI</td>\n",
       "      <td>Chloe Ting</td>\n",
       "      <td>when you're having a bad day</td>\n",
       "      <td>Cute samoyed doggies in Seoul!!</td>\n",
       "      <td>['samoyed', 'seoul', 'day in my life', 'doggie...</td>\n",
       "      <td>2023-06-19T14:55:36Z</td>\n",
       "      <td>87568</td>\n",
       "      <td>4739.0</td>\n",
       "      <td>NaN</td>\n",
       "      <td>77.0</td>\n",
       "      <td>PT18S</td>\n",
       "      <td>hd</td>\n",
       "    </tr>\n",
       "    <tr>\n",
       "      <th>2</th>\n",
       "      <td>5GLA8MrlDnM</td>\n",
       "      <td>Chloe Ting</td>\n",
       "      <td>A day in my life living in Korea</td>\n",
       "      <td>Short vlog from a day out and about while in S...</td>\n",
       "      <td>['dayinmylife', 'korea', 'seoul', 'vlog', 'chl...</td>\n",
       "      <td>2023-06-05T14:51:22Z</td>\n",
       "      <td>317017</td>\n",
       "      <td>9618.0</td>\n",
       "      <td>NaN</td>\n",
       "      <td>708.0</td>\n",
       "      <td>PT12M37S</td>\n",
       "      <td>hd</td>\n",
       "    </tr>\n",
       "    <tr>\n",
       "      <th>3</th>\n",
       "      <td>IOJ7Fxa8e2Y</td>\n",
       "      <td>Chloe Ting</td>\n",
       "      <td>GROW YOUR BOOTY with these exercises</td>\n",
       "      <td>See the full video here: https://youtu.be/4zuY...</td>\n",
       "      <td>['glute workout', 'booty workout', 'gym workou...</td>\n",
       "      <td>2023-05-24T15:32:44Z</td>\n",
       "      <td>171898</td>\n",
       "      <td>5484.0</td>\n",
       "      <td>NaN</td>\n",
       "      <td>57.0</td>\n",
       "      <td>PT23S</td>\n",
       "      <td>hd</td>\n",
       "    </tr>\n",
       "    <tr>\n",
       "      <th>4</th>\n",
       "      <td>ljNgkSctkXg</td>\n",
       "      <td>Chloe Ting</td>\n",
       "      <td>INTENSE Full Body Workout - 30 Min No Equipment</td>\n",
       "      <td>This is a 30 min full body intense workout fro...</td>\n",
       "      <td>['workout', 'home workout', 'full body workout...</td>\n",
       "      <td>2023-05-17T14:00:27Z</td>\n",
       "      <td>620735</td>\n",
       "      <td>17223.0</td>\n",
       "      <td>NaN</td>\n",
       "      <td>863.0</td>\n",
       "      <td>PT31M14S</td>\n",
       "      <td>hd</td>\n",
       "    </tr>\n",
       "  </tbody>\n",
       "</table>\n",
       "</div>"
      ],
      "text/plain": [
       "      video_id channelTitle  \\\n",
       "0  e7zzES8PeG4   Chloe Ting   \n",
       "1  AZ1ihabY6bI   Chloe Ting   \n",
       "2  5GLA8MrlDnM   Chloe Ting   \n",
       "3  IOJ7Fxa8e2Y   Chloe Ting   \n",
       "4  ljNgkSctkXg   Chloe Ting   \n",
       "\n",
       "                                               title  \\\n",
       "0  Shocking Before After Transformation Results! ...   \n",
       "1                       when you're having a bad day   \n",
       "2                   A day in my life living in Korea   \n",
       "3               GROW YOUR BOOTY with these exercises   \n",
       "4    INTENSE Full Body Workout - 30 Min No Equipment   \n",
       "\n",
       "                                         description  \\\n",
       "0  Check out these amazing before and after trans...   \n",
       "1                    Cute samoyed doggies in Seoul!!   \n",
       "2  Short vlog from a day out and about while in S...   \n",
       "3  See the full video here: https://youtu.be/4zuY...   \n",
       "4  This is a 30 min full body intense workout fro...   \n",
       "\n",
       "                                                tags           publishedAt  \\\n",
       "0  ['Abs', 'Abs results', 'Abs workout results', ...  2023-06-28T14:00:23Z   \n",
       "1  ['samoyed', 'seoul', 'day in my life', 'doggie...  2023-06-19T14:55:36Z   \n",
       "2  ['dayinmylife', 'korea', 'seoul', 'vlog', 'chl...  2023-06-05T14:51:22Z   \n",
       "3  ['glute workout', 'booty workout', 'gym workou...  2023-05-24T15:32:44Z   \n",
       "4  ['workout', 'home workout', 'full body workout...  2023-05-17T14:00:27Z   \n",
       "\n",
       "   viewCount  likeCount  favouriteCount  commentCount  duration definition  \n",
       "0      36033     2677.0             NaN         163.0   PT9M22S         hd  \n",
       "1      87568     4739.0             NaN          77.0     PT18S         hd  \n",
       "2     317017     9618.0             NaN         708.0  PT12M37S         hd  \n",
       "3     171898     5484.0             NaN          57.0     PT23S         hd  \n",
       "4     620735    17223.0             NaN         863.0  PT31M14S         hd  "
      ]
     },
     "execution_count": 4,
     "metadata": {},
     "output_type": "execute_result"
    }
   ],
   "source": [
    "videos_df.head()"
   ]
  },
  {
   "cell_type": "markdown",
   "id": "82e003d3-1aa4-42c5-a978-e953b7071580",
   "metadata": {},
   "source": [
    "#### Check for duplicate rows"
   ]
  },
  {
   "cell_type": "code",
   "execution_count": 5,
   "id": "0c40d1ab-68a3-4170-8c29-5c808b289dac",
   "metadata": {},
   "outputs": [
    {
     "data": {
      "text/plain": [
       "(False, False)"
      ]
     },
     "execution_count": 5,
     "metadata": {},
     "output_type": "execute_result"
    }
   ],
   "source": [
    "# check for duplicate rows in channels and videos data\n",
    "(channels_df.duplicated().any(),videos_df.duplicated().any())"
   ]
  },
  {
   "cell_type": "markdown",
   "id": "4e2a9230-badf-4965-b561-b1f538e3aa50",
   "metadata": {},
   "source": [
    "#### Check for missing data"
   ]
  },
  {
   "cell_type": "code",
   "execution_count": 6,
   "id": "08e50670-6306-48f2-ab61-8b5584360778",
   "metadata": {},
   "outputs": [
    {
     "data": {
      "text/plain": [
       "ChannelName           False\n",
       "ChannelDescription    False\n",
       "PublishedDate         False\n",
       "TotalSubscribers      False\n",
       "TotalViews            False\n",
       "TotalVideos           False\n",
       "playlistID            False\n",
       "dtype: bool"
      ]
     },
     "execution_count": 6,
     "metadata": {},
     "output_type": "execute_result"
    }
   ],
   "source": [
    "channels_df.isnull().any()"
   ]
  },
  {
   "cell_type": "code",
   "execution_count": 7,
   "id": "fd67da71-e057-4a53-a1ac-cba14a5a0e40",
   "metadata": {},
   "outputs": [
    {
     "data": {
      "text/plain": [
       "video_id          False\n",
       "channelTitle      False\n",
       "title             False\n",
       "description        True\n",
       "tags               True\n",
       "publishedAt       False\n",
       "viewCount         False\n",
       "likeCount          True\n",
       "favouriteCount     True\n",
       "commentCount       True\n",
       "duration          False\n",
       "definition        False\n",
       "dtype: bool"
      ]
     },
     "execution_count": 7,
     "metadata": {},
     "output_type": "execute_result"
    }
   ],
   "source": [
    "videos_df.isnull().any()"
   ]
  },
  {
   "cell_type": "markdown",
   "id": "677c8146-32bd-40e8-b72c-840deb7ed216",
   "metadata": {},
   "source": [
    "#### Check for percentage of missing values"
   ]
  },
  {
   "cell_type": "code",
   "execution_count": 8,
   "id": "18d1bb60-f54f-4742-be70-417efef098c6",
   "metadata": {},
   "outputs": [
    {
     "data": {
      "text/plain": [
       "description         4.396954\n",
       "tags               12.773274\n",
       "likeCount           1.105380\n",
       "favouriteCount    100.000000\n",
       "commentCount        0.245640\n",
       "dtype: float64"
      ]
     },
     "execution_count": 8,
     "metadata": {},
     "output_type": "execute_result"
    }
   ],
   "source": [
    "# Find the percentage of missing values from columns that contains them in the videos dataframe\n",
    "missingval_columns = videos_df.loc[:, ['description', 'tags', 'likeCount','favouriteCount','commentCount']]\n",
    "missingval_columns.isnull().sum() / missingval_columns.shape[0] * 100.00"
   ]
  },
  {
   "cell_type": "code",
   "execution_count": 9,
   "id": "424698ba-81dd-45e9-97d0-208efaa15577",
   "metadata": {},
   "outputs": [],
   "source": [
    "# Drop the favouriteCount column since it only contains missing values\n",
    "videos_df.drop('favouriteCount', axis=1, inplace=True)"
   ]
  },
  {
   "cell_type": "markdown",
   "id": "70728b86-4158-4ed0-9b9c-959371da7722",
   "metadata": {},
   "source": [
    "#### Check for redundant columns"
   ]
  },
  {
   "cell_type": "code",
   "execution_count": 10,
   "id": "c1ab53dc-ed38-4755-8569-58f0796e0148",
   "metadata": {},
   "outputs": [
    {
     "data": {
      "text/plain": [
       "array(['hd', 'sd'], dtype=object)"
      ]
     },
     "execution_count": 10,
     "metadata": {},
     "output_type": "execute_result"
    }
   ],
   "source": [
    "# Find the unique values of the definition column\n",
    "videos_df['definition'].unique()"
   ]
  },
  {
   "cell_type": "code",
   "execution_count": 11,
   "id": "71092279-0d60-4eff-8dba-77ace2374f3e",
   "metadata": {},
   "outputs": [
    {
     "data": {
      "text/plain": [
       "hd    99.557848\n",
       "sd     0.442152\n",
       "Name: definition, dtype: float64"
      ]
     },
     "execution_count": 11,
     "metadata": {},
     "output_type": "execute_result"
    }
   ],
   "source": [
    "# Check the percentage of each unique value in the definition column\n",
    "videos_df['definition'].value_counts() / videos_df['definition'].shape[0] * 100"
   ]
  },
  {
   "cell_type": "code",
   "execution_count": 12,
   "id": "7be914e8-3e29-4cf0-8dc0-33739086fabc",
   "metadata": {},
   "outputs": [],
   "source": [
    "# Drop the definition column for being uninformative\n",
    "videos_df.drop('definition', axis=1, inplace=True)"
   ]
  },
  {
   "cell_type": "code",
   "execution_count": 13,
   "id": "9568b410-d3d8-4442-8e1a-fb2db91516e4",
   "metadata": {},
   "outputs": [
    {
     "data": {
      "text/plain": [
       "1589    2009-10-06T04:47:37Z\n",
       "1588    2009-11-04T18:05:19Z\n",
       "1587    2009-11-10T05:18:29Z\n",
       "1586    2009-11-18T06:49:44Z\n",
       "1585    2009-11-30T08:13:39Z\n",
       "                ...         \n",
       "1591    2023-06-27T15:39:25Z\n",
       "2315    2023-06-27T16:08:44Z\n",
       "1590    2023-06-28T14:00:06Z\n",
       "0       2023-06-28T14:00:23Z\n",
       "2314    2023-06-28T14:35:24Z\n",
       "Name: publishedAt, Length: 4071, dtype: object"
      ]
     },
     "execution_count": 13,
     "metadata": {},
     "output_type": "execute_result"
    }
   ],
   "source": [
    "# Check the date values to make sure there are no errors\n",
    "videos_df.publishedAt.sort_values()"
   ]
  },
  {
   "cell_type": "markdown",
   "id": "d50fee46-6a54-4c0e-84ee-5b76d571b9ff",
   "metadata": {},
   "source": [
    "#### Checking the column data types"
   ]
  },
  {
   "cell_type": "code",
   "execution_count": 14,
   "id": "30047caf-1401-4e71-8328-abbfd24a54cc",
   "metadata": {},
   "outputs": [
    {
     "data": {
      "text/plain": [
       "ChannelName           object\n",
       "ChannelDescription    object\n",
       "PublishedDate         object\n",
       "TotalSubscribers       int64\n",
       "TotalViews             int64\n",
       "TotalVideos            int64\n",
       "playlistID            object\n",
       "dtype: object"
      ]
     },
     "execution_count": 14,
     "metadata": {},
     "output_type": "execute_result"
    }
   ],
   "source": [
    "channels_df.dtypes"
   ]
  },
  {
   "cell_type": "code",
   "execution_count": 15,
   "id": "87e8c21f-ca90-4da4-a527-9d17c9eb9cc8",
   "metadata": {},
   "outputs": [
    {
     "data": {
      "text/plain": [
       "video_id         object\n",
       "channelTitle     object\n",
       "title            object\n",
       "description      object\n",
       "tags             object\n",
       "publishedAt      object\n",
       "viewCount         int64\n",
       "likeCount       float64\n",
       "commentCount    float64\n",
       "duration         object\n",
       "dtype: object"
      ]
     },
     "execution_count": 15,
     "metadata": {},
     "output_type": "execute_result"
    }
   ],
   "source": [
    "videos_df.dtypes"
   ]
  },
  {
   "cell_type": "markdown",
   "id": "e00424cb-d964-4b1c-9bc6-37c7f47e77ee",
   "metadata": {},
   "source": [
    "## 2. Feature Engineering"
   ]
  },
  {
   "cell_type": "code",
   "execution_count": 16,
   "id": "6be8e7a8-7e38-4eca-9ea5-afb066dbe30c",
   "metadata": {},
   "outputs": [],
   "source": [
    "# Create publish datetime and year for channels data\n",
    "channels_df['publishedDatetime'] =  channels_df['PublishedDate'].apply(lambda x: parser.parse(x))\n",
    "channels_df['publishedYear'] = channels_df['publishedDatetime'].apply(lambda x: int(x.strftime(\"%Y\")))"
   ]
  },
  {
   "cell_type": "code",
   "execution_count": 17,
   "id": "0fb11f55-e71f-4d10-95cd-0143d1dd950c",
   "metadata": {},
   "outputs": [],
   "source": [
    "# Title character length\n",
    "videos_df['titleLength'] = videos_df['title'].apply(lambda x: len(x))"
   ]
  },
  {
   "cell_type": "code",
   "execution_count": 18,
   "id": "e820695d-48bb-41a3-8f1e-bd5837e4b397",
   "metadata": {},
   "outputs": [],
   "source": [
    "# Convert duration to seconds\n",
    "videos_df['durationSecs'] = videos_df['duration'].apply(lambda x: isodate.parse_duration(x))\n",
    "videos_df['durationSecs'] = videos_df['durationSecs'].astype('timedelta64[s]')"
   ]
  },
  {
   "cell_type": "code",
   "execution_count": 19,
   "id": "6fdbbad8-a1d5-474e-b2e9-6ea4ee283120",
   "metadata": {},
   "outputs": [],
   "source": [
    "# Create publish year and month (of the year) columns\n",
    "videos_df['publishedDatetime'] = videos_df['publishedAt'].apply(lambda x: parser.parse(x))\n",
    "videos_df['publishedDatetime'] = videos_df['publishedAt'].apply(lambda x: parser.parse(x))\n",
    "videos_df['publishedYear'] = videos_df['publishedDatetime'].apply(lambda x: int(x.strftime(\"%Y\")))\n",
    "videos_df['publishedMonth'] = videos_df['publishedDatetime'].apply(lambda x: x.strftime(\"%b\"))\n",
    "\n",
    "# Create publish day (of the week) and hour and time of day columns\n",
    "videos_df['pushblishDayName'] = videos_df['publishedDatetime'].apply(lambda x: x.strftime(\"%a\")) \n",
    "videos_df['publishedHour'] = videos_df['publishedDatetime'].apply(lambda x: x.strftime(\"%H\"))\n",
    "videos_df['publishedToD'] = videos_df['publishedDatetime'].apply(lambda x: x.strftime(\"%p\"))"
   ]
  },
  {
   "cell_type": "code",
   "execution_count": 20,
   "id": "7fb05ca4-520a-4b9a-9bf4-64bb00028cf5",
   "metadata": {},
   "outputs": [],
   "source": [
    "# Create the number of tags column\n",
    "videos_df['tags'] = videos_df['tags'].replace(np.nan, None)\n",
    "videos_df['tags'] = videos_df['tags'].apply(lambda x: x if x is None else ast.literal_eval(x))\n",
    "videos_df['tagsCount'] = videos_df['tags'].apply(lambda x: 0 if x is None else len(x))"
   ]
  },
  {
   "cell_type": "code",
   "execution_count": 21,
   "id": "8d11e17a-aba9-4729-b9d8-bf1bb20d70a5",
   "metadata": {},
   "outputs": [],
   "source": [
    "# Create column to categorize Youtube Shorts\n",
    "videos_df['youtubeShorts'] = [True if x <= 60 else False for x in videos_df['durationSecs']]"
   ]
  },
  {
   "cell_type": "markdown",
   "id": "94b30c16-0c2f-4d63-a564-5f246498a5ad",
   "metadata": {},
   "source": [
    "#### Natural Language Processing of text (title column) to enrich the data"
   ]
  },
  {
   "cell_type": "markdown",
   "id": "85ad0a9c-0e9c-44d3-9ccd-e5583369a2af",
   "metadata": {},
   "source": [
    "The goal is to use spaCy's natural language processing tools to derive new useful features from the video title. We are going to do this by using regular expression with spaCy's entity ruler. \n",
    "The features we are planning to derive are: workout time, workout type, and the different workout 'classifications'.\n"
   ]
  },
  {
   "cell_type": "code",
   "execution_count": 22,
   "id": "450a783e-e9ce-4198-b1ae-40b156cd0395",
   "metadata": {
    "tags": []
   },
   "outputs": [],
   "source": [
    "# Subset the videos data to filter out Youtube Shorts\n",
    "workout_videos_df = videos_df[videos_df['youtubeShorts'] == False].copy()"
   ]
  },
  {
   "cell_type": "code",
   "execution_count": 23,
   "id": "a1c474d3-c21c-4b1e-9e81-96a498e01466",
   "metadata": {},
   "outputs": [],
   "source": [
    "# Download spacY's small english model\n",
    "nlp = spacy.load(\"en_core_web_sm\")\n",
    "\n",
    "# Create and add the EntityRuler\n",
    "ruler = nlp.add_pipe(\"entity_ruler\", before=\"ner\")"
   ]
  },
  {
   "cell_type": "code",
   "execution_count": 24,
   "id": "dd073096-afcd-49b6-b1a9-e88651905b3d",
   "metadata": {
    "tags": []
   },
   "outputs": [],
   "source": [
    "#List of Entities and Patterns\n",
    "patterns = [\n",
    "    {\"label\": \"WORKOUT_TIME\", \"pattern\": [{\"TEXT\": {\"REGEX\": r\"^(\\d+)\"}},\n",
    "                                          {\"LOWER\":{\"REGEX\": r\"^(min|mins|minute|minutes|hour|hours|hr|hrs)$\"}}\n",
    "                                         ]},\n",
    "    {\"label\": \"FULL_BODY\", \"pattern\": [{\"LOWER\": {\"REGEX\": r\"(full|total|whole)\"}}, {\"LOWER\": \"body\"}]},\n",
    "    {\"label\": \"UPPER_BODY\", \"pattern\": [{\"LOWER\": \"upper\"}, {\"LOWER\": \"body\"}]},\n",
    "    {\"label\": \"LOWER_BODY\", \"pattern\": [{\"LOWER\": \"lower\"}, {\"LOWER\": \"body\"}]},\n",
    "    {\"label\": \"CHEST_BACK\", \"pattern\": [{\"LOWER\": {\"REGEX\": r\"(back|chest)\"}}, {\"ORTH\": {\"REGEX\": r\"(and|&)\"}} ,{\"LOWER\": {\"REGEX\": r\"(back|chest)\"}}]},\n",
    "    {\"label\": \"ABS\", \"pattern\": [{\"LOWER\": {\"REGEX\": r\"(core|ab|abs|plank)\"}}]},\n",
    "    {\"label\": \"ARMS\", \"pattern\": [{\"LOWER\": {\"REGEX\": r\"arms?\"}}]},\n",
    "    {\"label\": \"LEGS\", \"pattern\": [{\"LOWER\": {\"REGEX\": r\"(thigh|thighs|leg|legs)\"}}]},\n",
    "    {\"label\": \"GLUTES\", \"pattern\": [{\"LOWER\": {\"REGEX\": r\"(booty|glute|glutes|butt)\"}}]},\n",
    "    {\"label\": \"WORKOUT_TYPE\", \"pattern\": [{\"LOWER\": {\"REGEX\": r\"(hiit|cardio|pilates|yoga|dance|tabata|barre|stretch)\"}}]},\n",
    "    {\"label\": \"STANDING\" , \"pattern\": [{\"LOWER\": \"standing\"}]},\n",
    "    {\"label\": \"NO_EQUIPMENT\", \"pattern\": [{\"LOWER\": \"no\", \"LOWER\": {\"REGEX\": r\"(equip|equipment|equipments|weight|weights)\"}}]},\n",
    "    {\"label\": \"NO_JUMPING\", \"pattern\": [{\"LOWER\": \"no\", \"LOWER\": \"jumping\"}]},\n",
    "    {\"label\": \"LOW_IMPACT\", \"pattern\": [{\"LOWER\": \"low\", \"LOWER\": \"impact\"}]},\n",
    "    {\"label\": \"STRENGTH_TRAINING\", \"pattern\": [{\"LOWER\": {\"REGEX\": r\"(strength|sculpt|sculpting|tone|toning|toned)\"}}]}\n",
    "]"
   ]
  },
  {
   "cell_type": "code",
   "execution_count": 25,
   "id": "e5449f96-57dc-48bb-ac81-3afc08832bed",
   "metadata": {
    "tags": []
   },
   "outputs": [],
   "source": [
    "ruler.add_patterns(patterns)"
   ]
  },
  {
   "cell_type": "code",
   "execution_count": 26,
   "id": "5e7515c5-09b3-4741-9488-34e72197d4d7",
   "metadata": {
    "tags": []
   },
   "outputs": [],
   "source": [
    "# Extract workout time or type using regular expressions\n",
    "def extract_ent_text(title, label):\n",
    "    doc = nlp(title)\n",
    "    workout_label = None\n",
    "    for ent in doc.ents:\n",
    "        if ent.label_ == label:\n",
    "            workout_label = ent.text\n",
    "            break\n",
    "    return workout_label\n",
    "\n",
    "# Function to extract body part from a title\n",
    "def extract_body_part(title):\n",
    "    doc = nlp(title)\n",
    "    body_part = None\n",
    "    body_parts = [\"FULL_BODY\",\"UPPER_BODY\",\"LOWER_BODY\",\"CHEST_BACK\",\"ARMS\",\"ABS\",\"LEGS\",\"GLUTES\"]\n",
    "    for ent in doc.ents:\n",
    "        if ent.label_ in body_parts:\n",
    "            body_part = ent.label_\n",
    "            break\n",
    "    return body_part\n",
    "\n",
    "# Extract workout using regular expressions\n",
    "def extract_ent_label(title, label):\n",
    "    doc = nlp(title)\n",
    "    workout_label = None\n",
    "    for ent in doc.ents:\n",
    "        if ent.label_ == label:\n",
    "            workout_label = ent.label_\n",
    "            break\n",
    "    return workout_label\n"
   ]
  },
  {
   "cell_type": "code",
   "execution_count": 27,
   "id": "53cf5dd5-6b59-4bf0-bee8-ebd1433c053b",
   "metadata": {
    "tags": []
   },
   "outputs": [],
   "source": [
    "# Create workout time and workout type column by applying function to extract text of entities\n",
    "workout_videos_df['workoutTime'] = workout_videos_df['title'].apply(lambda x: extract_ent_text(x,\"WORKOUT_TIME\"))\n",
    "workout_videos_df['workoutType'] = workout_videos_df['title'].apply(lambda x: extract_ent_text(x, \"WORKOUT_TYPE\"))\n",
    "\n",
    "# Apply the function to create a body part column \n",
    "workout_videos_df['bodyPart'] = workout_videos_df['title'].apply(extract_body_part)\n",
    "\n",
    "# Create new columns by applying function to extract the label of entities\n",
    "labels_to_extract = [\"STANDING\", \"NO_EQUIPMENT\", \"NO_JUMPING\", \"LOW_IMPACT\", \"STRENGTH_TRAINING\"]\n",
    "workout_features_df = pd.DataFrame(columns=['standingWorkout','noEquipment','noJumping','lowImpact','strengthTraining'])\n",
    "\n",
    "for i in range(len(labels_to_extract)):\n",
    "    workout_features_df.iloc[:,i] = workout_videos_df['title'].apply(lambda x: extract_ent_label(x,labels_to_extract[i]))\n",
    "\n",
    "# Add the new columns to the dataframe of workout videos\n",
    "workout_videos_df = pd.concat([workout_videos_df,workout_features_df], axis=1)"
   ]
  },
  {
   "cell_type": "markdown",
   "id": "d66e1fae-a080-4cbe-92a2-322ad8efaf11",
   "metadata": {},
   "source": [
    "### Save the processed data"
   ]
  },
  {
   "cell_type": "code",
   "execution_count": 28,
   "id": "6c54b331-8415-4197-a0d1-75f12f914e0e",
   "metadata": {},
   "outputs": [],
   "source": [
    "# Get the current working directory; should be the top level project folder\n",
    "cwd = os.path.dirname(os.getcwd())\n",
    "\n",
    "# Create file path of where the processed data will be stored\n",
    "path = cwd + \"/data/processed\"\n",
    "\n",
    "# Save dataframes as csv files \n",
    "channels_df.to_csv(path + \"/fitness_channels_processed_2023_06_28.csv\", index=False)\n",
    "workout_videos_df.to_csv(path + \"/fitness_videos_processed_2023_06_28.csv\", index=False)"
   ]
  }
 ],
 "metadata": {
  "kernelspec": {
   "display_name": "Python 3 (ipykernel)",
   "language": "python",
   "name": "python3"
  },
  "language_info": {
   "codemirror_mode": {
    "name": "ipython",
    "version": 3
   },
   "file_extension": ".py",
   "mimetype": "text/x-python",
   "name": "python",
   "nbconvert_exporter": "python",
   "pygments_lexer": "ipython3",
   "version": "3.9.16"
  }
 },
 "nbformat": 4,
 "nbformat_minor": 5
}
