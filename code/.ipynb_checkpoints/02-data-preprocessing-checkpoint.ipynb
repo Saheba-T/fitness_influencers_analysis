{
 "cells": [
  {
   "cell_type": "markdown",
   "id": "adcf37c6-831f-47d6-af97-05de94a42414",
   "metadata": {},
   "source": [
    "# Data Pre-Processing"
   ]
  },
  {
   "cell_type": "markdown",
   "id": "075e8e58-7afa-4d66-be51-6bf2c1a4d6f6",
   "metadata": {},
   "source": [
    "First, we are going to clean the data and then we are going to perform feature engineering to enrich the data.\n"
   ]
  },
  {
   "cell_type": "markdown",
   "id": "3d7ed3e1-8316-489a-a048-5969b182f86b",
   "metadata": {},
   "source": [
    "## 1. Data Cleaning"
   ]
  },
  {
   "cell_type": "markdown",
   "id": "6f8bdfa8-8aa6-49cd-ad1c-59782ae8a5f5",
   "metadata": {
    "tags": []
   },
   "source": [
    "First, we are going to clean the data by:\n",
    "- checking for duplicate rows\n",
    "- checking for missing values\n",
    "- checking the percentage of missing values of each column\n",
    "- checking for any redundant (uninformative) columns\n",
    "- checking the column data types"
   ]
  },
  {
   "cell_type": "code",
   "execution_count": 1,
   "id": "d2197680-4917-4213-8e56-60439f0875e9",
   "metadata": {
    "tags": []
   },
   "outputs": [],
   "source": [
    "import os\n",
    "import re\n",
    "import ast\n",
    "import pandas as pd\n",
    "import numpy as np\n",
    "import spacy         # Natural language processing\n",
    "import isodate       # Date transformation and manipulation\n",
    "\n",
    "from dateutil import parser"
   ]
  },
  {
   "cell_type": "markdown",
   "id": "97f6ff9c-5f7d-4998-bd8f-ec871652d564",
   "metadata": {},
   "source": [
    "#### Read the channels and videos files into dataframes"
   ]
  },
  {
   "cell_type": "code",
   "execution_count": 2,
   "id": "ed0c9af1-fcca-42b0-9067-0356279a3396",
   "metadata": {},
   "outputs": [],
   "source": [
    "# Read in the csv files from the raw data folder\n",
    "channels_df = pd.read_csv(\"../data/raw/fitness_channels_2023_06_28.csv\")\n",
    "videos_df = pd.read_csv(\"../data/raw/fitness_videos_2023_06_28.csv\")"
   ]
  },
  {
   "cell_type": "code",
   "execution_count": 3,
   "id": "f144f4c4-476b-48f7-a4f2-315045822c3b",
   "metadata": {},
   "outputs": [
    {
     "data": {
      "text/html": [
       "<div>\n",
       "<style scoped>\n",
       "    .dataframe tbody tr th:only-of-type {\n",
       "        vertical-align: middle;\n",
       "    }\n",
       "\n",
       "    .dataframe tbody tr th {\n",
       "        vertical-align: top;\n",
       "    }\n",
       "\n",
       "    .dataframe thead th {\n",
       "        text-align: right;\n",
       "    }\n",
       "</style>\n",
       "<table border=\"1\" class=\"dataframe\">\n",
       "  <thead>\n",
       "    <tr style=\"text-align: right;\">\n",
       "      <th></th>\n",
       "      <th>ChannelName</th>\n",
       "      <th>ChannelDescription</th>\n",
       "      <th>PublishedDate</th>\n",
       "      <th>TotalSubscribers</th>\n",
       "      <th>TotalViews</th>\n",
       "      <th>TotalVideos</th>\n",
       "      <th>playlistID</th>\n",
       "    </tr>\n",
       "  </thead>\n",
       "  <tbody>\n",
       "    <tr>\n",
       "      <th>0</th>\n",
       "      <td>Chloe Ting</td>\n",
       "      <td>Subscribe to my channel and find weekly workou...</td>\n",
       "      <td>2011-08-17T04:29:09Z</td>\n",
       "      <td>24700000</td>\n",
       "      <td>2980737335</td>\n",
       "      <td>407</td>\n",
       "      <td>UUCgLoMYIyP0U56dEhEL1wXQ</td>\n",
       "    </tr>\n",
       "    <tr>\n",
       "      <th>1</th>\n",
       "      <td>blogilates</td>\n",
       "      <td>Hey guys! My name is Cassey Ho, I am a certifi...</td>\n",
       "      <td>2009-06-13T09:05:48Z</td>\n",
       "      <td>8690000</td>\n",
       "      <td>2820126375</td>\n",
       "      <td>1183</td>\n",
       "      <td>UUIJwWYOfsCfz6PjxbONYXSg</td>\n",
       "    </tr>\n",
       "    <tr>\n",
       "      <th>2</th>\n",
       "      <td>MadFit</td>\n",
       "      <td>This is a place where I post REAL TIME, AT HOM...</td>\n",
       "      <td>2018-03-02T01:46:06Z</td>\n",
       "      <td>8000000</td>\n",
       "      <td>943060836</td>\n",
       "      <td>723</td>\n",
       "      <td>UUpQ34afVgk8cRQBjSJ1xuJQ</td>\n",
       "    </tr>\n",
       "    <tr>\n",
       "      <th>3</th>\n",
       "      <td>Rebecca-Louise</td>\n",
       "      <td>Hey, \\n\\nWelcome to #TEAMBURN 🙌🏻 \\n\\nI am so e...</td>\n",
       "      <td>2012-09-22T18:04:00Z</td>\n",
       "      <td>720000</td>\n",
       "      <td>117668198</td>\n",
       "      <td>1257</td>\n",
       "      <td>UUi0AqmA_3DGPFCu5qY0LLSg</td>\n",
       "    </tr>\n",
       "    <tr>\n",
       "      <th>4</th>\n",
       "      <td>emi wong</td>\n",
       "      <td>welcome to my channel!\\nhope my videos can hel...</td>\n",
       "      <td>2014-11-02T14:43:34Z</td>\n",
       "      <td>6100000</td>\n",
       "      <td>819791658</td>\n",
       "      <td>499</td>\n",
       "      <td>UUvGEK5_U-kLgO6-AMDPeTUQ</td>\n",
       "    </tr>\n",
       "  </tbody>\n",
       "</table>\n",
       "</div>"
      ],
      "text/plain": [
       "      ChannelName                                 ChannelDescription  \\\n",
       "0      Chloe Ting  Subscribe to my channel and find weekly workou...   \n",
       "1      blogilates  Hey guys! My name is Cassey Ho, I am a certifi...   \n",
       "2          MadFit  This is a place where I post REAL TIME, AT HOM...   \n",
       "3  Rebecca-Louise  Hey, \\n\\nWelcome to #TEAMBURN 🙌🏻 \\n\\nI am so e...   \n",
       "4        emi wong  welcome to my channel!\\nhope my videos can hel...   \n",
       "\n",
       "          PublishedDate  TotalSubscribers  TotalViews  TotalVideos  \\\n",
       "0  2011-08-17T04:29:09Z          24700000  2980737335          407   \n",
       "1  2009-06-13T09:05:48Z           8690000  2820126375         1183   \n",
       "2  2018-03-02T01:46:06Z           8000000   943060836          723   \n",
       "3  2012-09-22T18:04:00Z            720000   117668198         1257   \n",
       "4  2014-11-02T14:43:34Z           6100000   819791658          499   \n",
       "\n",
       "                 playlistID  \n",
       "0  UUCgLoMYIyP0U56dEhEL1wXQ  \n",
       "1  UUIJwWYOfsCfz6PjxbONYXSg  \n",
       "2  UUpQ34afVgk8cRQBjSJ1xuJQ  \n",
       "3  UUi0AqmA_3DGPFCu5qY0LLSg  \n",
       "4  UUvGEK5_U-kLgO6-AMDPeTUQ  "
      ]
     },
     "execution_count": 3,
     "metadata": {},
     "output_type": "execute_result"
    }
   ],
   "source": [
    "channels_df.head()"
   ]
  },
  {
   "cell_type": "code",
   "execution_count": 4,
   "id": "2facf121-d84f-4593-af38-e232a3ceaf3d",
   "metadata": {},
   "outputs": [
    {
     "data": {
      "text/html": [
       "<div>\n",
       "<style scoped>\n",
       "    .dataframe tbody tr th:only-of-type {\n",
       "        vertical-align: middle;\n",
       "    }\n",
       "\n",
       "    .dataframe tbody tr th {\n",
       "        vertical-align: top;\n",
       "    }\n",
       "\n",
       "    .dataframe thead th {\n",
       "        text-align: right;\n",
       "    }\n",
       "</style>\n",
       "<table border=\"1\" class=\"dataframe\">\n",
       "  <thead>\n",
       "    <tr style=\"text-align: right;\">\n",
       "      <th></th>\n",
       "      <th>video_id</th>\n",
       "      <th>channelTitle</th>\n",
       "      <th>title</th>\n",
       "      <th>description</th>\n",
       "      <th>tags</th>\n",
       "      <th>publishedAt</th>\n",
       "      <th>viewCount</th>\n",
       "      <th>likeCount</th>\n",
       "      <th>favouriteCount</th>\n",
       "      <th>commentCount</th>\n",
       "      <th>duration</th>\n",
       "      <th>definition</th>\n",
       "    </tr>\n",
       "  </thead>\n",
       "  <tbody>\n",
       "    <tr>\n",
       "      <th>0</th>\n",
       "      <td>e7zzES8PeG4</td>\n",
       "      <td>Chloe Ting</td>\n",
       "      <td>Shocking Before After Transformation Results! ...</td>\n",
       "      <td>Check out these amazing before and after trans...</td>\n",
       "      <td>['Abs', 'Abs results', 'Abs workout results', ...</td>\n",
       "      <td>2023-06-28T14:00:23Z</td>\n",
       "      <td>36033</td>\n",
       "      <td>2677.0</td>\n",
       "      <td>NaN</td>\n",
       "      <td>163.0</td>\n",
       "      <td>PT9M22S</td>\n",
       "      <td>hd</td>\n",
       "    </tr>\n",
       "    <tr>\n",
       "      <th>1</th>\n",
       "      <td>AZ1ihabY6bI</td>\n",
       "      <td>Chloe Ting</td>\n",
       "      <td>when you're having a bad day</td>\n",
       "      <td>Cute samoyed doggies in Seoul!!</td>\n",
       "      <td>['samoyed', 'seoul', 'day in my life', 'doggie...</td>\n",
       "      <td>2023-06-19T14:55:36Z</td>\n",
       "      <td>87568</td>\n",
       "      <td>4739.0</td>\n",
       "      <td>NaN</td>\n",
       "      <td>77.0</td>\n",
       "      <td>PT18S</td>\n",
       "      <td>hd</td>\n",
       "    </tr>\n",
       "    <tr>\n",
       "      <th>2</th>\n",
       "      <td>5GLA8MrlDnM</td>\n",
       "      <td>Chloe Ting</td>\n",
       "      <td>A day in my life living in Korea</td>\n",
       "      <td>Short vlog from a day out and about while in S...</td>\n",
       "      <td>['dayinmylife', 'korea', 'seoul', 'vlog', 'chl...</td>\n",
       "      <td>2023-06-05T14:51:22Z</td>\n",
       "      <td>317017</td>\n",
       "      <td>9618.0</td>\n",
       "      <td>NaN</td>\n",
       "      <td>708.0</td>\n",
       "      <td>PT12M37S</td>\n",
       "      <td>hd</td>\n",
       "    </tr>\n",
       "    <tr>\n",
       "      <th>3</th>\n",
       "      <td>IOJ7Fxa8e2Y</td>\n",
       "      <td>Chloe Ting</td>\n",
       "      <td>GROW YOUR BOOTY with these exercises</td>\n",
       "      <td>See the full video here: https://youtu.be/4zuY...</td>\n",
       "      <td>['glute workout', 'booty workout', 'gym workou...</td>\n",
       "      <td>2023-05-24T15:32:44Z</td>\n",
       "      <td>171898</td>\n",
       "      <td>5484.0</td>\n",
       "      <td>NaN</td>\n",
       "      <td>57.0</td>\n",
       "      <td>PT23S</td>\n",
       "      <td>hd</td>\n",
       "    </tr>\n",
       "    <tr>\n",
       "      <th>4</th>\n",
       "      <td>ljNgkSctkXg</td>\n",
       "      <td>Chloe Ting</td>\n",
       "      <td>INTENSE Full Body Workout - 30 Min No Equipment</td>\n",
       "      <td>This is a 30 min full body intense workout fro...</td>\n",
       "      <td>['workout', 'home workout', 'full body workout...</td>\n",
       "      <td>2023-05-17T14:00:27Z</td>\n",
       "      <td>620735</td>\n",
       "      <td>17223.0</td>\n",
       "      <td>NaN</td>\n",
       "      <td>863.0</td>\n",
       "      <td>PT31M14S</td>\n",
       "      <td>hd</td>\n",
       "    </tr>\n",
       "  </tbody>\n",
       "</table>\n",
       "</div>"
      ],
      "text/plain": [
       "      video_id channelTitle  \\\n",
       "0  e7zzES8PeG4   Chloe Ting   \n",
       "1  AZ1ihabY6bI   Chloe Ting   \n",
       "2  5GLA8MrlDnM   Chloe Ting   \n",
       "3  IOJ7Fxa8e2Y   Chloe Ting   \n",
       "4  ljNgkSctkXg   Chloe Ting   \n",
       "\n",
       "                                               title  \\\n",
       "0  Shocking Before After Transformation Results! ...   \n",
       "1                       when you're having a bad day   \n",
       "2                   A day in my life living in Korea   \n",
       "3               GROW YOUR BOOTY with these exercises   \n",
       "4    INTENSE Full Body Workout - 30 Min No Equipment   \n",
       "\n",
       "                                         description  \\\n",
       "0  Check out these amazing before and after trans...   \n",
       "1                    Cute samoyed doggies in Seoul!!   \n",
       "2  Short vlog from a day out and about while in S...   \n",
       "3  See the full video here: https://youtu.be/4zuY...   \n",
       "4  This is a 30 min full body intense workout fro...   \n",
       "\n",
       "                                                tags           publishedAt  \\\n",
       "0  ['Abs', 'Abs results', 'Abs workout results', ...  2023-06-28T14:00:23Z   \n",
       "1  ['samoyed', 'seoul', 'day in my life', 'doggie...  2023-06-19T14:55:36Z   \n",
       "2  ['dayinmylife', 'korea', 'seoul', 'vlog', 'chl...  2023-06-05T14:51:22Z   \n",
       "3  ['glute workout', 'booty workout', 'gym workou...  2023-05-24T15:32:44Z   \n",
       "4  ['workout', 'home workout', 'full body workout...  2023-05-17T14:00:27Z   \n",
       "\n",
       "   viewCount  likeCount  favouriteCount  commentCount  duration definition  \n",
       "0      36033     2677.0             NaN         163.0   PT9M22S         hd  \n",
       "1      87568     4739.0             NaN          77.0     PT18S         hd  \n",
       "2     317017     9618.0             NaN         708.0  PT12M37S         hd  \n",
       "3     171898     5484.0             NaN          57.0     PT23S         hd  \n",
       "4     620735    17223.0             NaN         863.0  PT31M14S         hd  "
      ]
     },
     "execution_count": 4,
     "metadata": {},
     "output_type": "execute_result"
    }
   ],
   "source": [
    "videos_df.head()"
   ]
  },
  {
   "cell_type": "markdown",
   "id": "82e003d3-1aa4-42c5-a978-e953b7071580",
   "metadata": {},
   "source": [
    "#### Check for duplicate rows and columns"
   ]
  },
  {
   "cell_type": "code",
   "execution_count": 5,
   "id": "0c40d1ab-68a3-4170-8c29-5c808b289dac",
   "metadata": {},
   "outputs": [
    {
     "data": {
      "text/plain": [
       "(False, False)"
      ]
     },
     "execution_count": 5,
     "metadata": {},
     "output_type": "execute_result"
    }
   ],
   "source": [
    "# check for duplicate rows in channels and videos data\n",
    "(channels_df.duplicated().any(),videos_df.duplicated().any())"
   ]
  },
  {
   "cell_type": "markdown",
   "id": "4e2a9230-badf-4965-b561-b1f538e3aa50",
   "metadata": {},
   "source": [
    "#### Check for missing data"
   ]
  },
  {
   "cell_type": "code",
   "execution_count": 6,
   "id": "08e50670-6306-48f2-ab61-8b5584360778",
   "metadata": {},
   "outputs": [
    {
     "data": {
      "text/plain": [
       "ChannelName           False\n",
       "ChannelDescription    False\n",
       "PublishedDate         False\n",
       "TotalSubscribers      False\n",
       "TotalViews            False\n",
       "TotalVideos           False\n",
       "playlistID            False\n",
       "dtype: bool"
      ]
     },
     "execution_count": 6,
     "metadata": {},
     "output_type": "execute_result"
    }
   ],
   "source": [
    "channels_df.isnull().any()"
   ]
  },
  {
   "cell_type": "code",
   "execution_count": 7,
   "id": "fd67da71-e057-4a53-a1ac-cba14a5a0e40",
   "metadata": {},
   "outputs": [
    {
     "data": {
      "text/plain": [
       "video_id          False\n",
       "channelTitle      False\n",
       "title             False\n",
       "description        True\n",
       "tags               True\n",
       "publishedAt       False\n",
       "viewCount         False\n",
       "likeCount          True\n",
       "favouriteCount     True\n",
       "commentCount       True\n",
       "duration          False\n",
       "definition        False\n",
       "dtype: bool"
      ]
     },
     "execution_count": 7,
     "metadata": {},
     "output_type": "execute_result"
    }
   ],
   "source": [
    "videos_df.isnull().any()"
   ]
  },
  {
   "cell_type": "markdown",
   "id": "677c8146-32bd-40e8-b72c-840deb7ed216",
   "metadata": {},
   "source": [
    "#### Check for percentage of missing values"
   ]
  },
  {
   "cell_type": "code",
   "execution_count": 8,
   "id": "18d1bb60-f54f-4742-be70-417efef098c6",
   "metadata": {},
   "outputs": [
    {
     "data": {
      "text/plain": [
       "description         4.396954\n",
       "tags               12.773274\n",
       "likeCount           1.105380\n",
       "favouriteCount    100.000000\n",
       "commentCount        0.245640\n",
       "dtype: float64"
      ]
     },
     "execution_count": 8,
     "metadata": {},
     "output_type": "execute_result"
    }
   ],
   "source": [
    "# Find the percentage of missing values from columns that contains them in the videos dataframe\n",
    "missingval_columns = videos_df.loc[:, ['description', 'tags', 'likeCount','favouriteCount','commentCount']]\n",
    "missingval_columns.isnull().sum() / missingval_columns.shape[0] * 100.00"
   ]
  },
  {
   "cell_type": "code",
   "execution_count": 9,
   "id": "424698ba-81dd-45e9-97d0-208efaa15577",
   "metadata": {},
   "outputs": [],
   "source": [
    "# Drop the favouriteCount column since it only contains missing values\n",
    "videos_df.drop('favouriteCount', axis=1, inplace=True)"
   ]
  },
  {
   "cell_type": "markdown",
   "id": "70728b86-4158-4ed0-9b9c-959371da7722",
   "metadata": {},
   "source": [
    "#### Check for redundant columns"
   ]
  },
  {
   "cell_type": "code",
   "execution_count": 10,
   "id": "c1ab53dc-ed38-4755-8569-58f0796e0148",
   "metadata": {},
   "outputs": [
    {
     "data": {
      "text/plain": [
       "array(['hd', 'sd'], dtype=object)"
      ]
     },
     "execution_count": 10,
     "metadata": {},
     "output_type": "execute_result"
    }
   ],
   "source": [
    "# Find the unique values of the definition column\n",
    "videos_df['definition'].unique()"
   ]
  },
  {
   "cell_type": "code",
   "execution_count": 11,
   "id": "71092279-0d60-4eff-8dba-77ace2374f3e",
   "metadata": {},
   "outputs": [
    {
     "data": {
      "text/plain": [
       "hd    99.557848\n",
       "sd     0.442152\n",
       "Name: definition, dtype: float64"
      ]
     },
     "execution_count": 11,
     "metadata": {},
     "output_type": "execute_result"
    }
   ],
   "source": [
    "# Check the percentage of each unique value in the definition column\n",
    "videos_df['definition'].value_counts() / videos_df['definition'].shape[0] * 100"
   ]
  },
  {
   "cell_type": "code",
   "execution_count": 12,
   "id": "7be914e8-3e29-4cf0-8dc0-33739086fabc",
   "metadata": {},
   "outputs": [],
   "source": [
    "# Drop the definition column for being uninformative\n",
    "videos_df.drop('definition', axis=1, inplace=True)"
   ]
  },
  {
   "cell_type": "code",
   "execution_count": 13,
   "id": "9568b410-d3d8-4442-8e1a-fb2db91516e4",
   "metadata": {},
   "outputs": [
    {
     "data": {
      "text/plain": [
       "1589    2009-10-06T04:47:37Z\n",
       "1588    2009-11-04T18:05:19Z\n",
       "1587    2009-11-10T05:18:29Z\n",
       "1586    2009-11-18T06:49:44Z\n",
       "1585    2009-11-30T08:13:39Z\n",
       "                ...         \n",
       "1591    2023-06-27T15:39:25Z\n",
       "2315    2023-06-27T16:08:44Z\n",
       "1590    2023-06-28T14:00:06Z\n",
       "0       2023-06-28T14:00:23Z\n",
       "2314    2023-06-28T14:35:24Z\n",
       "Name: publishedAt, Length: 4071, dtype: object"
      ]
     },
     "execution_count": 13,
     "metadata": {},
     "output_type": "execute_result"
    }
   ],
   "source": [
    "# Check the date values to make sure there are no errors\n",
    "videos_df.publishedAt.sort_values()"
   ]
  },
  {
   "cell_type": "markdown",
   "id": "d50fee46-6a54-4c0e-84ee-5b76d571b9ff",
   "metadata": {},
   "source": [
    "#### Checking the column data types"
   ]
  },
  {
   "cell_type": "code",
   "execution_count": 14,
   "id": "30047caf-1401-4e71-8328-abbfd24a54cc",
   "metadata": {},
   "outputs": [
    {
     "data": {
      "text/plain": [
       "ChannelName           object\n",
       "ChannelDescription    object\n",
       "PublishedDate         object\n",
       "TotalSubscribers       int64\n",
       "TotalViews             int64\n",
       "TotalVideos            int64\n",
       "playlistID            object\n",
       "dtype: object"
      ]
     },
     "execution_count": 14,
     "metadata": {},
     "output_type": "execute_result"
    }
   ],
   "source": [
    "channels_df.dtypes"
   ]
  },
  {
   "cell_type": "code",
   "execution_count": 15,
   "id": "87e8c21f-ca90-4da4-a527-9d17c9eb9cc8",
   "metadata": {},
   "outputs": [
    {
     "data": {
      "text/plain": [
       "video_id         object\n",
       "channelTitle     object\n",
       "title            object\n",
       "description      object\n",
       "tags             object\n",
       "publishedAt      object\n",
       "viewCount         int64\n",
       "likeCount       float64\n",
       "commentCount    float64\n",
       "duration         object\n",
       "dtype: object"
      ]
     },
     "execution_count": 15,
     "metadata": {},
     "output_type": "execute_result"
    }
   ],
   "source": [
    "videos_df.dtypes"
   ]
  },
  {
   "cell_type": "markdown",
   "id": "e00424cb-d964-4b1c-9bc6-37c7f47e77ee",
   "metadata": {},
   "source": [
    "## 2. Feature Engineering"
   ]
  },
  {
   "cell_type": "markdown",
   "id": "2e7bea67-de6b-4ac7-8236-0e50fba8ba19",
   "metadata": {},
   "source": [
    "Second, we are going to perform feature engineering to enrich the data by:\n",
    "* Convert ISO 8601 duration format from the YouTube Data API v3\n",
    "    1. first convert to timedelta[s]\n",
    "    2. then convert to minutes since this unit of duration is more intuitive to work with for workout videos\n",
    "    3. check for any errors or outliers (address them if necessary)\n",
    "* Derive new features from the published date column \n",
    "    1. Get published year\n",
    "    2. Get published month\n",
    "    3. Get published day of the week\n",
    "    4. Get published time of day\n",
    "* Get the length of the video title\n",
    "* Get the total number of tags in the tags column\n",
    "* use natural language processing (via spaCy) to derive useful features from the video title, description, and/or tags\n",
    "    1. Get the workout length; since actual workout duration and video duration are usually not the same\n",
    "    2. Get the workout type (cardio, HIIT, yoga, pilates, etc..)\n",
    "    3. Get the target body part (legs, abs, arms ,etc..)\n",
    "    3. Get any special aspect of the workout (no jumping, standing, no equipment, etc..)"
   ]
  },
  {
   "cell_type": "code",
   "execution_count": 16,
   "id": "e820695d-48bb-41a3-8f1e-bd5837e4b397",
   "metadata": {},
   "outputs": [],
   "source": [
    "# Convert duration to seconds\n",
    "videos_df['durationSecs'] = videos_df['duration'].apply(lambda x: isodate.parse_duration(x))\n",
    "videos_df['durationMins'] = videos_df['durationSecs'].astype('timedelta64[s]')/60"
   ]
  },
  {
   "cell_type": "code",
   "execution_count": 17,
   "id": "92ba4172-679c-4428-9ac8-5089fd40419f",
   "metadata": {
    "tags": []
   },
   "outputs": [
    {
     "data": {
      "text/plain": [
       "count    4071.000000\n",
       "mean       10.810239\n",
       "std         9.216769\n",
       "min         0.000000\n",
       "25%         3.783333\n",
       "50%        10.633333\n",
       "75%        14.508333\n",
       "max       130.816667\n",
       "Name: durationMins, dtype: float64"
      ]
     },
     "execution_count": 17,
     "metadata": {},
     "output_type": "execute_result"
    }
   ],
   "source": [
    "# Check the distribution of the video duration for presence of any outliers\n",
    "videos_df['durationMins'].describe()"
   ]
  },
  {
   "cell_type": "code",
   "execution_count": 18,
   "id": "1f36611c-8d9d-49a0-9ce3-09a0651dcb28",
   "metadata": {
    "tags": []
   },
   "outputs": [
    {
     "data": {
      "text/html": [
       "<div>\n",
       "<style scoped>\n",
       "    .dataframe tbody tr th:only-of-type {\n",
       "        vertical-align: middle;\n",
       "    }\n",
       "\n",
       "    .dataframe tbody tr th {\n",
       "        vertical-align: top;\n",
       "    }\n",
       "\n",
       "    .dataframe thead th {\n",
       "        text-align: right;\n",
       "    }\n",
       "</style>\n",
       "<table border=\"1\" class=\"dataframe\">\n",
       "  <thead>\n",
       "    <tr style=\"text-align: right;\">\n",
       "      <th></th>\n",
       "      <th>channelTitle</th>\n",
       "      <th>title</th>\n",
       "      <th>duration</th>\n",
       "      <th>durationSecs</th>\n",
       "      <th>video_id</th>\n",
       "    </tr>\n",
       "  </thead>\n",
       "  <tbody>\n",
       "    <tr>\n",
       "      <th>145</th>\n",
       "      <td>Chloe Ting</td>\n",
       "      <td>Abs &amp; Booty Workout Livestream</td>\n",
       "      <td>PT1H34M6S</td>\n",
       "      <td>0 days 01:34:06</td>\n",
       "      <td>tahd5q-onKc</td>\n",
       "    </tr>\n",
       "    <tr>\n",
       "      <th>165</th>\n",
       "      <td>Chloe Ting</td>\n",
       "      <td>10 Million Subs LIVESTREAM | Let's hangout + W...</td>\n",
       "      <td>PT2H10M49S</td>\n",
       "      <td>0 days 02:10:49</td>\n",
       "      <td>IdO0Ie3_2QU</td>\n",
       "    </tr>\n",
       "    <tr>\n",
       "      <th>207</th>\n",
       "      <td>Chloe Ting</td>\n",
       "      <td>2000 REP Full Body &amp; Abs Workout CHALLENGE for...</td>\n",
       "      <td>PT49M48S</td>\n",
       "      <td>0 days 00:49:48</td>\n",
       "      <td>004CudS_3Ew</td>\n",
       "    </tr>\n",
       "    <tr>\n",
       "      <th>273</th>\n",
       "      <td>Chloe Ting</td>\n",
       "      <td>45 Min Full Body FAT BURN Workout | Get Flat A...</td>\n",
       "      <td>PT46M53S</td>\n",
       "      <td>0 days 00:46:53</td>\n",
       "      <td>LDvAuqTZxMw</td>\n",
       "    </tr>\n",
       "    <tr>\n",
       "      <th>490</th>\n",
       "      <td>blogilates</td>\n",
       "      <td>POPFLEX Pre-Black Friday Extravaganza</td>\n",
       "      <td>PT1H12M46S</td>\n",
       "      <td>0 days 01:12:46</td>\n",
       "      <td>HO84VmEkfq0</td>\n",
       "    </tr>\n",
       "    <tr>\n",
       "      <th>1047</th>\n",
       "      <td>blogilates</td>\n",
       "      <td>*Special* Full Length 1 Hour POP Pilates Class!</td>\n",
       "      <td>PT1H8M47S</td>\n",
       "      <td>0 days 01:08:47</td>\n",
       "      <td>s0CkBw5Wock</td>\n",
       "    </tr>\n",
       "    <tr>\n",
       "      <th>1355</th>\n",
       "      <td>blogilates</td>\n",
       "      <td>Can I do 1000 Squats? FULL LENGTH Version</td>\n",
       "      <td>PT45M16S</td>\n",
       "      <td>0 days 00:45:16</td>\n",
       "      <td>fF71IJUXGOk</td>\n",
       "    </tr>\n",
       "    <tr>\n",
       "      <th>2512</th>\n",
       "      <td>Rebecca-Louise</td>\n",
       "      <td>FULL BODY FAT LOSS 🔥 30 min at Home Workout + ...</td>\n",
       "      <td>PT55M16S</td>\n",
       "      <td>0 days 00:55:16</td>\n",
       "      <td>_NOGXxLGQ0A</td>\n",
       "    </tr>\n",
       "    <tr>\n",
       "      <th>2588</th>\n",
       "      <td>Rebecca-Louise</td>\n",
       "      <td>LEAN OUT Live Workout | Q&amp;A with Rebecca Louis...</td>\n",
       "      <td>PT45M35S</td>\n",
       "      <td>0 days 00:45:35</td>\n",
       "      <td>AKzN3-JBOvU</td>\n",
       "    </tr>\n",
       "    <tr>\n",
       "      <th>2805</th>\n",
       "      <td>Rebecca-Louise</td>\n",
       "      <td>30 minutes FLAT TUMMY &amp; THIGH GAP at home work...</td>\n",
       "      <td>PT45M36S</td>\n",
       "      <td>0 days 00:45:36</td>\n",
       "      <td>hx6E8eTOmNs</td>\n",
       "    </tr>\n",
       "    <tr>\n",
       "      <th>2806</th>\n",
       "      <td>Rebecca-Louise</td>\n",
       "      <td>30 minute ROUND BOOTY &amp; SMALL WIAST workout (b...</td>\n",
       "      <td>PT46M</td>\n",
       "      <td>0 days 00:46:00</td>\n",
       "      <td>_pJTjFQLR_8</td>\n",
       "    </tr>\n",
       "    <tr>\n",
       "      <th>2831</th>\n",
       "      <td>Rebecca-Louise</td>\n",
       "      <td>LOSE FAT AND GET TONED in 40 minutes from home</td>\n",
       "      <td>PT47M35S</td>\n",
       "      <td>0 days 00:47:35</td>\n",
       "      <td>s0H3x9pH7yk</td>\n",
       "    </tr>\n",
       "    <tr>\n",
       "      <th>3086</th>\n",
       "      <td>Rebecca-Louise</td>\n",
       "      <td>Master the mental &amp; the POWER of visualization...</td>\n",
       "      <td>PT51M52S</td>\n",
       "      <td>0 days 00:51:52</td>\n",
       "      <td>0o4JRqqZmb4</td>\n",
       "    </tr>\n",
       "    <tr>\n",
       "      <th>3089</th>\n",
       "      <td>Rebecca-Louise</td>\n",
       "      <td>Know your value and OWN your self-worth | Rebe...</td>\n",
       "      <td>PT48M47S</td>\n",
       "      <td>0 days 00:48:47</td>\n",
       "      <td>G25aQB1sCWQ</td>\n",
       "    </tr>\n",
       "    <tr>\n",
       "      <th>3107</th>\n",
       "      <td>Rebecca-Louise</td>\n",
       "      <td>Building a BUSINESS &amp; how to create VIRAL VIDE...</td>\n",
       "      <td>PT56M20S</td>\n",
       "      <td>0 days 00:56:20</td>\n",
       "      <td>wmF_P2QhB3M</td>\n",
       "    </tr>\n",
       "    <tr>\n",
       "      <th>3652</th>\n",
       "      <td>emi wong</td>\n",
       "      <td>45 MIN WALKING CARDIO WORKOUT | Intense Full B...</td>\n",
       "      <td>PT45M18S</td>\n",
       "      <td>0 days 00:45:18</td>\n",
       "      <td>fIDmwKCJmlA</td>\n",
       "    </tr>\n",
       "    <tr>\n",
       "      <th>3760</th>\n",
       "      <td>emi wong</td>\n",
       "      <td>45 min Full Body Workout to BURN MAX CALORIES ...</td>\n",
       "      <td>PT47M58S</td>\n",
       "      <td>0 days 00:47:58</td>\n",
       "      <td>Wgm1Xc25imM</td>\n",
       "    </tr>\n",
       "    <tr>\n",
       "      <th>3821</th>\n",
       "      <td>emi wong</td>\n",
       "      <td>1 HOUR FULL BODY FAT BURN HOME WORKOUT (Warm U...</td>\n",
       "      <td>PT1H2M35S</td>\n",
       "      <td>0 days 01:02:35</td>\n",
       "      <td>p188evCXF0k</td>\n",
       "    </tr>\n",
       "    <tr>\n",
       "      <th>3843</th>\n",
       "      <td>emi wong</td>\n",
       "      <td>2 Weeks Workout Program to Lose Weight, Get Ab...</td>\n",
       "      <td>PT1H4M51S</td>\n",
       "      <td>0 days 01:04:51</td>\n",
       "      <td>EJKw3Mh0MyI</td>\n",
       "    </tr>\n",
       "    <tr>\n",
       "      <th>3924</th>\n",
       "      <td>emi wong</td>\n",
       "      <td>45-min Full Body Fat Burn HIIT at home with NO...</td>\n",
       "      <td>PT46M43S</td>\n",
       "      <td>0 days 00:46:43</td>\n",
       "      <td>wAIRYalt75w</td>\n",
       "    </tr>\n",
       "  </tbody>\n",
       "</table>\n",
       "</div>"
      ],
      "text/plain": [
       "        channelTitle                                              title  \\\n",
       "145       Chloe Ting                     Abs & Booty Workout Livestream   \n",
       "165       Chloe Ting  10 Million Subs LIVESTREAM | Let's hangout + W...   \n",
       "207       Chloe Ting  2000 REP Full Body & Abs Workout CHALLENGE for...   \n",
       "273       Chloe Ting  45 Min Full Body FAT BURN Workout | Get Flat A...   \n",
       "490       blogilates              POPFLEX Pre-Black Friday Extravaganza   \n",
       "1047      blogilates    *Special* Full Length 1 Hour POP Pilates Class!   \n",
       "1355      blogilates          Can I do 1000 Squats? FULL LENGTH Version   \n",
       "2512  Rebecca-Louise  FULL BODY FAT LOSS 🔥 30 min at Home Workout + ...   \n",
       "2588  Rebecca-Louise  LEAN OUT Live Workout | Q&A with Rebecca Louis...   \n",
       "2805  Rebecca-Louise  30 minutes FLAT TUMMY & THIGH GAP at home work...   \n",
       "2806  Rebecca-Louise  30 minute ROUND BOOTY & SMALL WIAST workout (b...   \n",
       "2831  Rebecca-Louise     LOSE FAT AND GET TONED in 40 minutes from home   \n",
       "3086  Rebecca-Louise  Master the mental & the POWER of visualization...   \n",
       "3089  Rebecca-Louise  Know your value and OWN your self-worth | Rebe...   \n",
       "3107  Rebecca-Louise  Building a BUSINESS & how to create VIRAL VIDE...   \n",
       "3652        emi wong  45 MIN WALKING CARDIO WORKOUT | Intense Full B...   \n",
       "3760        emi wong  45 min Full Body Workout to BURN MAX CALORIES ...   \n",
       "3821        emi wong  1 HOUR FULL BODY FAT BURN HOME WORKOUT (Warm U...   \n",
       "3843        emi wong  2 Weeks Workout Program to Lose Weight, Get Ab...   \n",
       "3924        emi wong  45-min Full Body Fat Burn HIIT at home with NO...   \n",
       "\n",
       "        duration    durationSecs     video_id  \n",
       "145    PT1H34M6S 0 days 01:34:06  tahd5q-onKc  \n",
       "165   PT2H10M49S 0 days 02:10:49  IdO0Ie3_2QU  \n",
       "207     PT49M48S 0 days 00:49:48  004CudS_3Ew  \n",
       "273     PT46M53S 0 days 00:46:53  LDvAuqTZxMw  \n",
       "490   PT1H12M46S 0 days 01:12:46  HO84VmEkfq0  \n",
       "1047   PT1H8M47S 0 days 01:08:47  s0CkBw5Wock  \n",
       "1355    PT45M16S 0 days 00:45:16  fF71IJUXGOk  \n",
       "2512    PT55M16S 0 days 00:55:16  _NOGXxLGQ0A  \n",
       "2588    PT45M35S 0 days 00:45:35  AKzN3-JBOvU  \n",
       "2805    PT45M36S 0 days 00:45:36  hx6E8eTOmNs  \n",
       "2806       PT46M 0 days 00:46:00  _pJTjFQLR_8  \n",
       "2831    PT47M35S 0 days 00:47:35  s0H3x9pH7yk  \n",
       "3086    PT51M52S 0 days 00:51:52  0o4JRqqZmb4  \n",
       "3089    PT48M47S 0 days 00:48:47  G25aQB1sCWQ  \n",
       "3107    PT56M20S 0 days 00:56:20  wmF_P2QhB3M  \n",
       "3652    PT45M18S 0 days 00:45:18  fIDmwKCJmlA  \n",
       "3760    PT47M58S 0 days 00:47:58  Wgm1Xc25imM  \n",
       "3821   PT1H2M35S 0 days 01:02:35  p188evCXF0k  \n",
       "3843   PT1H4M51S 0 days 01:04:51  EJKw3Mh0MyI  \n",
       "3924    PT46M43S 0 days 00:46:43  wAIRYalt75w  "
      ]
     },
     "execution_count": 18,
     "metadata": {},
     "output_type": "execute_result"
    }
   ],
   "source": [
    "# Check for videos that are longer than 45 mins\n",
    "videos_df[videos_df['durationMins'] > 45][['channelTitle','title','duration','durationSecs','video_id']]"
   ]
  },
  {
   "cell_type": "code",
   "execution_count": 19,
   "id": "059da2d2-4a12-4e75-93e4-ede86fa6e72e",
   "metadata": {
    "tags": []
   },
   "outputs": [],
   "source": [
    "# list of ids of videos longer than 45 mins whose title clearly indicates are not workout videos\n",
    "videos_to_drop = ['IdO0Ie3_2QU', 'HO84VmEkfq0', '0o4JRqqZmb4', 'G25aQB1sCWQ', 'wmF_P2QhB3M']\n",
    "\n",
    "# Drop those videos in the list above from the videos data\n",
    "videos_df = videos_df[~videos_df['video_id'].isin(videos_to_drop)]"
   ]
  },
  {
   "cell_type": "code",
   "execution_count": 20,
   "id": "91b4d351-54b6-43ae-8368-18a10e0a02ef",
   "metadata": {
    "tags": []
   },
   "outputs": [
    {
     "data": {
      "text/plain": [
       "count    4066.000000\n",
       "mean       10.734854\n",
       "std         8.904005\n",
       "min         0.000000\n",
       "25%         3.770833\n",
       "50%        10.633333\n",
       "75%        14.466667\n",
       "max        94.100000\n",
       "Name: durationMins, dtype: float64"
      ]
     },
     "execution_count": 20,
     "metadata": {},
     "output_type": "execute_result"
    }
   ],
   "source": [
    "# Check the distribution of video duration again after removal of nonworkout videos\n",
    "videos_df['durationMins'].describe()"
   ]
  },
  {
   "cell_type": "code",
   "execution_count": 21,
   "id": "6fdbbad8-a1d5-474e-b2e9-6ea4ee283120",
   "metadata": {},
   "outputs": [],
   "source": [
    "# Create publish datetime and year for channels data\n",
    "channels_df['publishedDatetime'] =  channels_df['PublishedDate'].apply(lambda x: parser.parse(x))\n",
    "channels_df['publishedYear'] = channels_df['publishedDatetime'].apply(lambda x: int(x.strftime(\"%Y\")))\n",
    "\n",
    "# Create publish year and month (of the year) columns\n",
    "videos_df['publishedDatetime'] = videos_df['publishedAt'].apply(lambda x: parser.parse(x))\n",
    "videos_df['publishedYear'] = videos_df['publishedDatetime'].apply(lambda x: int(x.strftime(\"%Y\")))\n",
    "videos_df['publishedMonth'] = videos_df['publishedDatetime'].apply(lambda x: x.strftime(\"%b\"))\n",
    "\n",
    "# Create publish day (of the week) and hour columns\n",
    "videos_df['pushblishDayName'] = videos_df['publishedDatetime'].apply(lambda x: x.strftime(\"%a\")) \n",
    "videos_df['publishedHour'] = videos_df['publishedDatetime'].apply(lambda x: x.strftime(\"%H\"))"
   ]
  },
  {
   "cell_type": "code",
   "execution_count": 22,
   "id": "7fb05ca4-520a-4b9a-9bf4-64bb00028cf5",
   "metadata": {},
   "outputs": [],
   "source": [
    "# Title character length\n",
    "videos_df['titleLength'] = videos_df['title'].apply(lambda x: len(x))\n",
    "\n",
    "# Create the number of tags column\n",
    "videos_df['tags'] = videos_df['tags'].replace(np.nan, None)\n",
    "videos_df['tags'] = videos_df['tags'].apply(lambda x: x if x is None else ast.literal_eval(x))\n",
    "videos_df['tagsCount'] = videos_df['tags'].apply(lambda x: 0 if x is None else len(x))"
   ]
  },
  {
   "cell_type": "code",
   "execution_count": 23,
   "id": "a1c474d3-c21c-4b1e-9e81-96a498e01466",
   "metadata": {},
   "outputs": [],
   "source": [
    "# Now we are going to use spaCy's entity ruler along with regex \n",
    "# to extract entities from the text columns.\n",
    "\n",
    "# Download spaCy's small english model\n",
    "nlp = spacy.load(\"en_core_web_sm\")\n",
    "\n",
    "# Create and add the EntityRuler\n",
    "ruler = nlp.add_pipe(\"entity_ruler\", before=\"ner\")"
   ]
  },
  {
   "cell_type": "code",
   "execution_count": 24,
   "id": "dd073096-afcd-49b6-b1a9-e88651905b3d",
   "metadata": {
    "tags": []
   },
   "outputs": [],
   "source": [
    "#List of Entities and Patterns\n",
    "patterns = [\n",
    "    {\"label\": \"WORKOUT_TIME\", \"pattern\": [{\"TEXT\": {\"REGEX\": r\"^(\\d+)\"}},\n",
    "                                          {\"LOWER\":{\"REGEX\": r\"^(min|mins|minute|minutes|hour|hours|hr|hrs)$\"}}\n",
    "                                         ]},\n",
    "    {\"label\": \"FULL_BODY\", \"pattern\": [{\"LOWER\": {\"REGEX\": r\"(full|total|whole)\"}}, {\"LOWER\": \"body\"}]},\n",
    "    {\"label\": \"UPPER_BODY\", \"pattern\": [{\"LOWER\": \"upper\"}, {\"LOWER\": \"body\"}]},\n",
    "    {\"label\": \"LOWER_BODY\", \"pattern\": [{\"LOWER\": \"lower\"}, {\"LOWER\": \"body\"}]},\n",
    "    {\"label\": \"CHEST_BACK\", \"pattern\": [{\"LOWER\": {\"REGEX\": r\"(back|chest)\"}}, {\"ORTH\": {\"REGEX\": r\"(and|&)?\"}} ,{\"LOWER\": {\"REGEX\": r\"(back|chest)?\"}}]},\n",
    "    {\"label\": \"ABS\", \"pattern\": [{\"LOWER\": {\"REGEX\": r\"(core|ab|abs|plank)\"}}]},\n",
    "    {\"label\": \"ARMS\", \"pattern\": [{\"LOWER\": {\"REGEX\": r\"arms?\"}}]},\n",
    "    {\"label\": \"LEGS\", \"pattern\": [{\"LOWER\": {\"REGEX\": r\"(thigh|thighs|leg|legs)\"}}]},\n",
    "    {\"label\": \"GLUTES\", \"pattern\": [{\"LOWER\": {\"REGEX\": r\"(booty|glute|glutes|butt)\"}}]},\n",
    "    {\"label\": \"WORKOUT_TYPE\", \"pattern\": [{\"LOWER\": {\"REGEX\": r\"(hiit|cardio|pilates|yoga|dance|tabata|barre|stretch)\"}}]},\n",
    "    {\"label\": \"STANDING\", \"pattern\": [{\"LOWER\": \"standing\"}]},\n",
    "    {\"label\": \"NO_EQUIPMENT\", \"pattern\": [{\"LOWER\": \"no\", \"LOWER\": {\"REGEX\": r\"(equip|equipment|equipments|weight|weights)\"}}]},\n",
    "    {\"label\": \"NO_JUMPING\", \"pattern\": [{\"LOWER\": \"no\", \"LOWER\": \"jumping\"}]},\n",
    "    {\"label\": \"LOW_IMPACT\", \"pattern\": [{\"LOWER\": \"low\", \"LOWER\": \"impact\"}]},\n",
    "    {\"label\": \"STRENGTH_TRAINING\", \"pattern\": [{\"LOWER\": {\"REGEX\": r\"(strength|sculpt|sculpting|tone|toning|toned)\"}}]}\n",
    "]"
   ]
  },
  {
   "cell_type": "code",
   "execution_count": 25,
   "id": "e5449f96-57dc-48bb-ac81-3afc08832bed",
   "metadata": {
    "tags": []
   },
   "outputs": [],
   "source": [
    "ruler.add_patterns(patterns)"
   ]
  },
  {
   "cell_type": "code",
   "execution_count": 26,
   "id": "5e7515c5-09b3-4741-9488-34e72197d4d7",
   "metadata": {
    "tags": []
   },
   "outputs": [],
   "source": [
    "# Extract workout time or type using regular expressions\n",
    "def extract_ent_text(string, label):\n",
    "    doc = nlp(string)\n",
    "    workout_label = None\n",
    "    for ent in doc.ents:\n",
    "        if ent.label_ == label:\n",
    "            workout_label = ent.text\n",
    "            break\n",
    "    return workout_label\n",
    "\n",
    "\n",
    "# Function to convert workout time units to standardized format\n",
    "def convert_time_units(time_str):\n",
    "\n",
    "    # Set default value of result to None\n",
    "    result = None\n",
    "\n",
    "    # Regular expression pattern to match time units\n",
    "    pattern = r\"(\\d+)\\s*(min|mins|minute|minutes|hour|hours|hr|hrs)\"\n",
    "\n",
    "    # Extract and convert time units\n",
    "    matches = re.findall(pattern, time_str, re.IGNORECASE)\n",
    "    if matches:\n",
    "        time_value, time_unit = matches[0]\n",
    "        if time_unit.lower() in ['min', 'mins', 'minute', 'minutes']:\n",
    "            result = time_value\n",
    "        elif time_unit.lower() in ['hour', 'hours', 'hr', 'hrs']:\n",
    "            result = str(int(time_value) * 60)\n",
    "\n",
    "    return result\n",
    "\n",
    "\n",
    "# Function to extract body part from a title\n",
    "def extract_body_part(string):\n",
    "    doc = nlp(string)\n",
    "    body_part = None\n",
    "    body_parts = [\"FULL_BODY\",\"UPPER_BODY\",\"LOWER_BODY\",\"CHEST_BACK\",\"ARMS\",\"ABS\",\"LEGS\",\"GLUTES\"]\n",
    "    for ent in doc.ents:\n",
    "        if ent.label_ in body_parts:\n",
    "            body_part = ent.label_\n",
    "            break\n",
    "    return body_part\n",
    "\n",
    "\n",
    "# Extract workout using regular expressions\n",
    "def extract_ent_label(string, label):\n",
    "    doc = nlp(string)\n",
    "    workout_label = None\n",
    "    for ent in doc.ents:\n",
    "        if ent.label_ == label:\n",
    "            workout_label = ent.label_\n",
    "            break\n",
    "    return workout_label\n"
   ]
  },
  {
   "cell_type": "code",
   "execution_count": 27,
   "id": "ab0d86c5-ce0f-4db3-b13c-fcb75e14de85",
   "metadata": {
    "tags": []
   },
   "outputs": [],
   "source": [
    "# Create workout time and workout type column by applying function to extract text of entities\n",
    "videos_df['workoutLength'] = videos_df['title'].apply(lambda x: extract_ent_text(x,\"WORKOUT_TIME\"))\n",
    "videos_df['workoutType'] = videos_df['title'].apply(lambda x: extract_ent_text(x, \"WORKOUT_TYPE\"))\n",
    "\n",
    "# Apply the function to create a body part column \n",
    "videos_df['bodyPart'] = videos_df['title'].apply(extract_body_part)"
   ]
  },
  {
   "cell_type": "code",
   "execution_count": 28,
   "id": "53cf5dd5-6b59-4bf0-bee8-ebd1433c053b",
   "metadata": {
    "tags": []
   },
   "outputs": [],
   "source": [
    "# Create new columns by applying function to extract the label of entities\n",
    "labels_to_extract = [\"STANDING\", \"NO_EQUIPMENT\", \"NO_JUMPING\", \"LOW_IMPACT\", \"STRENGTH_TRAINING\"]\n",
    "workout_features_df = pd.DataFrame(columns=['standingWorkout','noEquipment','noJumping','lowImpact','strengthTraining'])\n",
    "\n",
    "for i in range(len(labels_to_extract)):\n",
    "    workout_features_df.iloc[:,i] = videos_df['title'].apply(lambda x: extract_ent_label(x,labels_to_extract[i]))\n",
    "\n",
    "# Add the new columns to the dataframe of workout videos\n",
    "videos_df = pd.concat([videos_df,workout_features_df], axis=1)"
   ]
  },
  {
   "cell_type": "markdown",
   "id": "75957911-cdc0-42bc-8d86-27f54ff19084",
   "metadata": {},
   "source": [
    "#### Fill missing values"
   ]
  },
  {
   "cell_type": "code",
   "execution_count": 29,
   "id": "7b420c38-1b4e-4086-b247-c1b9093fde1e",
   "metadata": {
    "tags": []
   },
   "outputs": [],
   "source": [
    "# Convert the description column to string\n",
    "videos_df['description'] = videos_df['description'].astype(str)\n",
    "\n",
    "# Use nlp to extract workout time entity from the description if value is missing for workoutLength column\n",
    "videos_df['workoutLength'] = videos_df.apply(lambda row: extract_ent_text(row['description'], \"WORKOUT_TIME\") \\\n",
    "                                             if pd.isna(row['workoutLength']) else row['workoutLength'], axis=1)"
   ]
  },
  {
   "cell_type": "code",
   "execution_count": 30,
   "id": "73ef9599-fc09-450d-ae49-b9a1775ab56f",
   "metadata": {
    "tags": []
   },
   "outputs": [],
   "source": [
    "# Combine the strings separated by commas\n",
    "videos_df['combinedTags'] = videos_df['tags'].apply(lambda x: ', '.join(x) if x is not None else x)\n",
    "\n",
    "# Use nlp to extract workout time entity from the tags if value is missing for workoutLength column\n",
    "videos_df['workoutLength'] = videos_df.apply(lambda row: extract_ent_text(row['combinedTags'], \"WORKOUT_TIME\")  \\\n",
    "                                             if pd.isna(row['workoutLength']) and \\\n",
    "                                             row['combinedTags'] is not None else row['workoutLength'],\n",
    "                                             axis=1)"
   ]
  },
  {
   "cell_type": "code",
   "execution_count": 31,
   "id": "866473af-951f-4c9b-af86-8e72a10427b4",
   "metadata": {
    "tags": []
   },
   "outputs": [
    {
     "data": {
      "text/html": [
       "<div>\n",
       "<style scoped>\n",
       "    .dataframe tbody tr th:only-of-type {\n",
       "        vertical-align: middle;\n",
       "    }\n",
       "\n",
       "    .dataframe tbody tr th {\n",
       "        vertical-align: top;\n",
       "    }\n",
       "\n",
       "    .dataframe thead th {\n",
       "        text-align: right;\n",
       "    }\n",
       "</style>\n",
       "<table border=\"1\" class=\"dataframe\">\n",
       "  <thead>\n",
       "    <tr style=\"text-align: right;\">\n",
       "      <th></th>\n",
       "      <th>title</th>\n",
       "      <th>description</th>\n",
       "      <th>durationMins</th>\n",
       "      <th>combinedTags</th>\n",
       "    </tr>\n",
       "  </thead>\n",
       "  <tbody>\n",
       "    <tr>\n",
       "      <th>0</th>\n",
       "      <td>Shocking Before After Transformation Results! ...</td>\n",
       "      <td>Check out these amazing before and after trans...</td>\n",
       "      <td>9.366667</td>\n",
       "      <td>Abs, Abs results, Abs workout results, Before ...</td>\n",
       "    </tr>\n",
       "    <tr>\n",
       "      <th>1</th>\n",
       "      <td>when you're having a bad day</td>\n",
       "      <td>Cute samoyed doggies in Seoul!!</td>\n",
       "      <td>0.300000</td>\n",
       "      <td>samoyed, seoul, day in my life, doggies, dogs,...</td>\n",
       "    </tr>\n",
       "    <tr>\n",
       "      <th>2</th>\n",
       "      <td>A day in my life living in Korea</td>\n",
       "      <td>Short vlog from a day out and about while in S...</td>\n",
       "      <td>12.616667</td>\n",
       "      <td>dayinmylife, korea, seoul, vlog, chloeting, ch...</td>\n",
       "    </tr>\n",
       "    <tr>\n",
       "      <th>3</th>\n",
       "      <td>GROW YOUR BOOTY with these exercises</td>\n",
       "      <td>See the full video here: https://youtu.be/4zuY...</td>\n",
       "      <td>0.383333</td>\n",
       "      <td>glute workout, booty workout, gym workout, fit...</td>\n",
       "    </tr>\n",
       "    <tr>\n",
       "      <th>9</th>\n",
       "      <td>Full day of eating in Seoul.. so much food</td>\n",
       "      <td>Here's what I ate over a full day while out an...</td>\n",
       "      <td>9.766667</td>\n",
       "      <td>whatieat, what i eat, what i ate, food vlog, f...</td>\n",
       "    </tr>\n",
       "    <tr>\n",
       "      <th>...</th>\n",
       "      <td>...</td>\n",
       "      <td>...</td>\n",
       "      <td>...</td>\n",
       "      <td>...</td>\n",
       "    </tr>\n",
       "    <tr>\n",
       "      <th>4056</th>\n",
       "      <td>Exciting News!! WORK OUT WITH ME</td>\n",
       "      <td>♡SUBSCRIBE FOR WEEKLY VIDEOS  ► http://bit.ly/...</td>\n",
       "      <td>2.266667</td>\n",
       "      <td>cardio, meet and greet, exercises, abs workout...</td>\n",
       "    </tr>\n",
       "    <tr>\n",
       "      <th>4057</th>\n",
       "      <td>Morocco, Portugal, Northern Ireland Travel Vlo...</td>\n",
       "      <td>♡ITINERARY\\nDay 1: Flying from Hong Kong to Ma...</td>\n",
       "      <td>14.150000</td>\n",
       "      <td>travel, Europe Trip, Africa Trip, Morocco, Por...</td>\n",
       "    </tr>\n",
       "    <tr>\n",
       "      <th>4064</th>\n",
       "      <td>Crossfit Workout! Ab &amp; Full Body Weight Traini...</td>\n",
       "      <td>♡CHECK OUT \\nCrossfit Valentines Workout + Epi...</td>\n",
       "      <td>7.016667</td>\n",
       "      <td>crossfit, wod, cardio, abs, workout, fitness, ...</td>\n",
       "    </tr>\n",
       "    <tr>\n",
       "      <th>4066</th>\n",
       "      <td>Healthy Greek Yogurt Pancakes Recipe for Break...</td>\n",
       "      <td>♡CHECK OUT\\nHealthy Vegan Smoothies for Weight...</td>\n",
       "      <td>7.266667</td>\n",
       "      <td>healthy diet, healthy food, nutrition, healthy...</td>\n",
       "    </tr>\n",
       "    <tr>\n",
       "      <th>4068</th>\n",
       "      <td>MY DIET - What I Eat In A Day to Stay Fit and ...</td>\n",
       "      <td>♡SUBSCRIBE FOR WEEKLY VIDEOS  ► http://bit.ly/...</td>\n",
       "      <td>15.100000</td>\n",
       "      <td>Diet, Weight Loss, Healthy Diet, Healthy Lifes...</td>\n",
       "    </tr>\n",
       "  </tbody>\n",
       "</table>\n",
       "<p>2220 rows × 4 columns</p>\n",
       "</div>"
      ],
      "text/plain": [
       "                                                  title  \\\n",
       "0     Shocking Before After Transformation Results! ...   \n",
       "1                          when you're having a bad day   \n",
       "2                      A day in my life living in Korea   \n",
       "3                  GROW YOUR BOOTY with these exercises   \n",
       "9            Full day of eating in Seoul.. so much food   \n",
       "...                                                 ...   \n",
       "4056                   Exciting News!! WORK OUT WITH ME   \n",
       "4057  Morocco, Portugal, Northern Ireland Travel Vlo...   \n",
       "4064  Crossfit Workout! Ab & Full Body Weight Traini...   \n",
       "4066  Healthy Greek Yogurt Pancakes Recipe for Break...   \n",
       "4068  MY DIET - What I Eat In A Day to Stay Fit and ...   \n",
       "\n",
       "                                            description  durationMins  \\\n",
       "0     Check out these amazing before and after trans...      9.366667   \n",
       "1                       Cute samoyed doggies in Seoul!!      0.300000   \n",
       "2     Short vlog from a day out and about while in S...     12.616667   \n",
       "3     See the full video here: https://youtu.be/4zuY...      0.383333   \n",
       "9     Here's what I ate over a full day while out an...      9.766667   \n",
       "...                                                 ...           ...   \n",
       "4056  ♡SUBSCRIBE FOR WEEKLY VIDEOS  ► http://bit.ly/...      2.266667   \n",
       "4057  ♡ITINERARY\\nDay 1: Flying from Hong Kong to Ma...     14.150000   \n",
       "4064  ♡CHECK OUT \\nCrossfit Valentines Workout + Epi...      7.016667   \n",
       "4066  ♡CHECK OUT\\nHealthy Vegan Smoothies for Weight...      7.266667   \n",
       "4068  ♡SUBSCRIBE FOR WEEKLY VIDEOS  ► http://bit.ly/...     15.100000   \n",
       "\n",
       "                                           combinedTags  \n",
       "0     Abs, Abs results, Abs workout results, Before ...  \n",
       "1     samoyed, seoul, day in my life, doggies, dogs,...  \n",
       "2     dayinmylife, korea, seoul, vlog, chloeting, ch...  \n",
       "3     glute workout, booty workout, gym workout, fit...  \n",
       "9     whatieat, what i eat, what i ate, food vlog, f...  \n",
       "...                                                 ...  \n",
       "4056  cardio, meet and greet, exercises, abs workout...  \n",
       "4057  travel, Europe Trip, Africa Trip, Morocco, Por...  \n",
       "4064  crossfit, wod, cardio, abs, workout, fitness, ...  \n",
       "4066  healthy diet, healthy food, nutrition, healthy...  \n",
       "4068  Diet, Weight Loss, Healthy Diet, Healthy Lifes...  \n",
       "\n",
       "[2220 rows x 4 columns]"
      ]
     },
     "execution_count": 31,
     "metadata": {},
     "output_type": "execute_result"
    }
   ],
   "source": [
    "videos_df[videos_df['workoutLength'].isna()][['title','description','durationMins','combinedTags']]"
   ]
  },
  {
   "cell_type": "markdown",
   "id": "a5b54f53-c790-4fc2-8d53-832c1fb04fc0",
   "metadata": {},
   "source": [
    "We have now used spaCy's nlp to get the workout length from either the title, description or tags in that order. If the workoutLength column still has missing values at this point, then those videos have to be investigated further. There is a high likelihood that those videos might not be a workout video but a food vlog, travel vlog, motivational video or reaction video to transformation results. We will use the video tags to try to identify and filter out those videos. "
   ]
  },
  {
   "cell_type": "code",
   "execution_count": 32,
   "id": "511e4277-adc3-4cdd-9b79-73901af2abb2",
   "metadata": {
    "tags": []
   },
   "outputs": [],
   "source": [
    "# List of keywords to drop rows containing them in the tags\n",
    "keywords = ['travel', 'trip', 'food', 'what I eat',\n",
    "            'fashion', 'outfit', 'transformation',\n",
    "            'vlog', 'day in my life']\n",
    "\n",
    "# Create a regular expression pattern from the keywords\n",
    "pattern = '|'.join(keywords)\n",
    "\n",
    "# Filter out the rows that have a partial match with any of the keywords\n",
    "notworkouts_df= videos_df[(videos_df['workoutLength'].isna()) & (videos_df['combinedTags'].fillna('').str.contains('|'.join(keywords)))]\n",
    "\n",
    "# Drop the subset to get workout videos only\n",
    "workout_videos_df = videos_df.drop(notworkouts_df.index)\n"
   ]
  },
  {
   "cell_type": "code",
   "execution_count": 33,
   "id": "f74affad-4c96-4597-83f4-b18766632f5e",
   "metadata": {
    "tags": []
   },
   "outputs": [],
   "source": [
    "# Function to convert time units to minutes\n",
    "def convert_time_units(time_str):\n",
    "    # Set default return value to None\n",
    "    result = None\n",
    "    \n",
    "    # Regular expression pattern to match time units\n",
    "    pattern = r\"(\\d+)\\s*(min|mins|minute|minutes|hour|hours|hr|hrs)\"\n",
    "    \n",
    "    # Extract and convert time units\n",
    "    matches = re.findall(pattern, time_str, re.IGNORECASE)\n",
    "    if matches:\n",
    "        time_value, time_unit = matches[0]\n",
    "        \n",
    "        if time_unit.lower() in ['min', 'mins', 'minute', 'minutes']:\n",
    "            result = int(time_value)\n",
    "        elif time_unit.lower() in ['hour', 'hours', 'hr', 'hrs']:\n",
    "            result = int(time_value) * 60\n",
    "    \n",
    "    return result"
   ]
  },
  {
   "cell_type": "code",
   "execution_count": 34,
   "id": "d98d1a11-c42f-4dfa-923a-b36e01128de8",
   "metadata": {
    "tags": []
   },
   "outputs": [],
   "source": [
    "# Standardize the derived workoutLength column so they all have the same units (mins)\n",
    "workout_videos_df['workoutLength_mins'] = workout_videos_df['workoutLength'].apply(lambda x: convert_time_units(str(x)))"
   ]
  },
  {
   "cell_type": "code",
   "execution_count": 35,
   "id": "bd22d799-ae05-47d4-8023-07d6e36e11dc",
   "metadata": {
    "tags": []
   },
   "outputs": [
    {
     "data": {
      "text/plain": [
       "count    1844.000000\n",
       "mean      115.303688\n",
       "std       368.744552\n",
       "min         1.000000\n",
       "25%        10.000000\n",
       "50%        12.000000\n",
       "75%        20.000000\n",
       "max      2880.000000\n",
       "Name: workoutLength_mins, dtype: float64"
      ]
     },
     "execution_count": 35,
     "metadata": {},
     "output_type": "execute_result"
    }
   ],
   "source": [
    "# Check the distribution of workout length after filling in missing values for outliers\n",
    "workout_videos_df['workoutLength_mins'].describe()"
   ]
  },
  {
   "cell_type": "code",
   "execution_count": 37,
   "id": "6d38ab3b-0f29-4713-acc0-14967755d8e0",
   "metadata": {
    "tags": []
   },
   "outputs": [
    {
     "data": {
      "text/html": [
       "<div>\n",
       "<style scoped>\n",
       "    .dataframe tbody tr th:only-of-type {\n",
       "        vertical-align: middle;\n",
       "    }\n",
       "\n",
       "    .dataframe tbody tr th {\n",
       "        vertical-align: top;\n",
       "    }\n",
       "\n",
       "    .dataframe thead th {\n",
       "        text-align: right;\n",
       "    }\n",
       "</style>\n",
       "<table border=\"1\" class=\"dataframe\">\n",
       "  <thead>\n",
       "    <tr style=\"text-align: right;\">\n",
       "      <th></th>\n",
       "      <th>title</th>\n",
       "      <th>description</th>\n",
       "      <th>durationMins</th>\n",
       "      <th>combinedTags</th>\n",
       "    </tr>\n",
       "  </thead>\n",
       "  <tbody>\n",
       "    <tr>\n",
       "      <th>207</th>\n",
       "      <td>2000 REP Full Body &amp; Abs Workout CHALLENGE for...</td>\n",
       "      <td>Thank you for 2milsubs! Dropping a hot INTENSE...</td>\n",
       "      <td>49.800000</td>\n",
       "      <td>2000 rep challenge, workout challenge, 1 hour ...</td>\n",
       "    </tr>\n",
       "    <tr>\n",
       "      <th>273</th>\n",
       "      <td>45 Min Full Body FAT BURN Workout | Get Flat A...</td>\n",
       "      <td>This is a 45 minute, full body burn workout th...</td>\n",
       "      <td>46.883333</td>\n",
       "      <td>abs, ab, abs exercise, abs workout, flat belly...</td>\n",
       "    </tr>\n",
       "    <tr>\n",
       "      <th>306</th>\n",
       "      <td>What I Eat To Lose Weight | Healthy Recipes | ...</td>\n",
       "      <td>Hello you beautiful people! This week i'm tryi...</td>\n",
       "      <td>20.483333</td>\n",
       "      <td>Lose Weight, What I Eat To Lose Weight, What I...</td>\n",
       "    </tr>\n",
       "    <tr>\n",
       "      <th>369</th>\n",
       "      <td>Quick &amp; Easy Healthy Snacks | 3 Pre Workout Sn...</td>\n",
       "      <td>Quick and Easy Healthy Snacks | 3 Pre Workout ...</td>\n",
       "      <td>4.350000</td>\n",
       "      <td>Healthy Snack, Healthy Snacks, Quick and easy,...</td>\n",
       "    </tr>\n",
       "    <tr>\n",
       "      <th>394</th>\n",
       "      <td>Healthy Breakfast Ideas | Fitness Food | On Th...</td>\n",
       "      <td>Healthy Breakfast Ideas | Fitness Food | Healt...</td>\n",
       "      <td>7.550000</td>\n",
       "      <td>Healthy Breakfast, Breakfast ideas, Healthy Br...</td>\n",
       "    </tr>\n",
       "    <tr>\n",
       "      <th>...</th>\n",
       "      <td>...</td>\n",
       "      <td>...</td>\n",
       "      <td>...</td>\n",
       "      <td>...</td>\n",
       "    </tr>\n",
       "    <tr>\n",
       "      <th>3893</th>\n",
       "      <td>Wong Family Taiwan Food Trip: Trying to Speak ...</td>\n",
       "      <td>♡SUBSCRIBE FOR WEEKLY VIDEOS 訂閱我的頻道你不會後悔☺\\n► h...</td>\n",
       "      <td>6.883333</td>\n",
       "      <td>taiwan vlog, taipei vlog, taiwan food, taiwane...</td>\n",
       "    </tr>\n",
       "    <tr>\n",
       "      <th>3924</th>\n",
       "      <td>45-min Full Body Fat Burn HIIT at home with NO...</td>\n",
       "      <td>♡SUBSCRIBE FOR WEEKLY VIDEOS 訂閱我的頻道你不會後悔☺\\n► h...</td>\n",
       "      <td>46.716667</td>\n",
       "      <td>quiet cardio, full body workout, home workout,...</td>\n",
       "    </tr>\n",
       "    <tr>\n",
       "      <th>3978</th>\n",
       "      <td>My Instagram Followers Control My Life For A D...</td>\n",
       "      <td>♡SUBSCRIBE FOR WEEKLY VIDEOS  ► http://bit.ly/...</td>\n",
       "      <td>16.600000</td>\n",
       "      <td>i let my instagram followers control my life f...</td>\n",
       "    </tr>\n",
       "    <tr>\n",
       "      <th>3982</th>\n",
       "      <td>36 HOURS IN SINGAPORE! WHAT WE EAT AND DO | Tr...</td>\n",
       "      <td>♡This video is in sponsored by BetterHelp\\nBet...</td>\n",
       "      <td>12.033333</td>\n",
       "      <td>singapore vlog, travel vlog, things to do in s...</td>\n",
       "    </tr>\n",
       "    <tr>\n",
       "      <th>3984</th>\n",
       "      <td>HUGE BIKINI TRY-ON HAUL ($15-20 ONLY!! PLUS SU...</td>\n",
       "      <td>♡SUBSCRIBE FOR WEEKLY VIDEOS  ► http://bit.ly/...</td>\n",
       "      <td>6.683333</td>\n",
       "      <td>summer haul, bikini haul, clothing haul, try o...</td>\n",
       "    </tr>\n",
       "  </tbody>\n",
       "</table>\n",
       "<p>161 rows × 4 columns</p>\n",
       "</div>"
      ],
      "text/plain": [
       "                                                  title  \\\n",
       "207   2000 REP Full Body & Abs Workout CHALLENGE for...   \n",
       "273   45 Min Full Body FAT BURN Workout | Get Flat A...   \n",
       "306   What I Eat To Lose Weight | Healthy Recipes | ...   \n",
       "369   Quick & Easy Healthy Snacks | 3 Pre Workout Sn...   \n",
       "394   Healthy Breakfast Ideas | Fitness Food | On Th...   \n",
       "...                                                 ...   \n",
       "3893  Wong Family Taiwan Food Trip: Trying to Speak ...   \n",
       "3924  45-min Full Body Fat Burn HIIT at home with NO...   \n",
       "3978  My Instagram Followers Control My Life For A D...   \n",
       "3982  36 HOURS IN SINGAPORE! WHAT WE EAT AND DO | Tr...   \n",
       "3984  HUGE BIKINI TRY-ON HAUL ($15-20 ONLY!! PLUS SU...   \n",
       "\n",
       "                                            description  durationMins  \\\n",
       "207   Thank you for 2milsubs! Dropping a hot INTENSE...     49.800000   \n",
       "273   This is a 45 minute, full body burn workout th...     46.883333   \n",
       "306   Hello you beautiful people! This week i'm tryi...     20.483333   \n",
       "369   Quick and Easy Healthy Snacks | 3 Pre Workout ...      4.350000   \n",
       "394   Healthy Breakfast Ideas | Fitness Food | Healt...      7.550000   \n",
       "...                                                 ...           ...   \n",
       "3893  ♡SUBSCRIBE FOR WEEKLY VIDEOS 訂閱我的頻道你不會後悔☺\\n► h...      6.883333   \n",
       "3924  ♡SUBSCRIBE FOR WEEKLY VIDEOS 訂閱我的頻道你不會後悔☺\\n► h...     46.716667   \n",
       "3978  ♡SUBSCRIBE FOR WEEKLY VIDEOS  ► http://bit.ly/...     16.600000   \n",
       "3982  ♡This video is in sponsored by BetterHelp\\nBet...     12.033333   \n",
       "3984  ♡SUBSCRIBE FOR WEEKLY VIDEOS  ► http://bit.ly/...      6.683333   \n",
       "\n",
       "                                           combinedTags  \n",
       "207   2000 rep challenge, workout challenge, 1 hour ...  \n",
       "273   abs, ab, abs exercise, abs workout, flat belly...  \n",
       "306   Lose Weight, What I Eat To Lose Weight, What I...  \n",
       "369   Healthy Snack, Healthy Snacks, Quick and easy,...  \n",
       "394   Healthy Breakfast, Breakfast ideas, Healthy Br...  \n",
       "...                                                 ...  \n",
       "3893  taiwan vlog, taipei vlog, taiwan food, taiwane...  \n",
       "3924  quiet cardio, full body workout, home workout,...  \n",
       "3978  i let my instagram followers control my life f...  \n",
       "3982  singapore vlog, travel vlog, things to do in s...  \n",
       "3984  summer haul, bikini haul, clothing haul, try o...  \n",
       "\n",
       "[161 rows x 4 columns]"
      ]
     },
     "execution_count": 37,
     "metadata": {},
     "output_type": "execute_result"
    }
   ],
   "source": [
    "workout_videos_df[workout_videos_df['workoutLength_mins'] > 30][['title','description','durationMins','combinedTags']]"
   ]
  },
  {
   "cell_type": "markdown",
   "id": "d66e1fae-a080-4cbe-92a2-322ad8efaf11",
   "metadata": {},
   "source": [
    "### Save the processed data"
   ]
  },
  {
   "cell_type": "code",
   "execution_count": null,
   "id": "6c54b331-8415-4197-a0d1-75f12f914e0e",
   "metadata": {},
   "outputs": [],
   "source": [
    "# Save dataframes as csv files \n",
    "channels_df.to_csv(\"../data/processed/fitness_channels_processed_2023_06_28.csv\", index=False)\n",
    "workout_videos_df.to_csv(\"../data/processed/fitness_videos_processed_2023_06_28.csv\", index=False)"
   ]
  }
 ],
 "metadata": {
  "kernelspec": {
   "display_name": "Python 3 (ipykernel)",
   "language": "python",
   "name": "python3"
  },
  "language_info": {
   "codemirror_mode": {
    "name": "ipython",
    "version": 3
   },
   "file_extension": ".py",
   "mimetype": "text/x-python",
   "name": "python",
   "nbconvert_exporter": "python",
   "pygments_lexer": "ipython3",
   "version": "3.9.16"
  }
 },
 "nbformat": 4,
 "nbformat_minor": 5
}
