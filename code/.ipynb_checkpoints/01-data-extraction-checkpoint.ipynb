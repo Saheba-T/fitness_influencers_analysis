{
 "cells": [
  {
   "cell_type": "markdown",
   "id": "a27446ab-e04d-4f4b-b4af-6d2568045efa",
   "metadata": {},
   "source": [
    "# Data Extraction"
   ]
  },
  {
   "cell_type": "markdown",
   "id": "6ce98274-9b1d-410a-ab37-e58331397cb1",
   "metadata": {},
   "source": [
    "There are 5 youtube fitness channels I am interested in. The channel names are MadFit, blogilates, emi wong, Rebecca-Louise and Chloe Ting.\n",
    "\n",
    "I used the YouTube Data API v3 to scrape the channel and video information. \n",
    "To do so, the following steps were carried out in order:\n",
    "- created a project on Google Developers Console\n",
    "- requested an authorization credential (API key). \n",
    "- enabled Youtube API for my project \n",
    "\n",
    "As for the functions that I have used to scrape the youtube data, I give credit to thu-vu92 for using the code provided her GitHub project 'youtube-api-analysis'. This project was inspired by the YouTube API tutorial video created by Thu Vu data analytics, titled 'Youtube API for Python: How to Create a Unique Data Portfolio Project'.\n"
   ]
  },
  {
   "cell_type": "code",
   "execution_count": 1,
   "id": "6e468b16-ea0e-4f23-8d7c-ec0e1dd9ed85",
   "metadata": {},
   "outputs": [],
   "source": [
    "import os\n",
    "import pandas as pd\n",
    "import youtube_scraping_functions as ytfuns  # Module to scrape channels and videos\n",
    "\n",
    "from googleapiclient.discovery import build  # Google API\n",
    "from IPython.display import JSON             # Disply JSON\n",
    "from functools import partial                # Use with Map to fix an argument\n"
   ]
  },
  {
   "cell_type": "code",
   "execution_count": 2,
   "id": "bc2a2e69-b07f-4ed1-a483-a6e8e1603e43",
   "metadata": {},
   "outputs": [],
   "source": [
    "# API Key generated from Google Cloud\n",
    "api_key = 'XXXX'\n",
    "\n",
    "# List of channels ids of the 5 fitness channel which was found from their respective youtube channel url\n",
    "channel_ids = ['UCpQ34afVgk8cRQBjSJ1xuJQ', # MadFit\n",
    "               'UCvGEK5_U-kLgO6-AMDPeTUQ', # EmiWong\n",
    "               'UCIJwWYOfsCfz6PjxbONYXSg', # Blogilates\n",
    "               'UCCgLoMYIyP0U56dEhEL1wXQ', # ChloeTing\n",
    "               'UCi0AqmA_3DGPFCu5qY0LLSg', # Rebecca-Louise\n",
    "              ]\n",
    "\n",
    "# Get credentials and create an API client\n",
    "youtube = build(\"youtube\", \"v3\", developerKey=api_key)"
   ]
  },
  {
   "cell_type": "markdown",
   "id": "185fd6c1-df13-4bce-9c27-882b6b341b95",
   "metadata": {},
   "source": [
    "### Get channel statistics "
   ]
  },
  {
   "cell_type": "code",
   "execution_count": 3,
   "id": "f6c3cf79-ff7b-41ce-950f-7bccf89889ea",
   "metadata": {},
   "outputs": [],
   "source": [
    "# get channel data and convert to dataframe\n",
    "channels_df = pd.DataFrame(ytfuns.get_channel_stats(youtube, channel_ids))"
   ]
  },
  {
   "cell_type": "markdown",
   "id": "7944eb7b-d8f9-4d83-8502-47c867b0117c",
   "metadata": {},
   "source": [
    "### Get video statistics "
   ]
  },
  {
   "cell_type": "code",
   "execution_count": 4,
   "id": "121a744c-c03d-46c4-8a1b-06d7fa9632b5",
   "metadata": {},
   "outputs": [
    {
     "name": "stdout",
     "output_type": "stream",
     "text": [
      "Getting video information from channel: Chloe Ting\n",
      "Getting video information from channel: blogilates\n",
      "Getting video information from channel: MadFit\n",
      "Getting video information from channel: Rebecca-Louise\n",
      "Getting video information from channel: emi wong\n"
     ]
    }
   ],
   "source": [
    "# create empty dataframe to store video data\n",
    "video_df = pd.DataFrame()\n",
    "\n",
    "# Create a dataframe of video statistics of all videos from all the channels\n",
    "for c in channels_df['ChannelName'].unique():\n",
    "    print(\"Getting video information from channel: \" + c)\n",
    "    playlist_id = channels_df.loc[channels_df['ChannelName']== c, 'playlistID'].iloc[0]\n",
    "    \n",
    "    # get list of video ids of all videos in the channel\n",
    "    video_ids = ytfuns.get_video_ids(youtube, playlist_id)\n",
    "    \n",
    "    # get video statistics of each video in the channel\n",
    "    video_data = pd.DataFrame(ytfuns.get_video_stats(youtube, video_ids))\n",
    "\n",
    "    # concat video data of the channel to the dataframe\n",
    "    video_df = pd.concat([video_df,video_data], ignore_index=True)\n"
   ]
  },
  {
   "cell_type": "markdown",
   "id": "73d31773-ab38-4e10-a5d8-c4310c6cedc4",
   "metadata": {},
   "source": [
    "#### Check that the data has been scraped properly"
   ]
  },
  {
   "cell_type": "code",
   "execution_count": 5,
   "id": "534c52fc-e445-42f0-a787-d7fe22d69634",
   "metadata": {
    "tags": []
   },
   "outputs": [
    {
     "data": {
      "text/html": [
       "<div>\n",
       "<style scoped>\n",
       "    .dataframe tbody tr th:only-of-type {\n",
       "        vertical-align: middle;\n",
       "    }\n",
       "\n",
       "    .dataframe tbody tr th {\n",
       "        vertical-align: top;\n",
       "    }\n",
       "\n",
       "    .dataframe thead th {\n",
       "        text-align: right;\n",
       "    }\n",
       "</style>\n",
       "<table border=\"1\" class=\"dataframe\">\n",
       "  <thead>\n",
       "    <tr style=\"text-align: right;\">\n",
       "      <th></th>\n",
       "      <th>ChannelName</th>\n",
       "      <th>ChannelDescription</th>\n",
       "      <th>PublishedDate</th>\n",
       "      <th>TotalSubscribers</th>\n",
       "      <th>TotalViews</th>\n",
       "      <th>TotalVideos</th>\n",
       "      <th>playlistID</th>\n",
       "    </tr>\n",
       "  </thead>\n",
       "  <tbody>\n",
       "    <tr>\n",
       "      <th>0</th>\n",
       "      <td>Chloe Ting</td>\n",
       "      <td>Subscribe to my channel and find weekly workou...</td>\n",
       "      <td>2011-08-17T04:29:09Z</td>\n",
       "      <td>24700000</td>\n",
       "      <td>2980737335</td>\n",
       "      <td>407</td>\n",
       "      <td>UUCgLoMYIyP0U56dEhEL1wXQ</td>\n",
       "    </tr>\n",
       "    <tr>\n",
       "      <th>1</th>\n",
       "      <td>blogilates</td>\n",
       "      <td>Hey guys! My name is Cassey Ho, I am a certifi...</td>\n",
       "      <td>2009-06-13T09:05:48Z</td>\n",
       "      <td>8690000</td>\n",
       "      <td>2820126375</td>\n",
       "      <td>1183</td>\n",
       "      <td>UUIJwWYOfsCfz6PjxbONYXSg</td>\n",
       "    </tr>\n",
       "    <tr>\n",
       "      <th>2</th>\n",
       "      <td>MadFit</td>\n",
       "      <td>This is a place where I post REAL TIME, AT HOM...</td>\n",
       "      <td>2018-03-02T01:46:06Z</td>\n",
       "      <td>8000000</td>\n",
       "      <td>943060836</td>\n",
       "      <td>723</td>\n",
       "      <td>UUpQ34afVgk8cRQBjSJ1xuJQ</td>\n",
       "    </tr>\n",
       "    <tr>\n",
       "      <th>3</th>\n",
       "      <td>Rebecca-Louise</td>\n",
       "      <td>Hey, \\n\\nWelcome to #TEAMBURN 🙌🏻 \\n\\nI am so e...</td>\n",
       "      <td>2012-09-22T18:04:00Z</td>\n",
       "      <td>720000</td>\n",
       "      <td>117668198</td>\n",
       "      <td>1257</td>\n",
       "      <td>UUi0AqmA_3DGPFCu5qY0LLSg</td>\n",
       "    </tr>\n",
       "    <tr>\n",
       "      <th>4</th>\n",
       "      <td>emi wong</td>\n",
       "      <td>welcome to my channel!\\nhope my videos can hel...</td>\n",
       "      <td>2014-11-02T14:43:34Z</td>\n",
       "      <td>6100000</td>\n",
       "      <td>819791658</td>\n",
       "      <td>499</td>\n",
       "      <td>UUvGEK5_U-kLgO6-AMDPeTUQ</td>\n",
       "    </tr>\n",
       "  </tbody>\n",
       "</table>\n",
       "</div>"
      ],
      "text/plain": [
       "      ChannelName                                 ChannelDescription  \\\n",
       "0      Chloe Ting  Subscribe to my channel and find weekly workou...   \n",
       "1      blogilates  Hey guys! My name is Cassey Ho, I am a certifi...   \n",
       "2          MadFit  This is a place where I post REAL TIME, AT HOM...   \n",
       "3  Rebecca-Louise  Hey, \\n\\nWelcome to #TEAMBURN 🙌🏻 \\n\\nI am so e...   \n",
       "4        emi wong  welcome to my channel!\\nhope my videos can hel...   \n",
       "\n",
       "          PublishedDate TotalSubscribers  TotalViews TotalVideos  \\\n",
       "0  2011-08-17T04:29:09Z         24700000  2980737335         407   \n",
       "1  2009-06-13T09:05:48Z          8690000  2820126375        1183   \n",
       "2  2018-03-02T01:46:06Z          8000000   943060836         723   \n",
       "3  2012-09-22T18:04:00Z           720000   117668198        1257   \n",
       "4  2014-11-02T14:43:34Z          6100000   819791658         499   \n",
       "\n",
       "                 playlistID  \n",
       "0  UUCgLoMYIyP0U56dEhEL1wXQ  \n",
       "1  UUIJwWYOfsCfz6PjxbONYXSg  \n",
       "2  UUpQ34afVgk8cRQBjSJ1xuJQ  \n",
       "3  UUi0AqmA_3DGPFCu5qY0LLSg  \n",
       "4  UUvGEK5_U-kLgO6-AMDPeTUQ  "
      ]
     },
     "execution_count": 5,
     "metadata": {},
     "output_type": "execute_result"
    }
   ],
   "source": [
    "channels_df.head()"
   ]
  },
  {
   "cell_type": "code",
   "execution_count": 6,
   "id": "fec25939-ba96-418a-a8cd-25f6ac1ae024",
   "metadata": {
    "tags": []
   },
   "outputs": [
    {
     "data": {
      "text/html": [
       "<div>\n",
       "<style scoped>\n",
       "    .dataframe tbody tr th:only-of-type {\n",
       "        vertical-align: middle;\n",
       "    }\n",
       "\n",
       "    .dataframe tbody tr th {\n",
       "        vertical-align: top;\n",
       "    }\n",
       "\n",
       "    .dataframe thead th {\n",
       "        text-align: right;\n",
       "    }\n",
       "</style>\n",
       "<table border=\"1\" class=\"dataframe\">\n",
       "  <thead>\n",
       "    <tr style=\"text-align: right;\">\n",
       "      <th></th>\n",
       "      <th>video_id</th>\n",
       "      <th>channelTitle</th>\n",
       "      <th>title</th>\n",
       "      <th>description</th>\n",
       "      <th>tags</th>\n",
       "      <th>publishedAt</th>\n",
       "      <th>viewCount</th>\n",
       "      <th>likeCount</th>\n",
       "      <th>favouriteCount</th>\n",
       "      <th>commentCount</th>\n",
       "      <th>duration</th>\n",
       "      <th>definition</th>\n",
       "    </tr>\n",
       "  </thead>\n",
       "  <tbody>\n",
       "    <tr>\n",
       "      <th>0</th>\n",
       "      <td>e7zzES8PeG4</td>\n",
       "      <td>Chloe Ting</td>\n",
       "      <td>Shocking Before After Transformation Results! ...</td>\n",
       "      <td>Check out these amazing before and after trans...</td>\n",
       "      <td>[Abs, Abs results, Abs workout results, Before...</td>\n",
       "      <td>2023-06-28T14:00:23Z</td>\n",
       "      <td>36033</td>\n",
       "      <td>2677</td>\n",
       "      <td>None</td>\n",
       "      <td>163</td>\n",
       "      <td>PT9M22S</td>\n",
       "      <td>hd</td>\n",
       "    </tr>\n",
       "    <tr>\n",
       "      <th>1</th>\n",
       "      <td>AZ1ihabY6bI</td>\n",
       "      <td>Chloe Ting</td>\n",
       "      <td>when you're having a bad day</td>\n",
       "      <td>Cute samoyed doggies in Seoul!!</td>\n",
       "      <td>[samoyed, seoul, day in my life, doggies, dogs...</td>\n",
       "      <td>2023-06-19T14:55:36Z</td>\n",
       "      <td>87568</td>\n",
       "      <td>4739</td>\n",
       "      <td>None</td>\n",
       "      <td>77</td>\n",
       "      <td>PT18S</td>\n",
       "      <td>hd</td>\n",
       "    </tr>\n",
       "    <tr>\n",
       "      <th>2</th>\n",
       "      <td>5GLA8MrlDnM</td>\n",
       "      <td>Chloe Ting</td>\n",
       "      <td>A day in my life living in Korea</td>\n",
       "      <td>Short vlog from a day out and about while in S...</td>\n",
       "      <td>[dayinmylife, korea, seoul, vlog, chloeting, c...</td>\n",
       "      <td>2023-06-05T14:51:22Z</td>\n",
       "      <td>317017</td>\n",
       "      <td>9618</td>\n",
       "      <td>None</td>\n",
       "      <td>708</td>\n",
       "      <td>PT12M37S</td>\n",
       "      <td>hd</td>\n",
       "    </tr>\n",
       "    <tr>\n",
       "      <th>3</th>\n",
       "      <td>IOJ7Fxa8e2Y</td>\n",
       "      <td>Chloe Ting</td>\n",
       "      <td>GROW YOUR BOOTY with these exercises</td>\n",
       "      <td>See the full video here: https://youtu.be/4zuY...</td>\n",
       "      <td>[glute workout, booty workout, gym workout, fi...</td>\n",
       "      <td>2023-05-24T15:32:44Z</td>\n",
       "      <td>171898</td>\n",
       "      <td>5484</td>\n",
       "      <td>None</td>\n",
       "      <td>57</td>\n",
       "      <td>PT23S</td>\n",
       "      <td>hd</td>\n",
       "    </tr>\n",
       "    <tr>\n",
       "      <th>4</th>\n",
       "      <td>ljNgkSctkXg</td>\n",
       "      <td>Chloe Ting</td>\n",
       "      <td>INTENSE Full Body Workout - 30 Min No Equipment</td>\n",
       "      <td>This is a 30 min full body intense workout fro...</td>\n",
       "      <td>[workout, home workout, full body workout, ful...</td>\n",
       "      <td>2023-05-17T14:00:27Z</td>\n",
       "      <td>620735</td>\n",
       "      <td>17223</td>\n",
       "      <td>None</td>\n",
       "      <td>863</td>\n",
       "      <td>PT31M14S</td>\n",
       "      <td>hd</td>\n",
       "    </tr>\n",
       "  </tbody>\n",
       "</table>\n",
       "</div>"
      ],
      "text/plain": [
       "      video_id channelTitle  \\\n",
       "0  e7zzES8PeG4   Chloe Ting   \n",
       "1  AZ1ihabY6bI   Chloe Ting   \n",
       "2  5GLA8MrlDnM   Chloe Ting   \n",
       "3  IOJ7Fxa8e2Y   Chloe Ting   \n",
       "4  ljNgkSctkXg   Chloe Ting   \n",
       "\n",
       "                                               title  \\\n",
       "0  Shocking Before After Transformation Results! ...   \n",
       "1                       when you're having a bad day   \n",
       "2                   A day in my life living in Korea   \n",
       "3               GROW YOUR BOOTY with these exercises   \n",
       "4    INTENSE Full Body Workout - 30 Min No Equipment   \n",
       "\n",
       "                                         description  \\\n",
       "0  Check out these amazing before and after trans...   \n",
       "1                    Cute samoyed doggies in Seoul!!   \n",
       "2  Short vlog from a day out and about while in S...   \n",
       "3  See the full video here: https://youtu.be/4zuY...   \n",
       "4  This is a 30 min full body intense workout fro...   \n",
       "\n",
       "                                                tags           publishedAt  \\\n",
       "0  [Abs, Abs results, Abs workout results, Before...  2023-06-28T14:00:23Z   \n",
       "1  [samoyed, seoul, day in my life, doggies, dogs...  2023-06-19T14:55:36Z   \n",
       "2  [dayinmylife, korea, seoul, vlog, chloeting, c...  2023-06-05T14:51:22Z   \n",
       "3  [glute workout, booty workout, gym workout, fi...  2023-05-24T15:32:44Z   \n",
       "4  [workout, home workout, full body workout, ful...  2023-05-17T14:00:27Z   \n",
       "\n",
       "  viewCount likeCount favouriteCount commentCount  duration definition  \n",
       "0     36033      2677           None          163   PT9M22S         hd  \n",
       "1     87568      4739           None           77     PT18S         hd  \n",
       "2    317017      9618           None          708  PT12M37S         hd  \n",
       "3    171898      5484           None           57     PT23S         hd  \n",
       "4    620735     17223           None          863  PT31M14S         hd  "
      ]
     },
     "execution_count": 6,
     "metadata": {},
     "output_type": "execute_result"
    }
   ],
   "source": [
    "video_df.head()"
   ]
  },
  {
   "cell_type": "markdown",
   "id": "f89c0e79-c7e0-434f-8390-3b51236d6e27",
   "metadata": {},
   "source": [
    "### Save raw data "
   ]
  },
  {
   "cell_type": "code",
   "execution_count": 7,
   "id": "b0429108-0040-4d22-a65c-b9fdfd47bbcf",
   "metadata": {},
   "outputs": [],
   "source": [
    "# get the current working directory; should be the top level project folder\n",
    "cwd = os.path.dirname(os.getcwd())\n",
    "\n",
    "# file path of where the scraped data will be stored\n",
    "path = cwd + \"/data/raw\""
   ]
  },
  {
   "cell_type": "code",
   "execution_count": 8,
   "id": "504d134d-55ba-42ca-be68-678a03f50a8a",
   "metadata": {},
   "outputs": [],
   "source": [
    "# Save dataframes as csv files \n",
    "channels_df.to_csv(path + \"/fitness_channels_2023_06_28.csv\", index=False)\n",
    "video_df.to_csv(path + \"/fitness_videos_2023_06_28.csv\", index=False)"
   ]
  }
 ],
 "metadata": {
  "kernelspec": {
   "display_name": "Python 3 (ipykernel)",
   "language": "python",
   "name": "python3"
  },
  "language_info": {
   "codemirror_mode": {
    "name": "ipython",
    "version": 3
   },
   "file_extension": ".py",
   "mimetype": "text/x-python",
   "name": "python",
   "nbconvert_exporter": "python",
   "pygments_lexer": "ipython3",
   "version": "3.9.16"
  }
 },
 "nbformat": 4,
 "nbformat_minor": 5
}
